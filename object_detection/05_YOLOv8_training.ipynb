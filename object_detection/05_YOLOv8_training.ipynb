{
 "cells": [
  {
   "cell_type": "code",
   "execution_count": 1,
   "id": "0290a5ca",
   "metadata": {},
   "outputs": [
    {
     "name": "stdout",
     "output_type": "stream",
     "text": [
      "Ultralytics 8.3.169  Python-3.11.7 torch-2.7.1+cpu CPU (Intel Core(TM) i9-10900K 3.70GHz)\n",
      "\u001b[34m\u001b[1mengine\\trainer: \u001b[0magnostic_nms=False, amp=True, augment=False, auto_augment=randaugment, batch=16, bgr=0.0, box=7.5, cache=False, cfg=None, classes=None, close_mosaic=10, cls=0.5, conf=None, copy_paste=0.0, copy_paste_mode=flip, cos_lr=False, cutmix=0.0, data=./data.yaml, degrees=0.0, deterministic=True, device=cpu, dfl=1.5, dnn=False, dropout=0.0, dynamic=False, embed=None, epochs=100, erasing=0.4, exist_ok=False, fliplr=0.5, flipud=0.0, format=torchscript, fraction=1.0, freeze=None, half=False, hsv_h=0.015, hsv_s=0.7, hsv_v=0.4, imgsz=640, int8=False, iou=0.7, keras=False, kobj=1.0, line_width=None, lr0=0.01, lrf=0.01, mask_ratio=4, max_det=300, mixup=0.0, mode=train, model=yolov8n.pt, momentum=0.937, mosaic=1.0, multi_scale=False, name=yolov8n-2506306, nbs=64, nms=False, opset=None, optimize=False, optimizer=auto, overlap_mask=True, patience=100, perspective=0.0, plots=True, pose=12.0, pretrained=True, profile=False, project=None, rect=False, resume=False, retina_masks=False, save=True, save_conf=False, save_crop=False, save_dir=runs\\detect\\yolov8n-2506306, save_frames=False, save_json=False, save_period=-1, save_txt=False, scale=0.5, seed=0, shear=0.0, show=False, show_boxes=True, show_conf=True, show_labels=True, simplify=True, single_cls=False, source=None, split=val, stream_buffer=False, task=detect, time=None, tracker=botsort.yaml, translate=0.1, val=True, verbose=True, vid_stride=1, visualize=False, warmup_bias_lr=0.1, warmup_epochs=3.0, warmup_momentum=0.8, weight_decay=0.0005, workers=8, workspace=None\n",
      "Overriding model.yaml nc=80 with nc=1\n",
      "\n",
      "                   from  n    params  module                                       arguments                     \n",
      "  0                  -1  1       464  ultralytics.nn.modules.conv.Conv             [3, 16, 3, 2]                 \n",
      "  1                  -1  1      4672  ultralytics.nn.modules.conv.Conv             [16, 32, 3, 2]                \n",
      "  2                  -1  1      7360  ultralytics.nn.modules.block.C2f             [32, 32, 1, True]             \n",
      "  3                  -1  1     18560  ultralytics.nn.modules.conv.Conv             [32, 64, 3, 2]                \n",
      "  4                  -1  2     49664  ultralytics.nn.modules.block.C2f             [64, 64, 2, True]             \n",
      "  5                  -1  1     73984  ultralytics.nn.modules.conv.Conv             [64, 128, 3, 2]               \n",
      "  6                  -1  2    197632  ultralytics.nn.modules.block.C2f             [128, 128, 2, True]           \n",
      "  7                  -1  1    295424  ultralytics.nn.modules.conv.Conv             [128, 256, 3, 2]              \n",
      "  8                  -1  1    460288  ultralytics.nn.modules.block.C2f             [256, 256, 1, True]           \n",
      "  9                  -1  1    164608  ultralytics.nn.modules.block.SPPF            [256, 256, 5]                 \n",
      " 10                  -1  1         0  torch.nn.modules.upsampling.Upsample         [None, 2, 'nearest']          \n",
      " 11             [-1, 6]  1         0  ultralytics.nn.modules.conv.Concat           [1]                           \n",
      " 12                  -1  1    148224  ultralytics.nn.modules.block.C2f             [384, 128, 1]                 \n",
      " 13                  -1  1         0  torch.nn.modules.upsampling.Upsample         [None, 2, 'nearest']          \n",
      " 14             [-1, 4]  1         0  ultralytics.nn.modules.conv.Concat           [1]                           \n",
      " 15                  -1  1     37248  ultralytics.nn.modules.block.C2f             [192, 64, 1]                  \n",
      " 16                  -1  1     36992  ultralytics.nn.modules.conv.Conv             [64, 64, 3, 2]                \n",
      " 17            [-1, 12]  1         0  ultralytics.nn.modules.conv.Concat           [1]                           \n",
      " 18                  -1  1    123648  ultralytics.nn.modules.block.C2f             [192, 128, 1]                 \n",
      " 19                  -1  1    147712  ultralytics.nn.modules.conv.Conv             [128, 128, 3, 2]              \n",
      " 20             [-1, 9]  1         0  ultralytics.nn.modules.conv.Concat           [1]                           \n",
      " 21                  -1  1    493056  ultralytics.nn.modules.block.C2f             [384, 256, 1]                 \n",
      " 22        [15, 18, 21]  1    751507  ultralytics.nn.modules.head.Detect           [1, [64, 128, 256]]           \n",
      "Model summary: 129 layers, 3,011,043 parameters, 3,011,027 gradients, 8.2 GFLOPs\n",
      "\n",
      "Transferred 319/355 items from pretrained weights\n",
      "Freezing layer 'model.22.dfl.conv.weight'\n",
      "\u001b[34m\u001b[1mtrain: \u001b[0mFast image access  (ping: 0.10.0 ms, read: 148.524.2 MB/s, size: 51.6 KB)\n"
     ]
    },
    {
     "name": "stderr",
     "output_type": "stream",
     "text": [
      "\u001b[34m\u001b[1mtrain: \u001b[0mScanning D:\\code\\Summer2025\\train\\labels.cache... 1000 images, 4 backgrounds, 0 corrupt: 100%|██████████| 1000/1000 [00:00<?, ?it/s]"
     ]
    },
    {
     "name": "stdout",
     "output_type": "stream",
     "text": [
      "\u001b[34m\u001b[1mtrain: \u001b[0mD:\\code\\Summer2025\\train\\images\\13_250424_CH1_10_20250424043108_frame1_patch_22_jpg.rf.357f4ca98e2a090c1d601a9ff5f5a085.jpg: 1 duplicate labels removed\n",
      "\u001b[34m\u001b[1mtrain: \u001b[0mD:\\code\\Summer2025\\train\\images\\16_250427_CH1_10_20250427044004_frame1_patch_00_jpg.rf.3001d0ddedb6e57af8d88f7b86a9ec01.jpg: 1 duplicate labels removed\n",
      "\u001b[34m\u001b[1mval: \u001b[0mFast image access  (ping: 0.10.0 ms, read: 125.732.3 MB/s, size: 42.0 KB)\n"
     ]
    },
    {
     "name": "stderr",
     "output_type": "stream",
     "text": [
      "\n",
      "c:\\Users\\Admin\\anaconda3\\Lib\\site-packages\\torch\\utils\\data\\dataloader.py:665: UserWarning: 'pin_memory' argument is set as true but no accelerator is found, then device pinned memory won't be used.\n",
      "  warnings.warn(warn_msg)\n",
      "\u001b[34m\u001b[1mval: \u001b[0mScanning D:\\code\\Summer2025\\train\\labels.cache... 1000 images, 4 backgrounds, 0 corrupt: 100%|██████████| 1000/1000 [00:00<?, ?it/s]"
     ]
    },
    {
     "name": "stdout",
     "output_type": "stream",
     "text": [
      "\u001b[34m\u001b[1mtrain: \u001b[0mD:\\code\\Summer2025\\train\\images\\13_250424_CH1_10_20250424043108_frame1_patch_22_jpg.rf.357f4ca98e2a090c1d601a9ff5f5a085.jpg: 1 duplicate labels removed\n",
      "\u001b[34m\u001b[1mtrain: \u001b[0mD:\\code\\Summer2025\\train\\images\\16_250427_CH1_10_20250427044004_frame1_patch_00_jpg.rf.3001d0ddedb6e57af8d88f7b86a9ec01.jpg: 1 duplicate labels removed\n"
     ]
    },
    {
     "name": "stderr",
     "output_type": "stream",
     "text": [
      "\n",
      "c:\\Users\\Admin\\anaconda3\\Lib\\site-packages\\torch\\utils\\data\\dataloader.py:665: UserWarning: 'pin_memory' argument is set as true but no accelerator is found, then device pinned memory won't be used.\n",
      "  warnings.warn(warn_msg)\n"
     ]
    },
    {
     "name": "stdout",
     "output_type": "stream",
     "text": [
      "Plotting labels to runs\\detect\\yolov8n-2506306\\labels.jpg... \n",
      "\u001b[34m\u001b[1moptimizer:\u001b[0m 'optimizer=auto' found, ignoring 'lr0=0.01' and 'momentum=0.937' and determining best 'optimizer', 'lr0' and 'momentum' automatically... \n",
      "\u001b[34m\u001b[1moptimizer:\u001b[0m AdamW(lr=0.002, momentum=0.9) with parameter groups 57 weight(decay=0.0), 64 weight(decay=0.0005), 63 bias(decay=0.0)\n",
      "Image sizes 640 train, 640 val\n",
      "Using 0 dataloader workers\n",
      "Logging results to \u001b[1mruns\\detect\\yolov8n-2506306\u001b[0m\n",
      "Starting training for 100 epochs...\n",
      "\n",
      "      Epoch    GPU_mem   box_loss   cls_loss   dfl_loss  Instances       Size\n"
     ]
    },
    {
     "name": "stderr",
     "output_type": "stream",
     "text": [
      "      1/100         0G       1.25      1.611      1.156        236        640: 100%|██████████| 63/63 [03:10<00:00,  3.02s/it]\n",
      "                 Class     Images  Instances      Box(P          R      mAP50  mAP50-95): 100%|██████████| 32/32 [01:21<00:00,  2.54s/it]"
     ]
    },
    {
     "name": "stdout",
     "output_type": "stream",
     "text": [
      "                   all       1000      26547      0.744      0.781      0.794      0.514\n"
     ]
    },
    {
     "name": "stderr",
     "output_type": "stream",
     "text": [
      "\n"
     ]
    },
    {
     "name": "stdout",
     "output_type": "stream",
     "text": [
      "\n",
      "      Epoch    GPU_mem   box_loss   cls_loss   dfl_loss  Instances       Size\n"
     ]
    },
    {
     "name": "stderr",
     "output_type": "stream",
     "text": [
      "      2/100         0G       1.14     0.9181      1.094        353        640: 100%|██████████| 63/63 [03:12<00:00,  3.05s/it]\n",
      "                 Class     Images  Instances      Box(P          R      mAP50  mAP50-95): 100%|██████████| 32/32 [01:21<00:00,  2.54s/it]"
     ]
    },
    {
     "name": "stdout",
     "output_type": "stream",
     "text": [
      "                   all       1000      26547      0.793      0.822      0.856      0.566\n"
     ]
    },
    {
     "name": "stderr",
     "output_type": "stream",
     "text": [
      "\n"
     ]
    },
    {
     "name": "stdout",
     "output_type": "stream",
     "text": [
      "\n",
      "      Epoch    GPU_mem   box_loss   cls_loss   dfl_loss  Instances       Size\n"
     ]
    },
    {
     "name": "stderr",
     "output_type": "stream",
     "text": [
      "      3/100         0G      1.158     0.8693      1.099        255        640: 100%|██████████| 63/63 [03:10<00:00,  3.02s/it]\n",
      "                 Class     Images  Instances      Box(P          R      mAP50  mAP50-95): 100%|██████████| 32/32 [01:30<00:00,  2.83s/it]"
     ]
    },
    {
     "name": "stdout",
     "output_type": "stream",
     "text": [
      "                   all       1000      26547       0.79      0.843      0.859      0.576\n"
     ]
    },
    {
     "name": "stderr",
     "output_type": "stream",
     "text": [
      "\n"
     ]
    },
    {
     "name": "stdout",
     "output_type": "stream",
     "text": [
      "\n",
      "      Epoch    GPU_mem   box_loss   cls_loss   dfl_loss  Instances       Size\n"
     ]
    },
    {
     "name": "stderr",
     "output_type": "stream",
     "text": [
      "      4/100         0G      1.142     0.8311       1.09        400        640: 100%|██████████| 63/63 [03:12<00:00,  3.06s/it]\n",
      "                 Class     Images  Instances      Box(P          R      mAP50  mAP50-95): 100%|██████████| 32/32 [01:27<00:00,  2.72s/it]"
     ]
    },
    {
     "name": "stdout",
     "output_type": "stream",
     "text": [
      "                   all       1000      26547      0.801      0.885       0.89      0.615\n"
     ]
    },
    {
     "name": "stderr",
     "output_type": "stream",
     "text": [
      "\n"
     ]
    },
    {
     "name": "stdout",
     "output_type": "stream",
     "text": [
      "\n",
      "      Epoch    GPU_mem   box_loss   cls_loss   dfl_loss  Instances       Size\n"
     ]
    },
    {
     "name": "stderr",
     "output_type": "stream",
     "text": [
      "      5/100         0G       1.12     0.8018      1.076        447        640: 100%|██████████| 63/63 [03:11<00:00,  3.04s/it]\n",
      "                 Class     Images  Instances      Box(P          R      mAP50  mAP50-95): 100%|██████████| 32/32 [01:31<00:00,  2.87s/it]"
     ]
    },
    {
     "name": "stdout",
     "output_type": "stream",
     "text": [
      "                   all       1000      26547      0.806      0.862      0.892      0.607\n"
     ]
    },
    {
     "name": "stderr",
     "output_type": "stream",
     "text": [
      "\n"
     ]
    },
    {
     "name": "stdout",
     "output_type": "stream",
     "text": [
      "\n",
      "      Epoch    GPU_mem   box_loss   cls_loss   dfl_loss  Instances       Size\n"
     ]
    },
    {
     "name": "stderr",
     "output_type": "stream",
     "text": [
      "      6/100         0G      1.112     0.7708      1.076        355        640: 100%|██████████| 63/63 [03:08<00:00,  3.00s/it]\n",
      "                 Class     Images  Instances      Box(P          R      mAP50  mAP50-95): 100%|██████████| 32/32 [01:23<00:00,  2.62s/it]"
     ]
    },
    {
     "name": "stdout",
     "output_type": "stream",
     "text": [
      "                   all       1000      26547      0.824      0.872      0.913      0.632\n"
     ]
    },
    {
     "name": "stderr",
     "output_type": "stream",
     "text": [
      "\n"
     ]
    },
    {
     "name": "stdout",
     "output_type": "stream",
     "text": [
      "\n",
      "      Epoch    GPU_mem   box_loss   cls_loss   dfl_loss  Instances       Size\n"
     ]
    },
    {
     "name": "stderr",
     "output_type": "stream",
     "text": [
      "      7/100         0G       1.11     0.7491      1.073        205        640: 100%|██████████| 63/63 [03:14<00:00,  3.09s/it]\n",
      "                 Class     Images  Instances      Box(P          R      mAP50  mAP50-95): 100%|██████████| 32/32 [01:23<00:00,  2.61s/it]"
     ]
    },
    {
     "name": "stdout",
     "output_type": "stream",
     "text": [
      "                   all       1000      26547      0.835      0.875      0.916      0.646\n"
     ]
    },
    {
     "name": "stderr",
     "output_type": "stream",
     "text": [
      "\n"
     ]
    },
    {
     "name": "stdout",
     "output_type": "stream",
     "text": [
      "\n",
      "      Epoch    GPU_mem   box_loss   cls_loss   dfl_loss  Instances       Size\n"
     ]
    },
    {
     "name": "stderr",
     "output_type": "stream",
     "text": [
      "      8/100         0G      1.088     0.7377      1.066        265        640: 100%|██████████| 63/63 [03:07<00:00,  2.98s/it]\n",
      "                 Class     Images  Instances      Box(P          R      mAP50  mAP50-95): 100%|██████████| 32/32 [01:19<00:00,  2.49s/it]"
     ]
    },
    {
     "name": "stdout",
     "output_type": "stream",
     "text": [
      "                   all       1000      26547      0.829      0.879      0.907      0.634\n"
     ]
    },
    {
     "name": "stderr",
     "output_type": "stream",
     "text": [
      "\n"
     ]
    },
    {
     "name": "stdout",
     "output_type": "stream",
     "text": [
      "\n",
      "      Epoch    GPU_mem   box_loss   cls_loss   dfl_loss  Instances       Size\n"
     ]
    },
    {
     "name": "stderr",
     "output_type": "stream",
     "text": [
      "      9/100         0G      1.079      0.728      1.055        292        640: 100%|██████████| 63/63 [03:10<00:00,  3.02s/it]\n",
      "                 Class     Images  Instances      Box(P          R      mAP50  mAP50-95): 100%|██████████| 32/32 [01:20<00:00,  2.51s/it]"
     ]
    },
    {
     "name": "stdout",
     "output_type": "stream",
     "text": [
      "                   all       1000      26547      0.814      0.881        0.9      0.635\n"
     ]
    },
    {
     "name": "stderr",
     "output_type": "stream",
     "text": [
      "\n"
     ]
    },
    {
     "name": "stdout",
     "output_type": "stream",
     "text": [
      "\n",
      "      Epoch    GPU_mem   box_loss   cls_loss   dfl_loss  Instances       Size\n"
     ]
    },
    {
     "name": "stderr",
     "output_type": "stream",
     "text": [
      "     10/100         0G      1.094     0.7215      1.066        320        640: 100%|██████████| 63/63 [03:09<00:00,  3.01s/it]\n",
      "                 Class     Images  Instances      Box(P          R      mAP50  mAP50-95): 100%|██████████| 32/32 [01:22<00:00,  2.57s/it]"
     ]
    },
    {
     "name": "stdout",
     "output_type": "stream",
     "text": [
      "                   all       1000      26547      0.818      0.881      0.897      0.612\n"
     ]
    },
    {
     "name": "stderr",
     "output_type": "stream",
     "text": [
      "\n"
     ]
    },
    {
     "name": "stdout",
     "output_type": "stream",
     "text": [
      "\n",
      "      Epoch    GPU_mem   box_loss   cls_loss   dfl_loss  Instances       Size\n"
     ]
    },
    {
     "name": "stderr",
     "output_type": "stream",
     "text": [
      "     11/100         0G      1.084     0.7103      1.062        270        640: 100%|██████████| 63/63 [03:11<00:00,  3.03s/it]\n",
      "                 Class     Images  Instances      Box(P          R      mAP50  mAP50-95): 100%|██████████| 32/32 [01:21<00:00,  2.53s/it]"
     ]
    },
    {
     "name": "stdout",
     "output_type": "stream",
     "text": [
      "                   all       1000      26547       0.81      0.886      0.891       0.62\n"
     ]
    },
    {
     "name": "stderr",
     "output_type": "stream",
     "text": [
      "\n"
     ]
    },
    {
     "name": "stdout",
     "output_type": "stream",
     "text": [
      "\n",
      "      Epoch    GPU_mem   box_loss   cls_loss   dfl_loss  Instances       Size\n"
     ]
    },
    {
     "name": "stderr",
     "output_type": "stream",
     "text": [
      "     12/100         0G      1.079     0.7116      1.061        221        640: 100%|██████████| 63/63 [03:09<00:00,  3.01s/it]\n",
      "                 Class     Images  Instances      Box(P          R      mAP50  mAP50-95): 100%|██████████| 32/32 [01:19<00:00,  2.50s/it]"
     ]
    },
    {
     "name": "stdout",
     "output_type": "stream",
     "text": [
      "                   all       1000      26547      0.821       0.88      0.907       0.64\n"
     ]
    },
    {
     "name": "stderr",
     "output_type": "stream",
     "text": [
      "\n"
     ]
    },
    {
     "name": "stdout",
     "output_type": "stream",
     "text": [
      "\n",
      "      Epoch    GPU_mem   box_loss   cls_loss   dfl_loss  Instances       Size\n"
     ]
    },
    {
     "name": "stderr",
     "output_type": "stream",
     "text": [
      "     13/100         0G      1.075     0.7155      1.063        244        640: 100%|██████████| 63/63 [03:08<00:00,  2.99s/it]\n",
      "                 Class     Images  Instances      Box(P          R      mAP50  mAP50-95): 100%|██████████| 32/32 [01:21<00:00,  2.53s/it]"
     ]
    },
    {
     "name": "stdout",
     "output_type": "stream",
     "text": [
      "                   all       1000      26547      0.811      0.856      0.891      0.609\n"
     ]
    },
    {
     "name": "stderr",
     "output_type": "stream",
     "text": [
      "\n"
     ]
    },
    {
     "name": "stdout",
     "output_type": "stream",
     "text": [
      "\n",
      "      Epoch    GPU_mem   box_loss   cls_loss   dfl_loss  Instances       Size\n"
     ]
    },
    {
     "name": "stderr",
     "output_type": "stream",
     "text": [
      "     14/100         0G      1.071     0.6958      1.063        203        640: 100%|██████████| 63/63 [03:10<00:00,  3.02s/it]\n",
      "                 Class     Images  Instances      Box(P          R      mAP50  mAP50-95): 100%|██████████| 32/32 [01:19<00:00,  2.50s/it]"
     ]
    },
    {
     "name": "stdout",
     "output_type": "stream",
     "text": [
      "                   all       1000      26547      0.822      0.892      0.916      0.657\n"
     ]
    },
    {
     "name": "stderr",
     "output_type": "stream",
     "text": [
      "\n"
     ]
    },
    {
     "name": "stdout",
     "output_type": "stream",
     "text": [
      "\n",
      "      Epoch    GPU_mem   box_loss   cls_loss   dfl_loss  Instances       Size\n"
     ]
    },
    {
     "name": "stderr",
     "output_type": "stream",
     "text": [
      "     15/100         0G      1.072     0.6868      1.058        237        640: 100%|██████████| 63/63 [03:10<00:00,  3.03s/it]\n",
      "                 Class     Images  Instances      Box(P          R      mAP50  mAP50-95): 100%|██████████| 32/32 [01:20<00:00,  2.52s/it]"
     ]
    },
    {
     "name": "stdout",
     "output_type": "stream",
     "text": [
      "                   all       1000      26547      0.827      0.888      0.914      0.649\n"
     ]
    },
    {
     "name": "stderr",
     "output_type": "stream",
     "text": [
      "\n"
     ]
    },
    {
     "name": "stdout",
     "output_type": "stream",
     "text": [
      "\n",
      "      Epoch    GPU_mem   box_loss   cls_loss   dfl_loss  Instances       Size\n"
     ]
    },
    {
     "name": "stderr",
     "output_type": "stream",
     "text": [
      "     16/100         0G      1.049     0.6818       1.06        255        640: 100%|██████████| 63/63 [03:09<00:00,  3.01s/it]\n",
      "                 Class     Images  Instances      Box(P          R      mAP50  mAP50-95): 100%|██████████| 32/32 [01:19<00:00,  2.48s/it]"
     ]
    },
    {
     "name": "stdout",
     "output_type": "stream",
     "text": [
      "                   all       1000      26547      0.825      0.895       0.91      0.647\n"
     ]
    },
    {
     "name": "stderr",
     "output_type": "stream",
     "text": [
      "\n"
     ]
    },
    {
     "name": "stdout",
     "output_type": "stream",
     "text": [
      "\n",
      "      Epoch    GPU_mem   box_loss   cls_loss   dfl_loss  Instances       Size\n"
     ]
    },
    {
     "name": "stderr",
     "output_type": "stream",
     "text": [
      "     17/100         0G      1.061     0.6786      1.049        327        640: 100%|██████████| 63/63 [03:15<00:00,  3.10s/it]\n",
      "                 Class     Images  Instances      Box(P          R      mAP50  mAP50-95): 100%|██████████| 32/32 [01:20<00:00,  2.51s/it]"
     ]
    },
    {
     "name": "stdout",
     "output_type": "stream",
     "text": [
      "                   all       1000      26547      0.831      0.887      0.919      0.651\n"
     ]
    },
    {
     "name": "stderr",
     "output_type": "stream",
     "text": [
      "\n"
     ]
    },
    {
     "name": "stdout",
     "output_type": "stream",
     "text": [
      "\n",
      "      Epoch    GPU_mem   box_loss   cls_loss   dfl_loss  Instances       Size\n"
     ]
    },
    {
     "name": "stderr",
     "output_type": "stream",
     "text": [
      "     18/100         0G      1.072     0.6781      1.062        371        640: 100%|██████████| 63/63 [03:10<00:00,  3.02s/it]\n",
      "                 Class     Images  Instances      Box(P          R      mAP50  mAP50-95): 100%|██████████| 32/32 [01:19<00:00,  2.50s/it]"
     ]
    },
    {
     "name": "stdout",
     "output_type": "stream",
     "text": [
      "                   all       1000      26547      0.831      0.889       0.92      0.652\n"
     ]
    },
    {
     "name": "stderr",
     "output_type": "stream",
     "text": [
      "\n"
     ]
    },
    {
     "name": "stdout",
     "output_type": "stream",
     "text": [
      "\n",
      "      Epoch    GPU_mem   box_loss   cls_loss   dfl_loss  Instances       Size\n"
     ]
    },
    {
     "name": "stderr",
     "output_type": "stream",
     "text": [
      "     19/100         0G      1.052     0.6664      1.051        325        640: 100%|██████████| 63/63 [03:10<00:00,  3.02s/it]\n",
      "                 Class     Images  Instances      Box(P          R      mAP50  mAP50-95): 100%|██████████| 32/32 [01:19<00:00,  2.50s/it]"
     ]
    },
    {
     "name": "stdout",
     "output_type": "stream",
     "text": [
      "                   all       1000      26547      0.824      0.888      0.914      0.651\n"
     ]
    },
    {
     "name": "stderr",
     "output_type": "stream",
     "text": [
      "\n"
     ]
    },
    {
     "name": "stdout",
     "output_type": "stream",
     "text": [
      "\n",
      "      Epoch    GPU_mem   box_loss   cls_loss   dfl_loss  Instances       Size\n"
     ]
    },
    {
     "name": "stderr",
     "output_type": "stream",
     "text": [
      "     20/100         0G      1.054     0.6559      1.046        321        640: 100%|██████████| 63/63 [03:11<00:00,  3.04s/it]\n",
      "                 Class     Images  Instances      Box(P          R      mAP50  mAP50-95): 100%|██████████| 32/32 [01:19<00:00,  2.47s/it]"
     ]
    },
    {
     "name": "stdout",
     "output_type": "stream",
     "text": [
      "                   all       1000      26547      0.836      0.888      0.924       0.67\n"
     ]
    },
    {
     "name": "stderr",
     "output_type": "stream",
     "text": [
      "\n"
     ]
    },
    {
     "name": "stdout",
     "output_type": "stream",
     "text": [
      "\n",
      "      Epoch    GPU_mem   box_loss   cls_loss   dfl_loss  Instances       Size\n"
     ]
    },
    {
     "name": "stderr",
     "output_type": "stream",
     "text": [
      "     21/100         0G      1.048     0.6533       1.05        333        640: 100%|██████████| 63/63 [03:09<00:00,  3.01s/it]\n",
      "                 Class     Images  Instances      Box(P          R      mAP50  mAP50-95): 100%|██████████| 32/32 [01:20<00:00,  2.50s/it]"
     ]
    },
    {
     "name": "stdout",
     "output_type": "stream",
     "text": [
      "                   all       1000      26547      0.834      0.893      0.923      0.664\n"
     ]
    },
    {
     "name": "stderr",
     "output_type": "stream",
     "text": [
      "\n"
     ]
    },
    {
     "name": "stdout",
     "output_type": "stream",
     "text": [
      "\n",
      "      Epoch    GPU_mem   box_loss   cls_loss   dfl_loss  Instances       Size\n"
     ]
    },
    {
     "name": "stderr",
     "output_type": "stream",
     "text": [
      "     22/100         0G      1.039     0.6492      1.044        272        640: 100%|██████████| 63/63 [03:10<00:00,  3.02s/it]\n",
      "                 Class     Images  Instances      Box(P          R      mAP50  mAP50-95): 100%|██████████| 32/32 [01:19<00:00,  2.50s/it]"
     ]
    },
    {
     "name": "stdout",
     "output_type": "stream",
     "text": [
      "                   all       1000      26547      0.831      0.898      0.925      0.657\n"
     ]
    },
    {
     "name": "stderr",
     "output_type": "stream",
     "text": [
      "\n"
     ]
    },
    {
     "name": "stdout",
     "output_type": "stream",
     "text": [
      "\n",
      "      Epoch    GPU_mem   box_loss   cls_loss   dfl_loss  Instances       Size\n"
     ]
    },
    {
     "name": "stderr",
     "output_type": "stream",
     "text": [
      "     23/100         0G      1.043     0.6574      1.047        285        640: 100%|██████████| 63/63 [03:09<00:00,  3.01s/it]\n",
      "                 Class     Images  Instances      Box(P          R      mAP50  mAP50-95): 100%|██████████| 32/32 [01:19<00:00,  2.49s/it]"
     ]
    },
    {
     "name": "stdout",
     "output_type": "stream",
     "text": [
      "                   all       1000      26547      0.819      0.896      0.905      0.642\n"
     ]
    },
    {
     "name": "stderr",
     "output_type": "stream",
     "text": [
      "\n"
     ]
    },
    {
     "name": "stdout",
     "output_type": "stream",
     "text": [
      "\n",
      "      Epoch    GPU_mem   box_loss   cls_loss   dfl_loss  Instances       Size\n"
     ]
    },
    {
     "name": "stderr",
     "output_type": "stream",
     "text": [
      "     24/100         0G      1.058     0.6545      1.048        380        640: 100%|██████████| 63/63 [03:11<00:00,  3.03s/it]\n",
      "                 Class     Images  Instances      Box(P          R      mAP50  mAP50-95): 100%|██████████| 32/32 [01:19<00:00,  2.47s/it]"
     ]
    },
    {
     "name": "stdout",
     "output_type": "stream",
     "text": [
      "                   all       1000      26547      0.832      0.894      0.925      0.667\n"
     ]
    },
    {
     "name": "stderr",
     "output_type": "stream",
     "text": [
      "\n"
     ]
    },
    {
     "name": "stdout",
     "output_type": "stream",
     "text": [
      "\n",
      "      Epoch    GPU_mem   box_loss   cls_loss   dfl_loss  Instances       Size\n"
     ]
    },
    {
     "name": "stderr",
     "output_type": "stream",
     "text": [
      "     25/100         0G      1.035     0.6354      1.043        279        640: 100%|██████████| 63/63 [03:08<00:00,  3.00s/it]\n",
      "                 Class     Images  Instances      Box(P          R      mAP50  mAP50-95): 100%|██████████| 32/32 [01:19<00:00,  2.47s/it]"
     ]
    },
    {
     "name": "stdout",
     "output_type": "stream",
     "text": [
      "                   all       1000      26547      0.829      0.894       0.92      0.669\n"
     ]
    },
    {
     "name": "stderr",
     "output_type": "stream",
     "text": [
      "\n"
     ]
    },
    {
     "name": "stdout",
     "output_type": "stream",
     "text": [
      "\n",
      "      Epoch    GPU_mem   box_loss   cls_loss   dfl_loss  Instances       Size\n"
     ]
    },
    {
     "name": "stderr",
     "output_type": "stream",
     "text": [
      "     26/100         0G       1.05     0.6471      1.044        176        640: 100%|██████████| 63/63 [03:11<00:00,  3.04s/it]\n",
      "                 Class     Images  Instances      Box(P          R      mAP50  mAP50-95): 100%|██████████| 32/32 [01:19<00:00,  2.49s/it]"
     ]
    },
    {
     "name": "stdout",
     "output_type": "stream",
     "text": [
      "                   all       1000      26547      0.831      0.883      0.919      0.666\n"
     ]
    },
    {
     "name": "stderr",
     "output_type": "stream",
     "text": [
      "\n"
     ]
    },
    {
     "name": "stdout",
     "output_type": "stream",
     "text": [
      "\n",
      "      Epoch    GPU_mem   box_loss   cls_loss   dfl_loss  Instances       Size\n"
     ]
    },
    {
     "name": "stderr",
     "output_type": "stream",
     "text": [
      "     27/100         0G      1.042     0.6388      1.042        522        640: 100%|██████████| 63/63 [03:10<00:00,  3.02s/it]\n",
      "                 Class     Images  Instances      Box(P          R      mAP50  mAP50-95): 100%|██████████| 32/32 [01:19<00:00,  2.47s/it]"
     ]
    },
    {
     "name": "stdout",
     "output_type": "stream",
     "text": [
      "                   all       1000      26547      0.834      0.898      0.925      0.674\n"
     ]
    },
    {
     "name": "stderr",
     "output_type": "stream",
     "text": [
      "\n"
     ]
    },
    {
     "name": "stdout",
     "output_type": "stream",
     "text": [
      "\n",
      "      Epoch    GPU_mem   box_loss   cls_loss   dfl_loss  Instances       Size\n"
     ]
    },
    {
     "name": "stderr",
     "output_type": "stream",
     "text": [
      "     28/100         0G       1.04     0.6393      1.045        254        640: 100%|██████████| 63/63 [03:10<00:00,  3.02s/it]\n",
      "                 Class     Images  Instances      Box(P          R      mAP50  mAP50-95): 100%|██████████| 32/32 [01:18<00:00,  2.46s/it]"
     ]
    },
    {
     "name": "stdout",
     "output_type": "stream",
     "text": [
      "                   all       1000      26547      0.832      0.896      0.925      0.668\n"
     ]
    },
    {
     "name": "stderr",
     "output_type": "stream",
     "text": [
      "\n"
     ]
    },
    {
     "name": "stdout",
     "output_type": "stream",
     "text": [
      "\n",
      "      Epoch    GPU_mem   box_loss   cls_loss   dfl_loss  Instances       Size\n"
     ]
    },
    {
     "name": "stderr",
     "output_type": "stream",
     "text": [
      "     29/100         0G       1.03     0.6318      1.045        354        640: 100%|██████████| 63/63 [03:09<00:00,  3.00s/it]\n",
      "                 Class     Images  Instances      Box(P          R      mAP50  mAP50-95): 100%|██████████| 32/32 [01:19<00:00,  2.48s/it]"
     ]
    },
    {
     "name": "stdout",
     "output_type": "stream",
     "text": [
      "                   all       1000      26547      0.839      0.897      0.931      0.676\n"
     ]
    },
    {
     "name": "stderr",
     "output_type": "stream",
     "text": [
      "\n"
     ]
    },
    {
     "name": "stdout",
     "output_type": "stream",
     "text": [
      "\n",
      "      Epoch    GPU_mem   box_loss   cls_loss   dfl_loss  Instances       Size\n"
     ]
    },
    {
     "name": "stderr",
     "output_type": "stream",
     "text": [
      "     30/100         0G      1.035     0.6405      1.043        193        640: 100%|██████████| 63/63 [03:10<00:00,  3.02s/it]\n",
      "                 Class     Images  Instances      Box(P          R      mAP50  mAP50-95): 100%|██████████| 32/32 [01:19<00:00,  2.49s/it]"
     ]
    },
    {
     "name": "stdout",
     "output_type": "stream",
     "text": [
      "                   all       1000      26547      0.838      0.901      0.928       0.68\n"
     ]
    },
    {
     "name": "stderr",
     "output_type": "stream",
     "text": [
      "\n"
     ]
    },
    {
     "name": "stdout",
     "output_type": "stream",
     "text": [
      "\n",
      "      Epoch    GPU_mem   box_loss   cls_loss   dfl_loss  Instances       Size\n"
     ]
    },
    {
     "name": "stderr",
     "output_type": "stream",
     "text": [
      "     31/100         0G      1.033     0.6357      1.043        319        640: 100%|██████████| 63/63 [03:10<00:00,  3.02s/it]\n",
      "                 Class     Images  Instances      Box(P          R      mAP50  mAP50-95): 100%|██████████| 32/32 [01:19<00:00,  2.49s/it]"
     ]
    },
    {
     "name": "stdout",
     "output_type": "stream",
     "text": [
      "                   all       1000      26547      0.838      0.896      0.926      0.663\n"
     ]
    },
    {
     "name": "stderr",
     "output_type": "stream",
     "text": [
      "\n"
     ]
    },
    {
     "name": "stdout",
     "output_type": "stream",
     "text": [
      "\n",
      "      Epoch    GPU_mem   box_loss   cls_loss   dfl_loss  Instances       Size\n"
     ]
    },
    {
     "name": "stderr",
     "output_type": "stream",
     "text": [
      "     32/100         0G      1.026     0.6277      1.044        371        640: 100%|██████████| 63/63 [03:10<00:00,  3.02s/it]\n",
      "                 Class     Images  Instances      Box(P          R      mAP50  mAP50-95): 100%|██████████| 32/32 [01:18<00:00,  2.46s/it]"
     ]
    },
    {
     "name": "stdout",
     "output_type": "stream",
     "text": [
      "                   all       1000      26547       0.84        0.9      0.931      0.678\n"
     ]
    },
    {
     "name": "stderr",
     "output_type": "stream",
     "text": [
      "\n"
     ]
    },
    {
     "name": "stdout",
     "output_type": "stream",
     "text": [
      "\n",
      "      Epoch    GPU_mem   box_loss   cls_loss   dfl_loss  Instances       Size\n"
     ]
    },
    {
     "name": "stderr",
     "output_type": "stream",
     "text": [
      "     33/100         0G      1.014      0.625      1.036        306        640: 100%|██████████| 63/63 [03:09<00:00,  3.01s/it]\n",
      "                 Class     Images  Instances      Box(P          R      mAP50  mAP50-95): 100%|██████████| 32/32 [01:19<00:00,  2.49s/it]"
     ]
    },
    {
     "name": "stdout",
     "output_type": "stream",
     "text": [
      "                   all       1000      26547      0.839      0.891      0.927      0.679\n"
     ]
    },
    {
     "name": "stderr",
     "output_type": "stream",
     "text": [
      "\n"
     ]
    },
    {
     "name": "stdout",
     "output_type": "stream",
     "text": [
      "\n",
      "      Epoch    GPU_mem   box_loss   cls_loss   dfl_loss  Instances       Size\n"
     ]
    },
    {
     "name": "stderr",
     "output_type": "stream",
     "text": [
      "     34/100         0G      1.024     0.6202      1.032        269        640: 100%|██████████| 63/63 [03:12<00:00,  3.05s/it]\n",
      "                 Class     Images  Instances      Box(P          R      mAP50  mAP50-95): 100%|██████████| 32/32 [01:18<00:00,  2.46s/it]"
     ]
    },
    {
     "name": "stdout",
     "output_type": "stream",
     "text": [
      "                   all       1000      26547      0.841      0.898       0.93      0.679\n"
     ]
    },
    {
     "name": "stderr",
     "output_type": "stream",
     "text": [
      "\n"
     ]
    },
    {
     "name": "stdout",
     "output_type": "stream",
     "text": [
      "\n",
      "      Epoch    GPU_mem   box_loss   cls_loss   dfl_loss  Instances       Size\n"
     ]
    },
    {
     "name": "stderr",
     "output_type": "stream",
     "text": [
      "     35/100         0G      1.015     0.6144      1.034        227        640: 100%|██████████| 63/63 [03:10<00:00,  3.03s/it]\n",
      "                 Class     Images  Instances      Box(P          R      mAP50  mAP50-95): 100%|██████████| 32/32 [01:19<00:00,  2.47s/it]"
     ]
    },
    {
     "name": "stdout",
     "output_type": "stream",
     "text": [
      "                   all       1000      26547      0.836      0.907      0.929      0.679\n"
     ]
    },
    {
     "name": "stderr",
     "output_type": "stream",
     "text": [
      "\n"
     ]
    },
    {
     "name": "stdout",
     "output_type": "stream",
     "text": [
      "\n",
      "      Epoch    GPU_mem   box_loss   cls_loss   dfl_loss  Instances       Size\n"
     ]
    },
    {
     "name": "stderr",
     "output_type": "stream",
     "text": [
      "     36/100         0G      1.018      0.614      1.034        231        640: 100%|██████████| 63/63 [03:10<00:00,  3.03s/it]\n",
      "                 Class     Images  Instances      Box(P          R      mAP50  mAP50-95): 100%|██████████| 32/32 [01:19<00:00,  2.48s/it]"
     ]
    },
    {
     "name": "stdout",
     "output_type": "stream",
     "text": [
      "                   all       1000      26547      0.844      0.897      0.931      0.686\n"
     ]
    },
    {
     "name": "stderr",
     "output_type": "stream",
     "text": [
      "\n"
     ]
    },
    {
     "name": "stdout",
     "output_type": "stream",
     "text": [
      "\n",
      "      Epoch    GPU_mem   box_loss   cls_loss   dfl_loss  Instances       Size\n"
     ]
    },
    {
     "name": "stderr",
     "output_type": "stream",
     "text": [
      "     37/100         0G      1.027     0.6218      1.041        376        640: 100%|██████████| 63/63 [03:10<00:00,  3.03s/it]\n",
      "                 Class     Images  Instances      Box(P          R      mAP50  mAP50-95): 100%|██████████| 32/32 [01:19<00:00,  2.47s/it]"
     ]
    },
    {
     "name": "stdout",
     "output_type": "stream",
     "text": [
      "                   all       1000      26547      0.837      0.902      0.928      0.682\n"
     ]
    },
    {
     "name": "stderr",
     "output_type": "stream",
     "text": [
      "\n"
     ]
    },
    {
     "name": "stdout",
     "output_type": "stream",
     "text": [
      "\n",
      "      Epoch    GPU_mem   box_loss   cls_loss   dfl_loss  Instances       Size\n"
     ]
    },
    {
     "name": "stderr",
     "output_type": "stream",
     "text": [
      "     38/100         0G       1.02      0.617      1.041        214        640: 100%|██████████| 63/63 [03:09<00:00,  3.01s/it]\n",
      "                 Class     Images  Instances      Box(P          R      mAP50  mAP50-95): 100%|██████████| 32/32 [01:19<00:00,  2.50s/it]"
     ]
    },
    {
     "name": "stdout",
     "output_type": "stream",
     "text": [
      "                   all       1000      26547      0.843      0.901       0.93      0.681\n"
     ]
    },
    {
     "name": "stderr",
     "output_type": "stream",
     "text": [
      "\n"
     ]
    },
    {
     "name": "stdout",
     "output_type": "stream",
     "text": [
      "\n",
      "      Epoch    GPU_mem   box_loss   cls_loss   dfl_loss  Instances       Size\n"
     ]
    },
    {
     "name": "stderr",
     "output_type": "stream",
     "text": [
      "     39/100         0G      1.016     0.6214      1.036        276        640: 100%|██████████| 63/63 [03:09<00:00,  3.01s/it]\n",
      "                 Class     Images  Instances      Box(P          R      mAP50  mAP50-95): 100%|██████████| 32/32 [01:18<00:00,  2.47s/it]"
     ]
    },
    {
     "name": "stdout",
     "output_type": "stream",
     "text": [
      "                   all       1000      26547      0.843      0.903      0.933       0.69\n"
     ]
    },
    {
     "name": "stderr",
     "output_type": "stream",
     "text": [
      "\n"
     ]
    },
    {
     "name": "stdout",
     "output_type": "stream",
     "text": [
      "\n",
      "      Epoch    GPU_mem   box_loss   cls_loss   dfl_loss  Instances       Size\n"
     ]
    },
    {
     "name": "stderr",
     "output_type": "stream",
     "text": [
      "     40/100         0G      1.017     0.6169      1.039        280        640: 100%|██████████| 63/63 [03:10<00:00,  3.03s/it]\n",
      "                 Class     Images  Instances      Box(P          R      mAP50  mAP50-95): 100%|██████████| 32/32 [01:19<00:00,  2.48s/it]"
     ]
    },
    {
     "name": "stdout",
     "output_type": "stream",
     "text": [
      "                   all       1000      26547      0.845      0.906      0.935      0.687\n"
     ]
    },
    {
     "name": "stderr",
     "output_type": "stream",
     "text": [
      "\n"
     ]
    },
    {
     "name": "stdout",
     "output_type": "stream",
     "text": [
      "\n",
      "      Epoch    GPU_mem   box_loss   cls_loss   dfl_loss  Instances       Size\n"
     ]
    },
    {
     "name": "stderr",
     "output_type": "stream",
     "text": [
      "     41/100         0G      1.011     0.6076      1.033        270        640: 100%|██████████| 63/63 [03:10<00:00,  3.02s/it]\n",
      "                 Class     Images  Instances      Box(P          R      mAP50  mAP50-95): 100%|██████████| 32/32 [01:18<00:00,  2.47s/it]"
     ]
    },
    {
     "name": "stdout",
     "output_type": "stream",
     "text": [
      "                   all       1000      26547      0.845      0.899      0.931      0.686\n"
     ]
    },
    {
     "name": "stderr",
     "output_type": "stream",
     "text": [
      "\n"
     ]
    },
    {
     "name": "stdout",
     "output_type": "stream",
     "text": [
      "\n",
      "      Epoch    GPU_mem   box_loss   cls_loss   dfl_loss  Instances       Size\n"
     ]
    },
    {
     "name": "stderr",
     "output_type": "stream",
     "text": [
      "     42/100         0G      1.006     0.6037      1.028        473        640: 100%|██████████| 63/63 [03:09<00:00,  3.01s/it]\n",
      "                 Class     Images  Instances      Box(P          R      mAP50  mAP50-95): 100%|██████████| 32/32 [01:19<00:00,  2.48s/it]"
     ]
    },
    {
     "name": "stdout",
     "output_type": "stream",
     "text": [
      "                   all       1000      26547      0.844      0.907      0.935      0.691\n"
     ]
    },
    {
     "name": "stderr",
     "output_type": "stream",
     "text": [
      "\n"
     ]
    },
    {
     "name": "stdout",
     "output_type": "stream",
     "text": [
      "\n",
      "      Epoch    GPU_mem   box_loss   cls_loss   dfl_loss  Instances       Size\n"
     ]
    },
    {
     "name": "stderr",
     "output_type": "stream",
     "text": [
      "     43/100         0G      1.002      0.597      1.029        222        640: 100%|██████████| 63/63 [03:11<00:00,  3.04s/it]\n",
      "                 Class     Images  Instances      Box(P          R      mAP50  mAP50-95): 100%|██████████| 32/32 [01:19<00:00,  2.48s/it]"
     ]
    },
    {
     "name": "stdout",
     "output_type": "stream",
     "text": [
      "                   all       1000      26547      0.845      0.893       0.93      0.683\n"
     ]
    },
    {
     "name": "stderr",
     "output_type": "stream",
     "text": [
      "\n"
     ]
    },
    {
     "name": "stdout",
     "output_type": "stream",
     "text": [
      "\n",
      "      Epoch    GPU_mem   box_loss   cls_loss   dfl_loss  Instances       Size\n"
     ]
    },
    {
     "name": "stderr",
     "output_type": "stream",
     "text": [
      "     44/100         0G      1.006     0.6138      1.032        299        640: 100%|██████████| 63/63 [03:09<00:00,  3.02s/it]\n",
      "                 Class     Images  Instances      Box(P          R      mAP50  mAP50-95): 100%|██████████| 32/32 [01:19<00:00,  2.48s/it]"
     ]
    },
    {
     "name": "stdout",
     "output_type": "stream",
     "text": [
      "                   all       1000      26547      0.851      0.894       0.93      0.682\n"
     ]
    },
    {
     "name": "stderr",
     "output_type": "stream",
     "text": [
      "\n"
     ]
    },
    {
     "name": "stdout",
     "output_type": "stream",
     "text": [
      "\n",
      "      Epoch    GPU_mem   box_loss   cls_loss   dfl_loss  Instances       Size\n"
     ]
    },
    {
     "name": "stderr",
     "output_type": "stream",
     "text": [
      "     45/100         0G     0.9976     0.5987      1.028        178        640: 100%|██████████| 63/63 [03:10<00:00,  3.03s/it]\n",
      "                 Class     Images  Instances      Box(P          R      mAP50  mAP50-95): 100%|██████████| 32/32 [01:18<00:00,  2.46s/it]"
     ]
    },
    {
     "name": "stdout",
     "output_type": "stream",
     "text": [
      "                   all       1000      26547      0.843      0.907      0.932      0.686\n"
     ]
    },
    {
     "name": "stderr",
     "output_type": "stream",
     "text": [
      "\n"
     ]
    },
    {
     "name": "stdout",
     "output_type": "stream",
     "text": [
      "\n",
      "      Epoch    GPU_mem   box_loss   cls_loss   dfl_loss  Instances       Size\n"
     ]
    },
    {
     "name": "stderr",
     "output_type": "stream",
     "text": [
      "     46/100         0G      1.012     0.5995      1.031        282        640: 100%|██████████| 63/63 [03:09<00:00,  3.01s/it]\n",
      "                 Class     Images  Instances      Box(P          R      mAP50  mAP50-95): 100%|██████████| 32/32 [01:19<00:00,  2.49s/it]"
     ]
    },
    {
     "name": "stdout",
     "output_type": "stream",
     "text": [
      "                   all       1000      26547      0.849      0.909      0.935      0.693\n"
     ]
    },
    {
     "name": "stderr",
     "output_type": "stream",
     "text": [
      "\n"
     ]
    },
    {
     "name": "stdout",
     "output_type": "stream",
     "text": [
      "\n",
      "      Epoch    GPU_mem   box_loss   cls_loss   dfl_loss  Instances       Size\n"
     ]
    },
    {
     "name": "stderr",
     "output_type": "stream",
     "text": [
      "     47/100         0G      1.008     0.5945      1.026        235        640: 100%|██████████| 63/63 [03:11<00:00,  3.04s/it]\n",
      "                 Class     Images  Instances      Box(P          R      mAP50  mAP50-95): 100%|██████████| 32/32 [01:19<00:00,  2.48s/it]"
     ]
    },
    {
     "name": "stdout",
     "output_type": "stream",
     "text": [
      "                   all       1000      26547      0.847      0.906      0.936      0.693\n"
     ]
    },
    {
     "name": "stderr",
     "output_type": "stream",
     "text": [
      "\n"
     ]
    },
    {
     "name": "stdout",
     "output_type": "stream",
     "text": [
      "\n",
      "      Epoch    GPU_mem   box_loss   cls_loss   dfl_loss  Instances       Size\n"
     ]
    },
    {
     "name": "stderr",
     "output_type": "stream",
     "text": [
      "     48/100         0G      1.013     0.6019      1.031        354        640: 100%|██████████| 63/63 [03:09<00:00,  3.02s/it]\n",
      "                 Class     Images  Instances      Box(P          R      mAP50  mAP50-95): 100%|██████████| 32/32 [01:19<00:00,  2.48s/it]"
     ]
    },
    {
     "name": "stdout",
     "output_type": "stream",
     "text": [
      "                   all       1000      26547      0.849      0.908      0.939      0.697\n"
     ]
    },
    {
     "name": "stderr",
     "output_type": "stream",
     "text": [
      "\n"
     ]
    },
    {
     "name": "stdout",
     "output_type": "stream",
     "text": [
      "\n",
      "      Epoch    GPU_mem   box_loss   cls_loss   dfl_loss  Instances       Size\n"
     ]
    },
    {
     "name": "stderr",
     "output_type": "stream",
     "text": [
      "     49/100         0G     0.9998     0.5931      1.026        272        640: 100%|██████████| 63/63 [03:11<00:00,  3.04s/it]\n",
      "                 Class     Images  Instances      Box(P          R      mAP50  mAP50-95): 100%|██████████| 32/32 [01:19<00:00,  2.47s/it]"
     ]
    },
    {
     "name": "stdout",
     "output_type": "stream",
     "text": [
      "                   all       1000      26547      0.848      0.901      0.934      0.693\n"
     ]
    },
    {
     "name": "stderr",
     "output_type": "stream",
     "text": [
      "\n"
     ]
    },
    {
     "name": "stdout",
     "output_type": "stream",
     "text": [
      "\n",
      "      Epoch    GPU_mem   box_loss   cls_loss   dfl_loss  Instances       Size\n"
     ]
    },
    {
     "name": "stderr",
     "output_type": "stream",
     "text": [
      "     50/100         0G      1.012     0.5915      1.028        345        640: 100%|██████████| 63/63 [03:12<00:00,  3.05s/it]\n",
      "                 Class     Images  Instances      Box(P          R      mAP50  mAP50-95): 100%|██████████| 32/32 [01:19<00:00,  2.49s/it]"
     ]
    },
    {
     "name": "stdout",
     "output_type": "stream",
     "text": [
      "                   all       1000      26547       0.85      0.909      0.938      0.698\n"
     ]
    },
    {
     "name": "stderr",
     "output_type": "stream",
     "text": [
      "\n"
     ]
    },
    {
     "name": "stdout",
     "output_type": "stream",
     "text": [
      "\n",
      "      Epoch    GPU_mem   box_loss   cls_loss   dfl_loss  Instances       Size\n"
     ]
    },
    {
     "name": "stderr",
     "output_type": "stream",
     "text": [
      "     51/100         0G      1.005     0.5813      1.027        229        640: 100%|██████████| 63/63 [03:11<00:00,  3.04s/it]\n",
      "                 Class     Images  Instances      Box(P          R      mAP50  mAP50-95): 100%|██████████| 32/32 [01:19<00:00,  2.48s/it]"
     ]
    },
    {
     "name": "stdout",
     "output_type": "stream",
     "text": [
      "                   all       1000      26547      0.853      0.912       0.94        0.7\n"
     ]
    },
    {
     "name": "stderr",
     "output_type": "stream",
     "text": [
      "\n"
     ]
    },
    {
     "name": "stdout",
     "output_type": "stream",
     "text": [
      "\n",
      "      Epoch    GPU_mem   box_loss   cls_loss   dfl_loss  Instances       Size\n"
     ]
    },
    {
     "name": "stderr",
     "output_type": "stream",
     "text": [
      "     52/100         0G     0.9899     0.5832      1.021        378        640: 100%|██████████| 63/63 [03:10<00:00,  3.02s/it]\n",
      "                 Class     Images  Instances      Box(P          R      mAP50  mAP50-95): 100%|██████████| 32/32 [01:19<00:00,  2.47s/it]"
     ]
    },
    {
     "name": "stdout",
     "output_type": "stream",
     "text": [
      "                   all       1000      26547      0.857      0.905      0.942      0.701\n"
     ]
    },
    {
     "name": "stderr",
     "output_type": "stream",
     "text": [
      "\n"
     ]
    },
    {
     "name": "stdout",
     "output_type": "stream",
     "text": [
      "\n",
      "      Epoch    GPU_mem   box_loss   cls_loss   dfl_loss  Instances       Size\n"
     ]
    },
    {
     "name": "stderr",
     "output_type": "stream",
     "text": [
      "     53/100         0G     0.9863     0.5862      1.024        230        640: 100%|██████████| 63/63 [03:10<00:00,  3.03s/it]\n",
      "                 Class     Images  Instances      Box(P          R      mAP50  mAP50-95): 100%|██████████| 32/32 [01:19<00:00,  2.47s/it]"
     ]
    },
    {
     "name": "stdout",
     "output_type": "stream",
     "text": [
      "                   all       1000      26547      0.858      0.907      0.941      0.701\n",
      "\n",
      "      Epoch    GPU_mem   box_loss   cls_loss   dfl_loss  Instances       Size\n"
     ]
    },
    {
     "name": "stderr",
     "output_type": "stream",
     "text": [
      "\n",
      "     54/100         0G      1.002     0.5847      1.026        417        640: 100%|██████████| 63/63 [03:10<00:00,  3.02s/it]\n",
      "                 Class     Images  Instances      Box(P          R      mAP50  mAP50-95): 100%|██████████| 32/32 [01:20<00:00,  2.50s/it]"
     ]
    },
    {
     "name": "stdout",
     "output_type": "stream",
     "text": [
      "                   all       1000      26547      0.851      0.916      0.941      0.704\n"
     ]
    },
    {
     "name": "stderr",
     "output_type": "stream",
     "text": [
      "\n"
     ]
    },
    {
     "name": "stdout",
     "output_type": "stream",
     "text": [
      "\n",
      "      Epoch    GPU_mem   box_loss   cls_loss   dfl_loss  Instances       Size\n"
     ]
    },
    {
     "name": "stderr",
     "output_type": "stream",
     "text": [
      "     55/100         0G          1     0.5874      1.027        215        640: 100%|██████████| 63/63 [03:09<00:00,  3.01s/it]\n",
      "                 Class     Images  Instances      Box(P          R      mAP50  mAP50-95): 100%|██████████| 32/32 [01:19<00:00,  2.49s/it]"
     ]
    },
    {
     "name": "stdout",
     "output_type": "stream",
     "text": [
      "                   all       1000      26547      0.855      0.913      0.941      0.701\n"
     ]
    },
    {
     "name": "stderr",
     "output_type": "stream",
     "text": [
      "\n"
     ]
    },
    {
     "name": "stdout",
     "output_type": "stream",
     "text": [
      "\n",
      "      Epoch    GPU_mem   box_loss   cls_loss   dfl_loss  Instances       Size\n"
     ]
    },
    {
     "name": "stderr",
     "output_type": "stream",
     "text": [
      "     56/100         0G     0.9812     0.5732      1.021        304        640: 100%|██████████| 63/63 [03:10<00:00,  3.02s/it]\n",
      "                 Class     Images  Instances      Box(P          R      mAP50  mAP50-95): 100%|██████████| 32/32 [01:19<00:00,  2.48s/it]"
     ]
    },
    {
     "name": "stdout",
     "output_type": "stream",
     "text": [
      "                   all       1000      26547      0.851      0.915      0.941      0.705\n"
     ]
    },
    {
     "name": "stderr",
     "output_type": "stream",
     "text": [
      "\n"
     ]
    },
    {
     "name": "stdout",
     "output_type": "stream",
     "text": [
      "\n",
      "      Epoch    GPU_mem   box_loss   cls_loss   dfl_loss  Instances       Size\n"
     ]
    },
    {
     "name": "stderr",
     "output_type": "stream",
     "text": [
      "     57/100         0G     0.9774     0.5718      1.018        260        640: 100%|██████████| 63/63 [03:09<00:00,  3.01s/it]\n",
      "                 Class     Images  Instances      Box(P          R      mAP50  mAP50-95): 100%|██████████| 32/32 [01:19<00:00,  2.49s/it]"
     ]
    },
    {
     "name": "stdout",
     "output_type": "stream",
     "text": [
      "                   all       1000      26547      0.851      0.911      0.941      0.705\n"
     ]
    },
    {
     "name": "stderr",
     "output_type": "stream",
     "text": [
      "\n"
     ]
    },
    {
     "name": "stdout",
     "output_type": "stream",
     "text": [
      "\n",
      "      Epoch    GPU_mem   box_loss   cls_loss   dfl_loss  Instances       Size\n"
     ]
    },
    {
     "name": "stderr",
     "output_type": "stream",
     "text": [
      "     58/100         0G      1.001     0.5823       1.02        221        640: 100%|██████████| 63/63 [03:11<00:00,  3.04s/it]\n",
      "                 Class     Images  Instances      Box(P          R      mAP50  mAP50-95): 100%|██████████| 32/32 [01:19<00:00,  2.49s/it]"
     ]
    },
    {
     "name": "stdout",
     "output_type": "stream",
     "text": [
      "                   all       1000      26547      0.853      0.914      0.943      0.706\n"
     ]
    },
    {
     "name": "stderr",
     "output_type": "stream",
     "text": [
      "\n"
     ]
    },
    {
     "name": "stdout",
     "output_type": "stream",
     "text": [
      "\n",
      "      Epoch    GPU_mem   box_loss   cls_loss   dfl_loss  Instances       Size\n"
     ]
    },
    {
     "name": "stderr",
     "output_type": "stream",
     "text": [
      "     59/100         0G     0.9798     0.5718      1.019        288        640: 100%|██████████| 63/63 [03:11<00:00,  3.04s/it]\n",
      "                 Class     Images  Instances      Box(P          R      mAP50  mAP50-95): 100%|██████████| 32/32 [01:19<00:00,  2.48s/it]"
     ]
    },
    {
     "name": "stdout",
     "output_type": "stream",
     "text": [
      "                   all       1000      26547      0.859      0.916      0.944      0.709\n"
     ]
    },
    {
     "name": "stderr",
     "output_type": "stream",
     "text": [
      "\n"
     ]
    },
    {
     "name": "stdout",
     "output_type": "stream",
     "text": [
      "\n",
      "      Epoch    GPU_mem   box_loss   cls_loss   dfl_loss  Instances       Size\n"
     ]
    },
    {
     "name": "stderr",
     "output_type": "stream",
     "text": [
      "     60/100         0G     0.9813     0.5662      1.016        324        640: 100%|██████████| 63/63 [03:10<00:00,  3.02s/it]\n",
      "                 Class     Images  Instances      Box(P          R      mAP50  mAP50-95): 100%|██████████| 32/32 [01:19<00:00,  2.49s/it]"
     ]
    },
    {
     "name": "stdout",
     "output_type": "stream",
     "text": [
      "                   all       1000      26547      0.857      0.916      0.944      0.706\n"
     ]
    },
    {
     "name": "stderr",
     "output_type": "stream",
     "text": [
      "\n"
     ]
    },
    {
     "name": "stdout",
     "output_type": "stream",
     "text": [
      "\n",
      "      Epoch    GPU_mem   box_loss   cls_loss   dfl_loss  Instances       Size\n"
     ]
    },
    {
     "name": "stderr",
     "output_type": "stream",
     "text": [
      "     61/100         0G     0.9751     0.5656      1.018        375        640: 100%|██████████| 63/63 [03:09<00:00,  3.01s/it]\n",
      "                 Class     Images  Instances      Box(P          R      mAP50  mAP50-95): 100%|██████████| 32/32 [01:17<00:00,  2.42s/it]"
     ]
    },
    {
     "name": "stdout",
     "output_type": "stream",
     "text": [
      "                   all       1000      26547      0.855      0.919      0.944      0.712\n"
     ]
    },
    {
     "name": "stderr",
     "output_type": "stream",
     "text": [
      "\n"
     ]
    },
    {
     "name": "stdout",
     "output_type": "stream",
     "text": [
      "\n",
      "      Epoch    GPU_mem   box_loss   cls_loss   dfl_loss  Instances       Size\n"
     ]
    },
    {
     "name": "stderr",
     "output_type": "stream",
     "text": [
      "     62/100         0G      0.979     0.5704      1.015        299        640: 100%|██████████| 63/63 [03:08<00:00,  2.99s/it]\n",
      "                 Class     Images  Instances      Box(P          R      mAP50  mAP50-95): 100%|██████████| 32/32 [01:17<00:00,  2.41s/it]"
     ]
    },
    {
     "name": "stdout",
     "output_type": "stream",
     "text": [
      "                   all       1000      26547       0.86      0.914      0.946      0.714\n"
     ]
    },
    {
     "name": "stderr",
     "output_type": "stream",
     "text": [
      "\n"
     ]
    },
    {
     "name": "stdout",
     "output_type": "stream",
     "text": [
      "\n",
      "      Epoch    GPU_mem   box_loss   cls_loss   dfl_loss  Instances       Size\n"
     ]
    },
    {
     "name": "stderr",
     "output_type": "stream",
     "text": [
      "     63/100         0G     0.9721      0.564      1.013        280        640: 100%|██████████| 63/63 [03:10<00:00,  3.02s/it]\n",
      "                 Class     Images  Instances      Box(P          R      mAP50  mAP50-95): 100%|██████████| 32/32 [01:18<00:00,  2.46s/it]"
     ]
    },
    {
     "name": "stdout",
     "output_type": "stream",
     "text": [
      "                   all       1000      26547      0.859      0.909      0.943      0.702\n"
     ]
    },
    {
     "name": "stderr",
     "output_type": "stream",
     "text": [
      "\n"
     ]
    },
    {
     "name": "stdout",
     "output_type": "stream",
     "text": [
      "\n",
      "      Epoch    GPU_mem   box_loss   cls_loss   dfl_loss  Instances       Size\n"
     ]
    },
    {
     "name": "stderr",
     "output_type": "stream",
     "text": [
      "     64/100         0G     0.9736     0.5667      1.013        344        640: 100%|██████████| 63/63 [03:08<00:00,  3.00s/it]\n",
      "                 Class     Images  Instances      Box(P          R      mAP50  mAP50-95): 100%|██████████| 32/32 [01:18<00:00,  2.44s/it]"
     ]
    },
    {
     "name": "stdout",
     "output_type": "stream",
     "text": [
      "                   all       1000      26547      0.854       0.92      0.943      0.703\n"
     ]
    },
    {
     "name": "stderr",
     "output_type": "stream",
     "text": [
      "\n"
     ]
    },
    {
     "name": "stdout",
     "output_type": "stream",
     "text": [
      "\n",
      "      Epoch    GPU_mem   box_loss   cls_loss   dfl_loss  Instances       Size\n"
     ]
    },
    {
     "name": "stderr",
     "output_type": "stream",
     "text": [
      "     65/100         0G     0.9715     0.5714      1.018        244        640: 100%|██████████| 63/63 [03:09<00:00,  3.01s/it]\n",
      "                 Class     Images  Instances      Box(P          R      mAP50  mAP50-95): 100%|██████████| 32/32 [01:18<00:00,  2.44s/it]"
     ]
    },
    {
     "name": "stdout",
     "output_type": "stream",
     "text": [
      "                   all       1000      26547      0.858      0.915      0.945      0.716\n"
     ]
    },
    {
     "name": "stderr",
     "output_type": "stream",
     "text": [
      "\n"
     ]
    },
    {
     "name": "stdout",
     "output_type": "stream",
     "text": [
      "\n",
      "      Epoch    GPU_mem   box_loss   cls_loss   dfl_loss  Instances       Size\n"
     ]
    },
    {
     "name": "stderr",
     "output_type": "stream",
     "text": [
      "     66/100         0G     0.9652     0.5572      1.016        348        640: 100%|██████████| 63/63 [03:09<00:00,  3.00s/it]\n",
      "                 Class     Images  Instances      Box(P          R      mAP50  mAP50-95): 100%|██████████| 32/32 [01:18<00:00,  2.45s/it]"
     ]
    },
    {
     "name": "stdout",
     "output_type": "stream",
     "text": [
      "                   all       1000      26547      0.861      0.917      0.946      0.717\n"
     ]
    },
    {
     "name": "stderr",
     "output_type": "stream",
     "text": [
      "\n"
     ]
    },
    {
     "name": "stdout",
     "output_type": "stream",
     "text": [
      "\n",
      "      Epoch    GPU_mem   box_loss   cls_loss   dfl_loss  Instances       Size\n"
     ]
    },
    {
     "name": "stderr",
     "output_type": "stream",
     "text": [
      "     67/100         0G     0.9691     0.5675      1.016        277        640: 100%|██████████| 63/63 [03:08<00:00,  2.99s/it]\n",
      "                 Class     Images  Instances      Box(P          R      mAP50  mAP50-95): 100%|██████████| 32/32 [01:18<00:00,  2.44s/it]"
     ]
    },
    {
     "name": "stdout",
     "output_type": "stream",
     "text": [
      "                   all       1000      26547      0.861       0.92      0.947      0.718\n"
     ]
    },
    {
     "name": "stderr",
     "output_type": "stream",
     "text": [
      "\n"
     ]
    },
    {
     "name": "stdout",
     "output_type": "stream",
     "text": [
      "\n",
      "      Epoch    GPU_mem   box_loss   cls_loss   dfl_loss  Instances       Size\n"
     ]
    },
    {
     "name": "stderr",
     "output_type": "stream",
     "text": [
      "     68/100         0G     0.9641     0.5591      1.011        193        640: 100%|██████████| 63/63 [03:09<00:00,  3.01s/it]\n",
      "                 Class     Images  Instances      Box(P          R      mAP50  mAP50-95): 100%|██████████| 32/32 [01:18<00:00,  2.44s/it]"
     ]
    },
    {
     "name": "stdout",
     "output_type": "stream",
     "text": [
      "                   all       1000      26547       0.86      0.919      0.947      0.715\n"
     ]
    },
    {
     "name": "stderr",
     "output_type": "stream",
     "text": [
      "\n"
     ]
    },
    {
     "name": "stdout",
     "output_type": "stream",
     "text": [
      "\n",
      "      Epoch    GPU_mem   box_loss   cls_loss   dfl_loss  Instances       Size\n"
     ]
    },
    {
     "name": "stderr",
     "output_type": "stream",
     "text": [
      "     69/100         0G     0.9612     0.5528      1.013        425        640: 100%|██████████| 63/63 [03:09<00:00,  3.01s/it]\n",
      "                 Class     Images  Instances      Box(P          R      mAP50  mAP50-95): 100%|██████████| 32/32 [01:18<00:00,  2.44s/it]"
     ]
    },
    {
     "name": "stdout",
     "output_type": "stream",
     "text": [
      "                   all       1000      26547      0.865      0.916      0.947      0.722\n"
     ]
    },
    {
     "name": "stderr",
     "output_type": "stream",
     "text": [
      "\n"
     ]
    },
    {
     "name": "stdout",
     "output_type": "stream",
     "text": [
      "\n",
      "      Epoch    GPU_mem   box_loss   cls_loss   dfl_loss  Instances       Size\n"
     ]
    },
    {
     "name": "stderr",
     "output_type": "stream",
     "text": [
      "     70/100         0G     0.9612     0.5537      1.017        186        640: 100%|██████████| 63/63 [03:09<00:00,  3.01s/it]\n",
      "                 Class     Images  Instances      Box(P          R      mAP50  mAP50-95): 100%|██████████| 32/32 [01:17<00:00,  2.43s/it]"
     ]
    },
    {
     "name": "stdout",
     "output_type": "stream",
     "text": [
      "                   all       1000      26547       0.86      0.919      0.947      0.718\n"
     ]
    },
    {
     "name": "stderr",
     "output_type": "stream",
     "text": [
      "\n"
     ]
    },
    {
     "name": "stdout",
     "output_type": "stream",
     "text": [
      "\n",
      "      Epoch    GPU_mem   box_loss   cls_loss   dfl_loss  Instances       Size\n"
     ]
    },
    {
     "name": "stderr",
     "output_type": "stream",
     "text": [
      "     71/100         0G     0.9624     0.5576      1.012        351        640: 100%|██████████| 63/63 [03:11<00:00,  3.04s/it]\n",
      "                 Class     Images  Instances      Box(P          R      mAP50  mAP50-95): 100%|██████████| 32/32 [01:18<00:00,  2.46s/it]"
     ]
    },
    {
     "name": "stdout",
     "output_type": "stream",
     "text": [
      "                   all       1000      26547       0.87      0.918       0.95      0.723\n"
     ]
    },
    {
     "name": "stderr",
     "output_type": "stream",
     "text": [
      "\n"
     ]
    },
    {
     "name": "stdout",
     "output_type": "stream",
     "text": [
      "\n",
      "      Epoch    GPU_mem   box_loss   cls_loss   dfl_loss  Instances       Size\n"
     ]
    },
    {
     "name": "stderr",
     "output_type": "stream",
     "text": [
      "     72/100         0G     0.9708     0.5554      1.015        124        640: 100%|██████████| 63/63 [03:10<00:00,  3.03s/it]\n",
      "                 Class     Images  Instances      Box(P          R      mAP50  mAP50-95): 100%|██████████| 32/32 [01:18<00:00,  2.47s/it]"
     ]
    },
    {
     "name": "stdout",
     "output_type": "stream",
     "text": [
      "                   all       1000      26547      0.868      0.921      0.951      0.719\n"
     ]
    },
    {
     "name": "stderr",
     "output_type": "stream",
     "text": [
      "\n"
     ]
    },
    {
     "name": "stdout",
     "output_type": "stream",
     "text": [
      "\n",
      "      Epoch    GPU_mem   box_loss   cls_loss   dfl_loss  Instances       Size\n"
     ]
    },
    {
     "name": "stderr",
     "output_type": "stream",
     "text": [
      "     73/100         0G     0.9553     0.5486      1.009        230        640: 100%|██████████| 63/63 [03:11<00:00,  3.04s/it]\n",
      "                 Class     Images  Instances      Box(P          R      mAP50  mAP50-95): 100%|██████████| 32/32 [01:18<00:00,  2.47s/it]"
     ]
    },
    {
     "name": "stdout",
     "output_type": "stream",
     "text": [
      "                   all       1000      26547      0.869      0.918       0.95      0.722\n"
     ]
    },
    {
     "name": "stderr",
     "output_type": "stream",
     "text": [
      "\n"
     ]
    },
    {
     "name": "stdout",
     "output_type": "stream",
     "text": [
      "\n",
      "      Epoch    GPU_mem   box_loss   cls_loss   dfl_loss  Instances       Size\n"
     ]
    },
    {
     "name": "stderr",
     "output_type": "stream",
     "text": [
      "     74/100         0G     0.9589     0.5463      1.008        353        640: 100%|██████████| 63/63 [03:11<00:00,  3.04s/it]\n",
      "                 Class     Images  Instances      Box(P          R      mAP50  mAP50-95): 100%|██████████| 32/32 [01:19<00:00,  2.48s/it]"
     ]
    },
    {
     "name": "stdout",
     "output_type": "stream",
     "text": [
      "                   all       1000      26547      0.872      0.921      0.952      0.725\n"
     ]
    },
    {
     "name": "stderr",
     "output_type": "stream",
     "text": [
      "\n"
     ]
    },
    {
     "name": "stdout",
     "output_type": "stream",
     "text": [
      "\n",
      "      Epoch    GPU_mem   box_loss   cls_loss   dfl_loss  Instances       Size\n"
     ]
    },
    {
     "name": "stderr",
     "output_type": "stream",
     "text": [
      "     75/100         0G     0.9645     0.5464      1.012        276        640: 100%|██████████| 63/63 [03:11<00:00,  3.04s/it]\n",
      "                 Class     Images  Instances      Box(P          R      mAP50  mAP50-95): 100%|██████████| 32/32 [01:18<00:00,  2.46s/it]"
     ]
    },
    {
     "name": "stdout",
     "output_type": "stream",
     "text": [
      "                   all       1000      26547      0.873      0.925      0.954      0.729\n"
     ]
    },
    {
     "name": "stderr",
     "output_type": "stream",
     "text": [
      "\n"
     ]
    },
    {
     "name": "stdout",
     "output_type": "stream",
     "text": [
      "\n",
      "      Epoch    GPU_mem   box_loss   cls_loss   dfl_loss  Instances       Size\n"
     ]
    },
    {
     "name": "stderr",
     "output_type": "stream",
     "text": [
      "     76/100         0G     0.9443     0.5424      1.009        305        640: 100%|██████████| 63/63 [03:08<00:00,  2.99s/it]\n",
      "                 Class     Images  Instances      Box(P          R      mAP50  mAP50-95): 100%|██████████| 32/32 [01:17<00:00,  2.42s/it]"
     ]
    },
    {
     "name": "stdout",
     "output_type": "stream",
     "text": [
      "                   all       1000      26547      0.867      0.922      0.951      0.726\n"
     ]
    },
    {
     "name": "stderr",
     "output_type": "stream",
     "text": [
      "\n"
     ]
    },
    {
     "name": "stdout",
     "output_type": "stream",
     "text": [
      "\n",
      "      Epoch    GPU_mem   box_loss   cls_loss   dfl_loss  Instances       Size\n"
     ]
    },
    {
     "name": "stderr",
     "output_type": "stream",
     "text": [
      "     77/100         0G     0.9402     0.5349      1.005        184        640: 100%|██████████| 63/63 [03:09<00:00,  3.00s/it]\n",
      "                 Class     Images  Instances      Box(P          R      mAP50  mAP50-95): 100%|██████████| 32/32 [01:17<00:00,  2.43s/it]"
     ]
    },
    {
     "name": "stdout",
     "output_type": "stream",
     "text": [
      "                   all       1000      26547       0.87      0.925      0.954       0.73\n"
     ]
    },
    {
     "name": "stderr",
     "output_type": "stream",
     "text": [
      "\n"
     ]
    },
    {
     "name": "stdout",
     "output_type": "stream",
     "text": [
      "\n",
      "      Epoch    GPU_mem   box_loss   cls_loss   dfl_loss  Instances       Size\n"
     ]
    },
    {
     "name": "stderr",
     "output_type": "stream",
     "text": [
      "     78/100         0G     0.9553     0.5485      1.009        279        640: 100%|██████████| 63/63 [03:10<00:00,  3.03s/it]\n",
      "                 Class     Images  Instances      Box(P          R      mAP50  mAP50-95): 100%|██████████| 32/32 [01:18<00:00,  2.46s/it]"
     ]
    },
    {
     "name": "stdout",
     "output_type": "stream",
     "text": [
      "                   all       1000      26547      0.872      0.927      0.953       0.73\n"
     ]
    },
    {
     "name": "stderr",
     "output_type": "stream",
     "text": [
      "\n"
     ]
    },
    {
     "name": "stdout",
     "output_type": "stream",
     "text": [
      "\n",
      "      Epoch    GPU_mem   box_loss   cls_loss   dfl_loss  Instances       Size\n"
     ]
    },
    {
     "name": "stderr",
     "output_type": "stream",
     "text": [
      "     79/100         0G       0.95      0.538      1.008        208        640: 100%|██████████| 63/63 [03:10<00:00,  3.02s/it]\n",
      "                 Class     Images  Instances      Box(P          R      mAP50  mAP50-95): 100%|██████████| 32/32 [01:18<00:00,  2.45s/it]"
     ]
    },
    {
     "name": "stdout",
     "output_type": "stream",
     "text": [
      "                   all       1000      26547      0.875       0.92      0.954      0.727\n"
     ]
    },
    {
     "name": "stderr",
     "output_type": "stream",
     "text": [
      "\n"
     ]
    },
    {
     "name": "stdout",
     "output_type": "stream",
     "text": [
      "\n",
      "      Epoch    GPU_mem   box_loss   cls_loss   dfl_loss  Instances       Size\n"
     ]
    },
    {
     "name": "stderr",
     "output_type": "stream",
     "text": [
      "     80/100         0G     0.9497     0.5511      1.006        334        640: 100%|██████████| 63/63 [03:10<00:00,  3.02s/it]\n",
      "                 Class     Images  Instances      Box(P          R      mAP50  mAP50-95): 100%|██████████| 32/32 [01:18<00:00,  2.45s/it]"
     ]
    },
    {
     "name": "stdout",
     "output_type": "stream",
     "text": [
      "                   all       1000      26547      0.871      0.927      0.954       0.73\n"
     ]
    },
    {
     "name": "stderr",
     "output_type": "stream",
     "text": [
      "\n"
     ]
    },
    {
     "name": "stdout",
     "output_type": "stream",
     "text": [
      "\n",
      "      Epoch    GPU_mem   box_loss   cls_loss   dfl_loss  Instances       Size\n"
     ]
    },
    {
     "name": "stderr",
     "output_type": "stream",
     "text": [
      "     81/100         0G     0.9606     0.5473      1.009        368        640: 100%|██████████| 63/63 [03:11<00:00,  3.04s/it]\n",
      "                 Class     Images  Instances      Box(P          R      mAP50  mAP50-95): 100%|██████████| 32/32 [01:18<00:00,  2.45s/it]"
     ]
    },
    {
     "name": "stdout",
     "output_type": "stream",
     "text": [
      "                   all       1000      26547      0.879      0.923      0.957       0.73\n"
     ]
    },
    {
     "name": "stderr",
     "output_type": "stream",
     "text": [
      "\n"
     ]
    },
    {
     "name": "stdout",
     "output_type": "stream",
     "text": [
      "\n",
      "      Epoch    GPU_mem   box_loss   cls_loss   dfl_loss  Instances       Size\n"
     ]
    },
    {
     "name": "stderr",
     "output_type": "stream",
     "text": [
      "     82/100         0G     0.9405     0.5378      1.005        176        640: 100%|██████████| 63/63 [03:10<00:00,  3.03s/it]\n",
      "                 Class     Images  Instances      Box(P          R      mAP50  mAP50-95): 100%|██████████| 32/32 [01:18<00:00,  2.45s/it]"
     ]
    },
    {
     "name": "stdout",
     "output_type": "stream",
     "text": [
      "                   all       1000      26547      0.879      0.927      0.958      0.733\n"
     ]
    },
    {
     "name": "stderr",
     "output_type": "stream",
     "text": [
      "\n"
     ]
    },
    {
     "name": "stdout",
     "output_type": "stream",
     "text": [
      "\n",
      "      Epoch    GPU_mem   box_loss   cls_loss   dfl_loss  Instances       Size\n"
     ]
    },
    {
     "name": "stderr",
     "output_type": "stream",
     "text": [
      "     83/100         0G     0.9439     0.5362      1.003        163        640: 100%|██████████| 63/63 [03:10<00:00,  3.03s/it]\n",
      "                 Class     Images  Instances      Box(P          R      mAP50  mAP50-95): 100%|██████████| 32/32 [01:18<00:00,  2.45s/it]"
     ]
    },
    {
     "name": "stdout",
     "output_type": "stream",
     "text": [
      "                   all       1000      26547      0.876       0.93      0.958      0.736\n"
     ]
    },
    {
     "name": "stderr",
     "output_type": "stream",
     "text": [
      "\n"
     ]
    },
    {
     "name": "stdout",
     "output_type": "stream",
     "text": [
      "\n",
      "      Epoch    GPU_mem   box_loss   cls_loss   dfl_loss  Instances       Size\n"
     ]
    },
    {
     "name": "stderr",
     "output_type": "stream",
     "text": [
      "     84/100         0G      0.943     0.5347      1.006        236        640: 100%|██████████| 63/63 [03:10<00:00,  3.02s/it]\n",
      "                 Class     Images  Instances      Box(P          R      mAP50  mAP50-95): 100%|██████████| 32/32 [01:18<00:00,  2.45s/it]"
     ]
    },
    {
     "name": "stdout",
     "output_type": "stream",
     "text": [
      "                   all       1000      26547      0.877      0.929      0.958       0.74\n"
     ]
    },
    {
     "name": "stderr",
     "output_type": "stream",
     "text": [
      "\n"
     ]
    },
    {
     "name": "stdout",
     "output_type": "stream",
     "text": [
      "\n",
      "      Epoch    GPU_mem   box_loss   cls_loss   dfl_loss  Instances       Size\n"
     ]
    },
    {
     "name": "stderr",
     "output_type": "stream",
     "text": [
      "     85/100         0G     0.9335     0.5321      1.001        266        640: 100%|██████████| 63/63 [03:11<00:00,  3.05s/it]\n",
      "                 Class     Images  Instances      Box(P          R      mAP50  mAP50-95): 100%|██████████| 32/32 [01:18<00:00,  2.45s/it]"
     ]
    },
    {
     "name": "stdout",
     "output_type": "stream",
     "text": [
      "                   all       1000      26547      0.879      0.926      0.958      0.739\n"
     ]
    },
    {
     "name": "stderr",
     "output_type": "stream",
     "text": [
      "\n"
     ]
    },
    {
     "name": "stdout",
     "output_type": "stream",
     "text": [
      "\n",
      "      Epoch    GPU_mem   box_loss   cls_loss   dfl_loss  Instances       Size\n"
     ]
    },
    {
     "name": "stderr",
     "output_type": "stream",
     "text": [
      "     86/100         0G     0.9427     0.5257      1.004        433        640: 100%|██████████| 63/63 [03:10<00:00,  3.03s/it]\n",
      "                 Class     Images  Instances      Box(P          R      mAP50  mAP50-95): 100%|██████████| 32/32 [01:18<00:00,  2.46s/it]"
     ]
    },
    {
     "name": "stdout",
     "output_type": "stream",
     "text": [
      "                   all       1000      26547       0.88       0.93       0.96      0.739\n"
     ]
    },
    {
     "name": "stderr",
     "output_type": "stream",
     "text": [
      "\n"
     ]
    },
    {
     "name": "stdout",
     "output_type": "stream",
     "text": [
      "\n",
      "      Epoch    GPU_mem   box_loss   cls_loss   dfl_loss  Instances       Size\n"
     ]
    },
    {
     "name": "stderr",
     "output_type": "stream",
     "text": [
      "     87/100         0G     0.9431     0.5286      1.005        347        640: 100%|██████████| 63/63 [03:09<00:00,  3.02s/it]\n",
      "                 Class     Images  Instances      Box(P          R      mAP50  mAP50-95): 100%|██████████| 32/32 [01:18<00:00,  2.45s/it]"
     ]
    },
    {
     "name": "stdout",
     "output_type": "stream",
     "text": [
      "                   all       1000      26547       0.88      0.931      0.962      0.741\n"
     ]
    },
    {
     "name": "stderr",
     "output_type": "stream",
     "text": [
      "\n"
     ]
    },
    {
     "name": "stdout",
     "output_type": "stream",
     "text": [
      "\n",
      "      Epoch    GPU_mem   box_loss   cls_loss   dfl_loss  Instances       Size\n"
     ]
    },
    {
     "name": "stderr",
     "output_type": "stream",
     "text": [
      "     88/100         0G     0.9363     0.5215      1.002        322        640: 100%|██████████| 63/63 [03:10<00:00,  3.02s/it]\n",
      "                 Class     Images  Instances      Box(P          R      mAP50  mAP50-95): 100%|██████████| 32/32 [01:18<00:00,  2.45s/it]"
     ]
    },
    {
     "name": "stdout",
     "output_type": "stream",
     "text": [
      "                   all       1000      26547      0.892      0.922      0.962      0.742\n"
     ]
    },
    {
     "name": "stderr",
     "output_type": "stream",
     "text": [
      "\n"
     ]
    },
    {
     "name": "stdout",
     "output_type": "stream",
     "text": [
      "\n",
      "      Epoch    GPU_mem   box_loss   cls_loss   dfl_loss  Instances       Size\n"
     ]
    },
    {
     "name": "stderr",
     "output_type": "stream",
     "text": [
      "     89/100         0G     0.9294     0.5218      0.998        271        640: 100%|██████████| 63/63 [03:10<00:00,  3.03s/it]\n",
      "                 Class     Images  Instances      Box(P          R      mAP50  mAP50-95): 100%|██████████| 32/32 [01:19<00:00,  2.48s/it]"
     ]
    },
    {
     "name": "stdout",
     "output_type": "stream",
     "text": [
      "                   all       1000      26547      0.885      0.926       0.96      0.741\n"
     ]
    },
    {
     "name": "stderr",
     "output_type": "stream",
     "text": [
      "\n"
     ]
    },
    {
     "name": "stdout",
     "output_type": "stream",
     "text": [
      "\n",
      "      Epoch    GPU_mem   box_loss   cls_loss   dfl_loss  Instances       Size\n"
     ]
    },
    {
     "name": "stderr",
     "output_type": "stream",
     "text": [
      "     90/100         0G      0.918     0.5137     0.9975        412        640: 100%|██████████| 63/63 [03:09<00:00,  3.01s/it]\n",
      "                 Class     Images  Instances      Box(P          R      mAP50  mAP50-95): 100%|██████████| 32/32 [01:18<00:00,  2.46s/it]"
     ]
    },
    {
     "name": "stdout",
     "output_type": "stream",
     "text": [
      "                   all       1000      26547       0.89      0.931      0.963      0.747\n"
     ]
    },
    {
     "name": "stderr",
     "output_type": "stream",
     "text": [
      "\n"
     ]
    },
    {
     "name": "stdout",
     "output_type": "stream",
     "text": [
      "Closing dataloader mosaic\n",
      "\n",
      "      Epoch    GPU_mem   box_loss   cls_loss   dfl_loss  Instances       Size\n"
     ]
    },
    {
     "name": "stderr",
     "output_type": "stream",
     "text": [
      "c:\\Users\\Admin\\anaconda3\\Lib\\site-packages\\torch\\utils\\data\\dataloader.py:665: UserWarning: 'pin_memory' argument is set as true but no accelerator is found, then device pinned memory won't be used.\n",
      "  warnings.warn(warn_msg)\n",
      "     91/100         0G     0.9208      0.502      1.008        163        640: 100%|██████████| 63/63 [02:58<00:00,  2.84s/it]\n",
      "                 Class     Images  Instances      Box(P          R      mAP50  mAP50-95): 100%|██████████| 32/32 [01:18<00:00,  2.47s/it]"
     ]
    },
    {
     "name": "stdout",
     "output_type": "stream",
     "text": [
      "                   all       1000      26547      0.882      0.932      0.961      0.736\n"
     ]
    },
    {
     "name": "stderr",
     "output_type": "stream",
     "text": [
      "\n"
     ]
    },
    {
     "name": "stdout",
     "output_type": "stream",
     "text": [
      "\n",
      "      Epoch    GPU_mem   box_loss   cls_loss   dfl_loss  Instances       Size\n"
     ]
    },
    {
     "name": "stderr",
     "output_type": "stream",
     "text": [
      "     92/100         0G     0.9097     0.4917      1.007        224        640: 100%|██████████| 63/63 [02:59<00:00,  2.85s/it]\n",
      "                 Class     Images  Instances      Box(P          R      mAP50  mAP50-95): 100%|██████████| 32/32 [01:18<00:00,  2.44s/it]"
     ]
    },
    {
     "name": "stdout",
     "output_type": "stream",
     "text": [
      "                   all       1000      26547      0.887       0.93      0.962      0.741\n"
     ]
    },
    {
     "name": "stderr",
     "output_type": "stream",
     "text": [
      "\n"
     ]
    },
    {
     "name": "stdout",
     "output_type": "stream",
     "text": [
      "\n",
      "      Epoch    GPU_mem   box_loss   cls_loss   dfl_loss  Instances       Size\n"
     ]
    },
    {
     "name": "stderr",
     "output_type": "stream",
     "text": [
      "     93/100         0G     0.9009     0.4875     0.9992        182        640: 100%|██████████| 63/63 [02:59<00:00,  2.84s/it]\n",
      "                 Class     Images  Instances      Box(P          R      mAP50  mAP50-95): 100%|██████████| 32/32 [01:18<00:00,  2.45s/it]"
     ]
    },
    {
     "name": "stdout",
     "output_type": "stream",
     "text": [
      "                   all       1000      26547      0.892      0.933      0.964      0.748\n"
     ]
    },
    {
     "name": "stderr",
     "output_type": "stream",
     "text": [
      "\n"
     ]
    },
    {
     "name": "stdout",
     "output_type": "stream",
     "text": [
      "\n",
      "      Epoch    GPU_mem   box_loss   cls_loss   dfl_loss  Instances       Size\n"
     ]
    },
    {
     "name": "stderr",
     "output_type": "stream",
     "text": [
      "     94/100         0G     0.9041     0.4888      1.003        171        640: 100%|██████████| 63/63 [02:59<00:00,  2.85s/it]\n",
      "                 Class     Images  Instances      Box(P          R      mAP50  mAP50-95): 100%|██████████| 32/32 [01:19<00:00,  2.47s/it]"
     ]
    },
    {
     "name": "stdout",
     "output_type": "stream",
     "text": [
      "                   all       1000      26547      0.893      0.933      0.965      0.749\n"
     ]
    },
    {
     "name": "stderr",
     "output_type": "stream",
     "text": [
      "\n"
     ]
    },
    {
     "name": "stdout",
     "output_type": "stream",
     "text": [
      "\n",
      "      Epoch    GPU_mem   box_loss   cls_loss   dfl_loss  Instances       Size\n"
     ]
    },
    {
     "name": "stderr",
     "output_type": "stream",
     "text": [
      "     95/100         0G     0.9014      0.485     0.9981        170        640: 100%|██████████| 63/63 [02:59<00:00,  2.85s/it]\n",
      "                 Class     Images  Instances      Box(P          R      mAP50  mAP50-95): 100%|██████████| 32/32 [01:18<00:00,  2.44s/it]"
     ]
    },
    {
     "name": "stdout",
     "output_type": "stream",
     "text": [
      "                   all       1000      26547      0.892      0.935      0.966       0.75\n"
     ]
    },
    {
     "name": "stderr",
     "output_type": "stream",
     "text": [
      "\n"
     ]
    },
    {
     "name": "stdout",
     "output_type": "stream",
     "text": [
      "\n",
      "      Epoch    GPU_mem   box_loss   cls_loss   dfl_loss  Instances       Size\n"
     ]
    },
    {
     "name": "stderr",
     "output_type": "stream",
     "text": [
      "     96/100         0G     0.9023     0.4835     0.9968        270        640: 100%|██████████| 63/63 [02:59<00:00,  2.85s/it]\n",
      "                 Class     Images  Instances      Box(P          R      mAP50  mAP50-95): 100%|██████████| 32/32 [01:18<00:00,  2.44s/it]"
     ]
    },
    {
     "name": "stdout",
     "output_type": "stream",
     "text": [
      "                   all       1000      26547      0.894      0.936      0.965      0.751\n"
     ]
    },
    {
     "name": "stderr",
     "output_type": "stream",
     "text": [
      "\n"
     ]
    },
    {
     "name": "stdout",
     "output_type": "stream",
     "text": [
      "\n",
      "      Epoch    GPU_mem   box_loss   cls_loss   dfl_loss  Instances       Size\n"
     ]
    },
    {
     "name": "stderr",
     "output_type": "stream",
     "text": [
      "     97/100         0G     0.8941     0.4821     0.9974        220        640: 100%|██████████| 63/63 [02:59<00:00,  2.84s/it]\n",
      "                 Class     Images  Instances      Box(P          R      mAP50  mAP50-95): 100%|██████████| 32/32 [01:18<00:00,  2.45s/it]"
     ]
    },
    {
     "name": "stdout",
     "output_type": "stream",
     "text": [
      "                   all       1000      26547      0.896      0.934      0.967      0.753\n"
     ]
    },
    {
     "name": "stderr",
     "output_type": "stream",
     "text": [
      "\n"
     ]
    },
    {
     "name": "stdout",
     "output_type": "stream",
     "text": [
      "\n",
      "      Epoch    GPU_mem   box_loss   cls_loss   dfl_loss  Instances       Size\n"
     ]
    },
    {
     "name": "stderr",
     "output_type": "stream",
     "text": [
      "     98/100         0G      0.896     0.4766      0.999        251        640: 100%|██████████| 63/63 [02:58<00:00,  2.84s/it]\n",
      "                 Class     Images  Instances      Box(P          R      mAP50  mAP50-95): 100%|██████████| 32/32 [01:18<00:00,  2.46s/it]"
     ]
    },
    {
     "name": "stdout",
     "output_type": "stream",
     "text": [
      "                   all       1000      26547      0.899      0.934      0.967      0.755\n",
      "\n",
      "      Epoch    GPU_mem   box_loss   cls_loss   dfl_loss  Instances       Size\n"
     ]
    },
    {
     "name": "stderr",
     "output_type": "stream",
     "text": [
      "\n",
      "     99/100         0G     0.8898     0.4716     0.9975        184        640: 100%|██████████| 63/63 [02:59<00:00,  2.85s/it]\n",
      "                 Class     Images  Instances      Box(P          R      mAP50  mAP50-95): 100%|██████████| 32/32 [01:18<00:00,  2.46s/it]"
     ]
    },
    {
     "name": "stdout",
     "output_type": "stream",
     "text": [
      "                   all       1000      26547      0.898      0.936      0.968      0.755\n"
     ]
    },
    {
     "name": "stderr",
     "output_type": "stream",
     "text": [
      "\n"
     ]
    },
    {
     "name": "stdout",
     "output_type": "stream",
     "text": [
      "\n",
      "      Epoch    GPU_mem   box_loss   cls_loss   dfl_loss  Instances       Size\n"
     ]
    },
    {
     "name": "stderr",
     "output_type": "stream",
     "text": [
      "    100/100         0G     0.8831     0.4728     0.9928        167        640: 100%|██████████| 63/63 [02:59<00:00,  2.84s/it]\n",
      "                 Class     Images  Instances      Box(P          R      mAP50  mAP50-95): 100%|██████████| 32/32 [01:18<00:00,  2.46s/it]"
     ]
    },
    {
     "name": "stdout",
     "output_type": "stream",
     "text": [
      "                   all       1000      26547      0.897      0.936      0.968      0.755\n"
     ]
    },
    {
     "name": "stderr",
     "output_type": "stream",
     "text": [
      "\n"
     ]
    },
    {
     "name": "stdout",
     "output_type": "stream",
     "text": [
      "\n",
      "100 epochs completed in 7.476 hours.\n",
      "Optimizer stripped from runs\\detect\\yolov8n-2506306\\weights\\last.pt, 6.3MB\n",
      "Optimizer stripped from runs\\detect\\yolov8n-2506306\\weights\\best.pt, 6.3MB\n",
      "\n",
      "Validating runs\\detect\\yolov8n-2506306\\weights\\best.pt...\n",
      "Ultralytics 8.3.169  Python-3.11.7 torch-2.7.1+cpu CPU (Intel Core(TM) i9-10900K 3.70GHz)\n",
      "Model summary (fused): 72 layers, 3,005,843 parameters, 0 gradients, 8.1 GFLOPs\n"
     ]
    },
    {
     "name": "stderr",
     "output_type": "stream",
     "text": [
      "                 Class     Images  Instances      Box(P          R      mAP50  mAP50-95): 100%|██████████| 32/32 [00:54<00:00,  1.70s/it]\n"
     ]
    },
    {
     "name": "stdout",
     "output_type": "stream",
     "text": [
      "                   all       1000      26547      0.898      0.936      0.968      0.755\n",
      "Speed: 1.1ms preprocess, 46.5ms inference, 0.0ms loss, 0.6ms postprocess per image\n",
      "Results saved to \u001b[1mruns\\detect\\yolov8n-2506306\u001b[0m\n"
     ]
    },
    {
     "data": {
      "text/plain": [
       "ultralytics.utils.metrics.DetMetrics object with attributes:\n",
       "\n",
       "ap_class_index: array([0])\n",
       "box: ultralytics.utils.metrics.Metric object\n",
       "confusion_matrix: <ultralytics.utils.metrics.ConfusionMatrix object at 0x000001959D01DED0>\n",
       "curves: ['Precision-Recall(B)', 'F1-Confidence(B)', 'Precision-Confidence(B)', 'Recall-Confidence(B)']\n",
       "curves_results: [[array([          0,    0.001001,    0.002002,    0.003003,    0.004004,    0.005005,    0.006006,    0.007007,    0.008008,    0.009009,     0.01001,    0.011011,    0.012012,    0.013013,    0.014014,    0.015015,    0.016016,    0.017017,    0.018018,    0.019019,     0.02002,    0.021021,    0.022022,    0.023023,\n",
       "          0.024024,    0.025025,    0.026026,    0.027027,    0.028028,    0.029029,     0.03003,    0.031031,    0.032032,    0.033033,    0.034034,    0.035035,    0.036036,    0.037037,    0.038038,    0.039039,     0.04004,    0.041041,    0.042042,    0.043043,    0.044044,    0.045045,    0.046046,    0.047047,\n",
       "          0.048048,    0.049049,     0.05005,    0.051051,    0.052052,    0.053053,    0.054054,    0.055055,    0.056056,    0.057057,    0.058058,    0.059059,     0.06006,    0.061061,    0.062062,    0.063063,    0.064064,    0.065065,    0.066066,    0.067067,    0.068068,    0.069069,     0.07007,    0.071071,\n",
       "          0.072072,    0.073073,    0.074074,    0.075075,    0.076076,    0.077077,    0.078078,    0.079079,     0.08008,    0.081081,    0.082082,    0.083083,    0.084084,    0.085085,    0.086086,    0.087087,    0.088088,    0.089089,     0.09009,    0.091091,    0.092092,    0.093093,    0.094094,    0.095095,\n",
       "          0.096096,    0.097097,    0.098098,    0.099099,      0.1001,      0.1011,      0.1021,      0.1031,      0.1041,     0.10511,     0.10611,     0.10711,     0.10811,     0.10911,     0.11011,     0.11111,     0.11211,     0.11311,     0.11411,     0.11512,     0.11612,     0.11712,     0.11812,     0.11912,\n",
       "           0.12012,     0.12112,     0.12212,     0.12312,     0.12412,     0.12513,     0.12613,     0.12713,     0.12813,     0.12913,     0.13013,     0.13113,     0.13213,     0.13313,     0.13413,     0.13514,     0.13614,     0.13714,     0.13814,     0.13914,     0.14014,     0.14114,     0.14214,     0.14314,\n",
       "           0.14414,     0.14515,     0.14615,     0.14715,     0.14815,     0.14915,     0.15015,     0.15115,     0.15215,     0.15315,     0.15415,     0.15516,     0.15616,     0.15716,     0.15816,     0.15916,     0.16016,     0.16116,     0.16216,     0.16316,     0.16416,     0.16517,     0.16617,     0.16717,\n",
       "           0.16817,     0.16917,     0.17017,     0.17117,     0.17217,     0.17317,     0.17417,     0.17518,     0.17618,     0.17718,     0.17818,     0.17918,     0.18018,     0.18118,     0.18218,     0.18318,     0.18418,     0.18519,     0.18619,     0.18719,     0.18819,     0.18919,     0.19019,     0.19119,\n",
       "           0.19219,     0.19319,     0.19419,      0.1952,      0.1962,      0.1972,      0.1982,      0.1992,      0.2002,      0.2012,      0.2022,      0.2032,      0.2042,     0.20521,     0.20621,     0.20721,     0.20821,     0.20921,     0.21021,     0.21121,     0.21221,     0.21321,     0.21421,     0.21522,\n",
       "           0.21622,     0.21722,     0.21822,     0.21922,     0.22022,     0.22122,     0.22222,     0.22322,     0.22422,     0.22523,     0.22623,     0.22723,     0.22823,     0.22923,     0.23023,     0.23123,     0.23223,     0.23323,     0.23423,     0.23524,     0.23624,     0.23724,     0.23824,     0.23924,\n",
       "           0.24024,     0.24124,     0.24224,     0.24324,     0.24424,     0.24525,     0.24625,     0.24725,     0.24825,     0.24925,     0.25025,     0.25125,     0.25225,     0.25325,     0.25425,     0.25526,     0.25626,     0.25726,     0.25826,     0.25926,     0.26026,     0.26126,     0.26226,     0.26326,\n",
       "           0.26426,     0.26527,     0.26627,     0.26727,     0.26827,     0.26927,     0.27027,     0.27127,     0.27227,     0.27327,     0.27427,     0.27528,     0.27628,     0.27728,     0.27828,     0.27928,     0.28028,     0.28128,     0.28228,     0.28328,     0.28428,     0.28529,     0.28629,     0.28729,\n",
       "           0.28829,     0.28929,     0.29029,     0.29129,     0.29229,     0.29329,     0.29429,      0.2953,      0.2963,      0.2973,      0.2983,      0.2993,      0.3003,      0.3013,      0.3023,      0.3033,      0.3043,     0.30531,     0.30631,     0.30731,     0.30831,     0.30931,     0.31031,     0.31131,\n",
       "           0.31231,     0.31331,     0.31431,     0.31532,     0.31632,     0.31732,     0.31832,     0.31932,     0.32032,     0.32132,     0.32232,     0.32332,     0.32432,     0.32533,     0.32633,     0.32733,     0.32833,     0.32933,     0.33033,     0.33133,     0.33233,     0.33333,     0.33433,     0.33534,\n",
       "           0.33634,     0.33734,     0.33834,     0.33934,     0.34034,     0.34134,     0.34234,     0.34334,     0.34434,     0.34535,     0.34635,     0.34735,     0.34835,     0.34935,     0.35035,     0.35135,     0.35235,     0.35335,     0.35435,     0.35536,     0.35636,     0.35736,     0.35836,     0.35936,\n",
       "           0.36036,     0.36136,     0.36236,     0.36336,     0.36436,     0.36537,     0.36637,     0.36737,     0.36837,     0.36937,     0.37037,     0.37137,     0.37237,     0.37337,     0.37437,     0.37538,     0.37638,     0.37738,     0.37838,     0.37938,     0.38038,     0.38138,     0.38238,     0.38338,\n",
       "           0.38438,     0.38539,     0.38639,     0.38739,     0.38839,     0.38939,     0.39039,     0.39139,     0.39239,     0.39339,     0.39439,      0.3954,      0.3964,      0.3974,      0.3984,      0.3994,      0.4004,      0.4014,      0.4024,      0.4034,      0.4044,     0.40541,     0.40641,     0.40741,\n",
       "           0.40841,     0.40941,     0.41041,     0.41141,     0.41241,     0.41341,     0.41441,     0.41542,     0.41642,     0.41742,     0.41842,     0.41942,     0.42042,     0.42142,     0.42242,     0.42342,     0.42442,     0.42543,     0.42643,     0.42743,     0.42843,     0.42943,     0.43043,     0.43143,\n",
       "           0.43243,     0.43343,     0.43443,     0.43544,     0.43644,     0.43744,     0.43844,     0.43944,     0.44044,     0.44144,     0.44244,     0.44344,     0.44444,     0.44545,     0.44645,     0.44745,     0.44845,     0.44945,     0.45045,     0.45145,     0.45245,     0.45345,     0.45445,     0.45546,\n",
       "           0.45646,     0.45746,     0.45846,     0.45946,     0.46046,     0.46146,     0.46246,     0.46346,     0.46446,     0.46547,     0.46647,     0.46747,     0.46847,     0.46947,     0.47047,     0.47147,     0.47247,     0.47347,     0.47447,     0.47548,     0.47648,     0.47748,     0.47848,     0.47948,\n",
       "           0.48048,     0.48148,     0.48248,     0.48348,     0.48448,     0.48549,     0.48649,     0.48749,     0.48849,     0.48949,     0.49049,     0.49149,     0.49249,     0.49349,     0.49449,      0.4955,      0.4965,      0.4975,      0.4985,      0.4995,      0.5005,      0.5015,      0.5025,      0.5035,\n",
       "            0.5045,     0.50551,     0.50651,     0.50751,     0.50851,     0.50951,     0.51051,     0.51151,     0.51251,     0.51351,     0.51451,     0.51552,     0.51652,     0.51752,     0.51852,     0.51952,     0.52052,     0.52152,     0.52252,     0.52352,     0.52452,     0.52553,     0.52653,     0.52753,\n",
       "           0.52853,     0.52953,     0.53053,     0.53153,     0.53253,     0.53353,     0.53453,     0.53554,     0.53654,     0.53754,     0.53854,     0.53954,     0.54054,     0.54154,     0.54254,     0.54354,     0.54454,     0.54555,     0.54655,     0.54755,     0.54855,     0.54955,     0.55055,     0.55155,\n",
       "           0.55255,     0.55355,     0.55455,     0.55556,     0.55656,     0.55756,     0.55856,     0.55956,     0.56056,     0.56156,     0.56256,     0.56356,     0.56456,     0.56557,     0.56657,     0.56757,     0.56857,     0.56957,     0.57057,     0.57157,     0.57257,     0.57357,     0.57457,     0.57558,\n",
       "           0.57658,     0.57758,     0.57858,     0.57958,     0.58058,     0.58158,     0.58258,     0.58358,     0.58458,     0.58559,     0.58659,     0.58759,     0.58859,     0.58959,     0.59059,     0.59159,     0.59259,     0.59359,     0.59459,      0.5956,      0.5966,      0.5976,      0.5986,      0.5996,\n",
       "            0.6006,      0.6016,      0.6026,      0.6036,      0.6046,     0.60561,     0.60661,     0.60761,     0.60861,     0.60961,     0.61061,     0.61161,     0.61261,     0.61361,     0.61461,     0.61562,     0.61662,     0.61762,     0.61862,     0.61962,     0.62062,     0.62162,     0.62262,     0.62362,\n",
       "           0.62462,     0.62563,     0.62663,     0.62763,     0.62863,     0.62963,     0.63063,     0.63163,     0.63263,     0.63363,     0.63463,     0.63564,     0.63664,     0.63764,     0.63864,     0.63964,     0.64064,     0.64164,     0.64264,     0.64364,     0.64464,     0.64565,     0.64665,     0.64765,\n",
       "           0.64865,     0.64965,     0.65065,     0.65165,     0.65265,     0.65365,     0.65465,     0.65566,     0.65666,     0.65766,     0.65866,     0.65966,     0.66066,     0.66166,     0.66266,     0.66366,     0.66466,     0.66567,     0.66667,     0.66767,     0.66867,     0.66967,     0.67067,     0.67167,\n",
       "           0.67267,     0.67367,     0.67467,     0.67568,     0.67668,     0.67768,     0.67868,     0.67968,     0.68068,     0.68168,     0.68268,     0.68368,     0.68468,     0.68569,     0.68669,     0.68769,     0.68869,     0.68969,     0.69069,     0.69169,     0.69269,     0.69369,     0.69469,      0.6957,\n",
       "            0.6967,      0.6977,      0.6987,      0.6997,      0.7007,      0.7017,      0.7027,      0.7037,      0.7047,     0.70571,     0.70671,     0.70771,     0.70871,     0.70971,     0.71071,     0.71171,     0.71271,     0.71371,     0.71471,     0.71572,     0.71672,     0.71772,     0.71872,     0.71972,\n",
       "           0.72072,     0.72172,     0.72272,     0.72372,     0.72472,     0.72573,     0.72673,     0.72773,     0.72873,     0.72973,     0.73073,     0.73173,     0.73273,     0.73373,     0.73473,     0.73574,     0.73674,     0.73774,     0.73874,     0.73974,     0.74074,     0.74174,     0.74274,     0.74374,\n",
       "           0.74474,     0.74575,     0.74675,     0.74775,     0.74875,     0.74975,     0.75075,     0.75175,     0.75275,     0.75375,     0.75475,     0.75576,     0.75676,     0.75776,     0.75876,     0.75976,     0.76076,     0.76176,     0.76276,     0.76376,     0.76476,     0.76577,     0.76677,     0.76777,\n",
       "           0.76877,     0.76977,     0.77077,     0.77177,     0.77277,     0.77377,     0.77477,     0.77578,     0.77678,     0.77778,     0.77878,     0.77978,     0.78078,     0.78178,     0.78278,     0.78378,     0.78478,     0.78579,     0.78679,     0.78779,     0.78879,     0.78979,     0.79079,     0.79179,\n",
       "           0.79279,     0.79379,     0.79479,      0.7958,      0.7968,      0.7978,      0.7988,      0.7998,      0.8008,      0.8018,      0.8028,      0.8038,      0.8048,     0.80581,     0.80681,     0.80781,     0.80881,     0.80981,     0.81081,     0.81181,     0.81281,     0.81381,     0.81481,     0.81582,\n",
       "           0.81682,     0.81782,     0.81882,     0.81982,     0.82082,     0.82182,     0.82282,     0.82382,     0.82482,     0.82583,     0.82683,     0.82783,     0.82883,     0.82983,     0.83083,     0.83183,     0.83283,     0.83383,     0.83483,     0.83584,     0.83684,     0.83784,     0.83884,     0.83984,\n",
       "           0.84084,     0.84184,     0.84284,     0.84384,     0.84484,     0.84585,     0.84685,     0.84785,     0.84885,     0.84985,     0.85085,     0.85185,     0.85285,     0.85385,     0.85485,     0.85586,     0.85686,     0.85786,     0.85886,     0.85986,     0.86086,     0.86186,     0.86286,     0.86386,\n",
       "           0.86486,     0.86587,     0.86687,     0.86787,     0.86887,     0.86987,     0.87087,     0.87187,     0.87287,     0.87387,     0.87487,     0.87588,     0.87688,     0.87788,     0.87888,     0.87988,     0.88088,     0.88188,     0.88288,     0.88388,     0.88488,     0.88589,     0.88689,     0.88789,\n",
       "           0.88889,     0.88989,     0.89089,     0.89189,     0.89289,     0.89389,     0.89489,      0.8959,      0.8969,      0.8979,      0.8989,      0.8999,      0.9009,      0.9019,      0.9029,      0.9039,      0.9049,     0.90591,     0.90691,     0.90791,     0.90891,     0.90991,     0.91091,     0.91191,\n",
       "           0.91291,     0.91391,     0.91491,     0.91592,     0.91692,     0.91792,     0.91892,     0.91992,     0.92092,     0.92192,     0.92292,     0.92392,     0.92492,     0.92593,     0.92693,     0.92793,     0.92893,     0.92993,     0.93093,     0.93193,     0.93293,     0.93393,     0.93493,     0.93594,\n",
       "           0.93694,     0.93794,     0.93894,     0.93994,     0.94094,     0.94194,     0.94294,     0.94394,     0.94494,     0.94595,     0.94695,     0.94795,     0.94895,     0.94995,     0.95095,     0.95195,     0.95295,     0.95395,     0.95495,     0.95596,     0.95696,     0.95796,     0.95896,     0.95996,\n",
       "           0.96096,     0.96196,     0.96296,     0.96396,     0.96496,     0.96597,     0.96697,     0.96797,     0.96897,     0.96997,     0.97097,     0.97197,     0.97297,     0.97397,     0.97497,     0.97598,     0.97698,     0.97798,     0.97898,     0.97998,     0.98098,     0.98198,     0.98298,     0.98398,\n",
       "           0.98498,     0.98599,     0.98699,     0.98799,     0.98899,     0.98999,     0.99099,     0.99199,     0.99299,     0.99399,     0.99499,       0.996,       0.997,       0.998,       0.999,           1]), array([[          1,           1,           1,           1,           1,           1,           1,           1,           1,           1,     0.99942,     0.99942,     0.99942,     0.99942,     0.99942,     0.99942,     0.99942,     0.99942,     0.99942,     0.99942,     0.99942,     0.99942,     0.99942,\n",
       "            0.99942,     0.99942,     0.99942,     0.99942,     0.99942,     0.99942,     0.99942,     0.99942,     0.99942,     0.99942,     0.99942,     0.99942,     0.99942,     0.99942,     0.99942,     0.99942,     0.99942,     0.99942,     0.99942,     0.99942,     0.99942,     0.99942,     0.99942,\n",
       "            0.99942,     0.99942,     0.99942,     0.99942,     0.99942,     0.99942,     0.99942,     0.99942,     0.99942,     0.99942,     0.99942,     0.99942,     0.99942,     0.99942,     0.99942,     0.99942,     0.99942,     0.99942,     0.99942,     0.99942,     0.99897,     0.99897,     0.99897,\n",
       "            0.99897,     0.99897,     0.99897,     0.99897,      0.9986,      0.9986,      0.9986,      0.9986,      0.9986,      0.9986,      0.9986,      0.9986,     0.99825,     0.99825,     0.99825,     0.99825,     0.99825,     0.99799,     0.99799,     0.99799,     0.99799,     0.99799,     0.99799,\n",
       "            0.99799,     0.99799,     0.99759,     0.99759,     0.99759,     0.99759,     0.99759,     0.99759,     0.99759,     0.99759,     0.99759,     0.99759,     0.99759,     0.99759,     0.99759,     0.99759,     0.99759,     0.99759,     0.99759,     0.99759,     0.99759,     0.99759,     0.99759,\n",
       "            0.99759,     0.99759,     0.99759,     0.99759,     0.99759,     0.99759,     0.99759,     0.99759,     0.99759,     0.99759,     0.99752,     0.99752,     0.99752,     0.99752,     0.99752,     0.99752,     0.99752,     0.99752,     0.99752,     0.99752,     0.99752,     0.99752,     0.99728,\n",
       "            0.99728,     0.99728,     0.99728,     0.99728,     0.99728,     0.99728,     0.99728,     0.99728,     0.99728,     0.99728,     0.99728,     0.99728,     0.99728,     0.99728,     0.99689,     0.99689,     0.99689,     0.99689,     0.99689,     0.99682,     0.99682,     0.99682,     0.99682,\n",
       "            0.99682,     0.99682,     0.99682,     0.99682,     0.99682,      0.9968,      0.9968,      0.9968,      0.9968,      0.9968,      0.9968,      0.9968,      0.9968,      0.9968,      0.9968,      0.9968,      0.9968,      0.9968,      0.9968,      0.9968,      0.9968,      0.9968,      0.9968,\n",
       "             0.9968,      0.9968,      0.9968,      0.9968,      0.9968,      0.9968,      0.9968,      0.9968,      0.9968,      0.9968,      0.9968,      0.9968,      0.9968,      0.9968,      0.9968,      0.9968,      0.9968,      0.9968,      0.9968,      0.9968,      0.9968,      0.9968,      0.9968,\n",
       "             0.9968,      0.9968,      0.9968,      0.9968,      0.9968,     0.99669,     0.99669,     0.99669,     0.99669,      0.9964,      0.9964,      0.9964,     0.99626,     0.99626,     0.99612,     0.99612,     0.99589,     0.99589,     0.99589,     0.99589,     0.99589,     0.99589,     0.99584,\n",
       "            0.99584,     0.99584,     0.99584,     0.99584,     0.99584,     0.99584,     0.99584,     0.99584,     0.99584,     0.99584,     0.99584,     0.99584,     0.99584,     0.99584,     0.99576,     0.99576,     0.99576,     0.99576,     0.99569,     0.99569,     0.99569,     0.99569,     0.99569,\n",
       "            0.99561,     0.99561,     0.99561,     0.99561,     0.99524,     0.99524,     0.99524,     0.99514,     0.99514,     0.99514,     0.99503,     0.99492,     0.99492,     0.99467,     0.99467,     0.99461,     0.99461,     0.99461,     0.99451,     0.99451,     0.99447,     0.99447,     0.99447,\n",
       "            0.99447,     0.99447,     0.99445,     0.99445,     0.99445,     0.99445,     0.99445,     0.99445,     0.99437,     0.99437,     0.99426,     0.99425,     0.99425,     0.99425,     0.99425,     0.99425,     0.99425,     0.99415,     0.99415,     0.99407,     0.99407,     0.99401,     0.99401,\n",
       "            0.99401,     0.99393,     0.99393,     0.99383,     0.99372,     0.99364,     0.99364,     0.99356,     0.99356,     0.99356,     0.99356,     0.99356,     0.99356,     0.99356,     0.99356,     0.99355,     0.99355,     0.99355,     0.99355,     0.99355,     0.99348,     0.99348,     0.99348,\n",
       "            0.99338,     0.99312,     0.99312,     0.99312,     0.99312,     0.99297,     0.99297,     0.99297,     0.99289,     0.99279,     0.99278,     0.99278,     0.99278,     0.99278,     0.99278,      0.9927,     0.99265,     0.99265,     0.99265,     0.99255,     0.99249,     0.99249,     0.99249,\n",
       "            0.99249,     0.99249,     0.99249,     0.99249,     0.99249,     0.99249,     0.99249,     0.99249,     0.99238,     0.99237,     0.99237,     0.99237,     0.99237,     0.99237,     0.99237,     0.99237,     0.99237,     0.99237,     0.99228,     0.99228,     0.99228,     0.99228,     0.99228,\n",
       "            0.99211,     0.99211,     0.99211,     0.99211,     0.99211,     0.99211,     0.99211,     0.99208,     0.99208,     0.99208,     0.99201,     0.99186,     0.99186,     0.99186,     0.99186,     0.99186,     0.99186,     0.99186,     0.99186,     0.99186,     0.99186,     0.99186,      0.9918,\n",
       "             0.9918,     0.99176,     0.99176,     0.99167,      0.9916,      0.9916,      0.9916,      0.9916,      0.9916,     0.99144,     0.99144,     0.99138,     0.99132,     0.99132,     0.99132,     0.99132,     0.99132,     0.99132,     0.99127,     0.99127,     0.99127,     0.99127,     0.99127,\n",
       "            0.99127,     0.99127,     0.99127,     0.99127,     0.99127,     0.99127,     0.99127,     0.99127,     0.99127,     0.99127,     0.99127,     0.99127,     0.99127,     0.99127,     0.99122,     0.99122,     0.99121,     0.99121,     0.99121,     0.99106,     0.99106,     0.99101,     0.99094,\n",
       "            0.99089,     0.99089,     0.99074,     0.99074,     0.99074,     0.99074,     0.99074,     0.99069,     0.99062,     0.99051,     0.99051,     0.99043,     0.99021,     0.99015,     0.99011,     0.99007,     0.99007,     0.99007,     0.98999,     0.98999,     0.98999,     0.98999,     0.98999,\n",
       "            0.98999,     0.98999,     0.98993,     0.98993,     0.98993,     0.98993,     0.98993,     0.98993,     0.98993,     0.98993,     0.98993,     0.98993,     0.98993,     0.98993,     0.98993,     0.98993,     0.98993,     0.98993,     0.98965,     0.98964,     0.98964,     0.98964,     0.98964,\n",
       "            0.98964,     0.98964,     0.98964,     0.98952,     0.98945,     0.98943,     0.98943,     0.98943,     0.98943,     0.98943,     0.98943,     0.98934,     0.98934,     0.98934,      0.9893,     0.98919,     0.98919,     0.98906,     0.98901,     0.98897,     0.98877,     0.98875,     0.98875,\n",
       "            0.98861,     0.98859,     0.98859,     0.98859,     0.98859,     0.98859,     0.98859,     0.98859,     0.98859,     0.98859,     0.98859,     0.98859,     0.98859,     0.98859,     0.98859,     0.98859,     0.98853,      0.9883,      0.9883,     0.98824,     0.98808,     0.98803,     0.98797,\n",
       "            0.98791,     0.98788,     0.98788,     0.98788,     0.98788,     0.98778,     0.98778,     0.98766,     0.98758,     0.98758,     0.98746,     0.98746,     0.98746,     0.98746,     0.98746,     0.98746,     0.98746,     0.98742,      0.9874,      0.9874,     0.98733,     0.98733,     0.98733,\n",
       "            0.98733,     0.98733,     0.98733,     0.98733,     0.98733,     0.98733,     0.98733,     0.98733,     0.98726,      0.9871,     0.98699,     0.98695,      0.9869,     0.98674,     0.98663,     0.98652,     0.98644,     0.98644,     0.98641,     0.98641,     0.98639,     0.98634,     0.98624,\n",
       "             0.9862,     0.98615,     0.98606,     0.98601,     0.98599,     0.98594,     0.98594,     0.98594,     0.98594,     0.98574,     0.98574,     0.98557,     0.98544,     0.98544,     0.98544,     0.98544,     0.98544,      0.9854,      0.9854,      0.9854,      0.9853,      0.9852,     0.98494,\n",
       "            0.98494,     0.98494,     0.98494,     0.98488,     0.98488,     0.98479,     0.98479,      0.9847,     0.98465,     0.98456,     0.98442,     0.98437,     0.98421,     0.98407,     0.98393,     0.98393,     0.98385,     0.98376,     0.98367,     0.98358,     0.98354,     0.98339,     0.98318,\n",
       "            0.98304,     0.98303,     0.98303,     0.98299,     0.98291,     0.98271,     0.98267,     0.98254,     0.98237,     0.98237,     0.98237,     0.98228,     0.98208,     0.98207,     0.98205,     0.98205,     0.98196,     0.98176,     0.98157,     0.98153,     0.98145,     0.98125,     0.98122,\n",
       "             0.9812,     0.98108,     0.98103,     0.98073,     0.98059,     0.98035,     0.98014,     0.98007,     0.98004,     0.97996,     0.97988,     0.97963,     0.97944,     0.97925,     0.97917,     0.97877,     0.97841,     0.97829,     0.97818,     0.97809,     0.97796,     0.97784,      0.9778,\n",
       "            0.97775,     0.97775,     0.97773,      0.9776,     0.97726,     0.97724,     0.97715,     0.97715,     0.97712,     0.97696,     0.97696,     0.97696,     0.97684,     0.97672,     0.97669,      0.9764,     0.97634,     0.97618,     0.97604,     0.97586,      0.9758,     0.97573,      0.9756,\n",
       "            0.97534,     0.97531,     0.97526,     0.97517,       0.975,      0.9749,     0.97472,     0.97453,     0.97439,     0.97435,     0.97414,     0.97402,     0.97396,     0.97389,     0.97374,     0.97367,     0.97364,     0.97343,     0.97323,     0.97315,     0.97303,     0.97282,     0.97275,\n",
       "            0.97275,     0.97259,     0.97239,     0.97236,     0.97231,     0.97219,     0.97214,     0.97208,     0.97208,     0.97204,     0.97195,     0.97182,     0.97161,     0.97146,      0.9714,     0.97128,     0.97087,     0.97087,     0.97078,     0.97062,     0.97041,     0.97007,     0.97001,\n",
       "            0.96991,     0.96975,     0.96931,     0.96896,     0.96878,     0.96859,     0.96849,      0.9684,     0.96837,     0.96791,     0.96778,     0.96752,     0.96735,     0.96694,     0.96684,     0.96664,      0.9665,     0.96648,     0.96629,      0.9661,     0.96579,     0.96559,      0.9654,\n",
       "            0.96526,     0.96507,     0.96503,     0.96489,     0.96475,     0.96448,     0.96436,     0.96436,     0.96433,     0.96425,     0.96392,     0.96347,     0.96333,     0.96298,     0.96288,     0.96256,     0.96244,      0.9623,     0.96213,     0.96199,     0.96182,     0.96168,     0.96147,\n",
       "            0.96116,     0.96093,     0.96085,     0.96078,     0.96037,     0.96021,     0.96007,     0.95985,     0.95948,     0.95935,      0.9593,     0.95883,     0.95857,     0.95828,     0.95793,     0.95785,     0.95739,     0.95716,      0.9571,     0.95693,      0.9566,     0.95631,      0.9561,\n",
       "            0.95598,     0.95596,     0.95571,     0.95542,     0.95505,     0.95502,      0.9547,     0.95455,     0.95441,     0.95419,     0.95399,     0.95361,     0.95334,     0.95302,     0.95294,     0.95276,     0.95254,     0.95214,     0.95191,     0.95173,      0.9514,     0.95083,     0.95036,\n",
       "            0.95008,     0.94983,     0.94959,      0.9494,     0.94897,     0.94878,     0.94843,     0.94806,      0.9479,     0.94767,      0.9473,     0.94683,     0.94641,     0.94619,     0.94589,     0.94547,     0.94506,     0.94468,     0.94428,     0.94396,     0.94382,     0.94364,     0.94317,\n",
       "            0.94292,     0.94236,     0.94203,      0.9417,     0.94119,     0.94086,     0.94073,     0.94009,     0.93982,     0.93962,     0.93902,     0.93847,     0.93811,     0.93768,     0.93744,     0.93719,     0.93682,     0.93635,     0.93605,     0.93562,     0.93531,     0.93485,     0.93437,\n",
       "            0.93375,      0.9334,     0.93318,     0.93265,     0.93224,     0.93198,     0.93145,     0.93078,     0.93027,     0.92983,     0.92961,      0.9292,     0.92843,     0.92817,     0.92767,     0.92701,     0.92655,     0.92623,     0.92584,     0.92547,     0.92505,     0.92454,     0.92424,\n",
       "            0.92367,     0.92282,     0.92251,     0.92215,     0.92174,     0.92122,     0.92077,     0.92035,      0.9197,     0.91911,     0.91842,     0.91777,     0.91723,     0.91634,     0.91587,     0.91488,     0.91441,      0.9135,     0.91304,      0.9122,     0.91131,     0.91088,     0.91009,\n",
       "            0.90974,     0.90924,     0.90861,     0.90791,     0.90726,     0.90665,      0.9059,     0.90536,     0.90433,     0.90386,     0.90253,     0.90154,     0.90052,     0.89931,     0.89885,     0.89772,     0.89694,     0.89595,     0.89504,     0.89396,     0.89323,      0.8921,      0.8907,\n",
       "            0.88972,     0.88835,     0.88723,     0.88655,     0.88497,      0.8835,     0.88249,     0.88122,     0.88004,     0.87874,     0.87736,     0.87629,     0.87453,     0.87312,     0.87131,     0.86976,     0.86734,     0.86558,     0.86435,     0.86242,     0.86058,     0.85954,     0.85686,\n",
       "            0.85504,     0.85273,     0.85063,     0.84871,     0.84645,     0.84445,     0.84057,     0.83845,     0.83637,     0.83382,     0.83024,     0.82722,     0.82311,      0.8184,     0.81517,     0.81011,      0.8065,     0.80058,     0.79331,     0.78698,     0.77869,     0.77026,     0.76064,\n",
       "            0.74843,     0.73509,     0.71918,     0.70609,     0.67724,     0.65496,     0.61495,     0.53375,      0.4306,     0.19813,           0]]), 'Recall', 'Precision'], [array([          0,    0.001001,    0.002002,    0.003003,    0.004004,    0.005005,    0.006006,    0.007007,    0.008008,    0.009009,     0.01001,    0.011011,    0.012012,    0.013013,    0.014014,    0.015015,    0.016016,    0.017017,    0.018018,    0.019019,     0.02002,    0.021021,    0.022022,    0.023023,\n",
       "          0.024024,    0.025025,    0.026026,    0.027027,    0.028028,    0.029029,     0.03003,    0.031031,    0.032032,    0.033033,    0.034034,    0.035035,    0.036036,    0.037037,    0.038038,    0.039039,     0.04004,    0.041041,    0.042042,    0.043043,    0.044044,    0.045045,    0.046046,    0.047047,\n",
       "          0.048048,    0.049049,     0.05005,    0.051051,    0.052052,    0.053053,    0.054054,    0.055055,    0.056056,    0.057057,    0.058058,    0.059059,     0.06006,    0.061061,    0.062062,    0.063063,    0.064064,    0.065065,    0.066066,    0.067067,    0.068068,    0.069069,     0.07007,    0.071071,\n",
       "          0.072072,    0.073073,    0.074074,    0.075075,    0.076076,    0.077077,    0.078078,    0.079079,     0.08008,    0.081081,    0.082082,    0.083083,    0.084084,    0.085085,    0.086086,    0.087087,    0.088088,    0.089089,     0.09009,    0.091091,    0.092092,    0.093093,    0.094094,    0.095095,\n",
       "          0.096096,    0.097097,    0.098098,    0.099099,      0.1001,      0.1011,      0.1021,      0.1031,      0.1041,     0.10511,     0.10611,     0.10711,     0.10811,     0.10911,     0.11011,     0.11111,     0.11211,     0.11311,     0.11411,     0.11512,     0.11612,     0.11712,     0.11812,     0.11912,\n",
       "           0.12012,     0.12112,     0.12212,     0.12312,     0.12412,     0.12513,     0.12613,     0.12713,     0.12813,     0.12913,     0.13013,     0.13113,     0.13213,     0.13313,     0.13413,     0.13514,     0.13614,     0.13714,     0.13814,     0.13914,     0.14014,     0.14114,     0.14214,     0.14314,\n",
       "           0.14414,     0.14515,     0.14615,     0.14715,     0.14815,     0.14915,     0.15015,     0.15115,     0.15215,     0.15315,     0.15415,     0.15516,     0.15616,     0.15716,     0.15816,     0.15916,     0.16016,     0.16116,     0.16216,     0.16316,     0.16416,     0.16517,     0.16617,     0.16717,\n",
       "           0.16817,     0.16917,     0.17017,     0.17117,     0.17217,     0.17317,     0.17417,     0.17518,     0.17618,     0.17718,     0.17818,     0.17918,     0.18018,     0.18118,     0.18218,     0.18318,     0.18418,     0.18519,     0.18619,     0.18719,     0.18819,     0.18919,     0.19019,     0.19119,\n",
       "           0.19219,     0.19319,     0.19419,      0.1952,      0.1962,      0.1972,      0.1982,      0.1992,      0.2002,      0.2012,      0.2022,      0.2032,      0.2042,     0.20521,     0.20621,     0.20721,     0.20821,     0.20921,     0.21021,     0.21121,     0.21221,     0.21321,     0.21421,     0.21522,\n",
       "           0.21622,     0.21722,     0.21822,     0.21922,     0.22022,     0.22122,     0.22222,     0.22322,     0.22422,     0.22523,     0.22623,     0.22723,     0.22823,     0.22923,     0.23023,     0.23123,     0.23223,     0.23323,     0.23423,     0.23524,     0.23624,     0.23724,     0.23824,     0.23924,\n",
       "           0.24024,     0.24124,     0.24224,     0.24324,     0.24424,     0.24525,     0.24625,     0.24725,     0.24825,     0.24925,     0.25025,     0.25125,     0.25225,     0.25325,     0.25425,     0.25526,     0.25626,     0.25726,     0.25826,     0.25926,     0.26026,     0.26126,     0.26226,     0.26326,\n",
       "           0.26426,     0.26527,     0.26627,     0.26727,     0.26827,     0.26927,     0.27027,     0.27127,     0.27227,     0.27327,     0.27427,     0.27528,     0.27628,     0.27728,     0.27828,     0.27928,     0.28028,     0.28128,     0.28228,     0.28328,     0.28428,     0.28529,     0.28629,     0.28729,\n",
       "           0.28829,     0.28929,     0.29029,     0.29129,     0.29229,     0.29329,     0.29429,      0.2953,      0.2963,      0.2973,      0.2983,      0.2993,      0.3003,      0.3013,      0.3023,      0.3033,      0.3043,     0.30531,     0.30631,     0.30731,     0.30831,     0.30931,     0.31031,     0.31131,\n",
       "           0.31231,     0.31331,     0.31431,     0.31532,     0.31632,     0.31732,     0.31832,     0.31932,     0.32032,     0.32132,     0.32232,     0.32332,     0.32432,     0.32533,     0.32633,     0.32733,     0.32833,     0.32933,     0.33033,     0.33133,     0.33233,     0.33333,     0.33433,     0.33534,\n",
       "           0.33634,     0.33734,     0.33834,     0.33934,     0.34034,     0.34134,     0.34234,     0.34334,     0.34434,     0.34535,     0.34635,     0.34735,     0.34835,     0.34935,     0.35035,     0.35135,     0.35235,     0.35335,     0.35435,     0.35536,     0.35636,     0.35736,     0.35836,     0.35936,\n",
       "           0.36036,     0.36136,     0.36236,     0.36336,     0.36436,     0.36537,     0.36637,     0.36737,     0.36837,     0.36937,     0.37037,     0.37137,     0.37237,     0.37337,     0.37437,     0.37538,     0.37638,     0.37738,     0.37838,     0.37938,     0.38038,     0.38138,     0.38238,     0.38338,\n",
       "           0.38438,     0.38539,     0.38639,     0.38739,     0.38839,     0.38939,     0.39039,     0.39139,     0.39239,     0.39339,     0.39439,      0.3954,      0.3964,      0.3974,      0.3984,      0.3994,      0.4004,      0.4014,      0.4024,      0.4034,      0.4044,     0.40541,     0.40641,     0.40741,\n",
       "           0.40841,     0.40941,     0.41041,     0.41141,     0.41241,     0.41341,     0.41441,     0.41542,     0.41642,     0.41742,     0.41842,     0.41942,     0.42042,     0.42142,     0.42242,     0.42342,     0.42442,     0.42543,     0.42643,     0.42743,     0.42843,     0.42943,     0.43043,     0.43143,\n",
       "           0.43243,     0.43343,     0.43443,     0.43544,     0.43644,     0.43744,     0.43844,     0.43944,     0.44044,     0.44144,     0.44244,     0.44344,     0.44444,     0.44545,     0.44645,     0.44745,     0.44845,     0.44945,     0.45045,     0.45145,     0.45245,     0.45345,     0.45445,     0.45546,\n",
       "           0.45646,     0.45746,     0.45846,     0.45946,     0.46046,     0.46146,     0.46246,     0.46346,     0.46446,     0.46547,     0.46647,     0.46747,     0.46847,     0.46947,     0.47047,     0.47147,     0.47247,     0.47347,     0.47447,     0.47548,     0.47648,     0.47748,     0.47848,     0.47948,\n",
       "           0.48048,     0.48148,     0.48248,     0.48348,     0.48448,     0.48549,     0.48649,     0.48749,     0.48849,     0.48949,     0.49049,     0.49149,     0.49249,     0.49349,     0.49449,      0.4955,      0.4965,      0.4975,      0.4985,      0.4995,      0.5005,      0.5015,      0.5025,      0.5035,\n",
       "            0.5045,     0.50551,     0.50651,     0.50751,     0.50851,     0.50951,     0.51051,     0.51151,     0.51251,     0.51351,     0.51451,     0.51552,     0.51652,     0.51752,     0.51852,     0.51952,     0.52052,     0.52152,     0.52252,     0.52352,     0.52452,     0.52553,     0.52653,     0.52753,\n",
       "           0.52853,     0.52953,     0.53053,     0.53153,     0.53253,     0.53353,     0.53453,     0.53554,     0.53654,     0.53754,     0.53854,     0.53954,     0.54054,     0.54154,     0.54254,     0.54354,     0.54454,     0.54555,     0.54655,     0.54755,     0.54855,     0.54955,     0.55055,     0.55155,\n",
       "           0.55255,     0.55355,     0.55455,     0.55556,     0.55656,     0.55756,     0.55856,     0.55956,     0.56056,     0.56156,     0.56256,     0.56356,     0.56456,     0.56557,     0.56657,     0.56757,     0.56857,     0.56957,     0.57057,     0.57157,     0.57257,     0.57357,     0.57457,     0.57558,\n",
       "           0.57658,     0.57758,     0.57858,     0.57958,     0.58058,     0.58158,     0.58258,     0.58358,     0.58458,     0.58559,     0.58659,     0.58759,     0.58859,     0.58959,     0.59059,     0.59159,     0.59259,     0.59359,     0.59459,      0.5956,      0.5966,      0.5976,      0.5986,      0.5996,\n",
       "            0.6006,      0.6016,      0.6026,      0.6036,      0.6046,     0.60561,     0.60661,     0.60761,     0.60861,     0.60961,     0.61061,     0.61161,     0.61261,     0.61361,     0.61461,     0.61562,     0.61662,     0.61762,     0.61862,     0.61962,     0.62062,     0.62162,     0.62262,     0.62362,\n",
       "           0.62462,     0.62563,     0.62663,     0.62763,     0.62863,     0.62963,     0.63063,     0.63163,     0.63263,     0.63363,     0.63463,     0.63564,     0.63664,     0.63764,     0.63864,     0.63964,     0.64064,     0.64164,     0.64264,     0.64364,     0.64464,     0.64565,     0.64665,     0.64765,\n",
       "           0.64865,     0.64965,     0.65065,     0.65165,     0.65265,     0.65365,     0.65465,     0.65566,     0.65666,     0.65766,     0.65866,     0.65966,     0.66066,     0.66166,     0.66266,     0.66366,     0.66466,     0.66567,     0.66667,     0.66767,     0.66867,     0.66967,     0.67067,     0.67167,\n",
       "           0.67267,     0.67367,     0.67467,     0.67568,     0.67668,     0.67768,     0.67868,     0.67968,     0.68068,     0.68168,     0.68268,     0.68368,     0.68468,     0.68569,     0.68669,     0.68769,     0.68869,     0.68969,     0.69069,     0.69169,     0.69269,     0.69369,     0.69469,      0.6957,\n",
       "            0.6967,      0.6977,      0.6987,      0.6997,      0.7007,      0.7017,      0.7027,      0.7037,      0.7047,     0.70571,     0.70671,     0.70771,     0.70871,     0.70971,     0.71071,     0.71171,     0.71271,     0.71371,     0.71471,     0.71572,     0.71672,     0.71772,     0.71872,     0.71972,\n",
       "           0.72072,     0.72172,     0.72272,     0.72372,     0.72472,     0.72573,     0.72673,     0.72773,     0.72873,     0.72973,     0.73073,     0.73173,     0.73273,     0.73373,     0.73473,     0.73574,     0.73674,     0.73774,     0.73874,     0.73974,     0.74074,     0.74174,     0.74274,     0.74374,\n",
       "           0.74474,     0.74575,     0.74675,     0.74775,     0.74875,     0.74975,     0.75075,     0.75175,     0.75275,     0.75375,     0.75475,     0.75576,     0.75676,     0.75776,     0.75876,     0.75976,     0.76076,     0.76176,     0.76276,     0.76376,     0.76476,     0.76577,     0.76677,     0.76777,\n",
       "           0.76877,     0.76977,     0.77077,     0.77177,     0.77277,     0.77377,     0.77477,     0.77578,     0.77678,     0.77778,     0.77878,     0.77978,     0.78078,     0.78178,     0.78278,     0.78378,     0.78478,     0.78579,     0.78679,     0.78779,     0.78879,     0.78979,     0.79079,     0.79179,\n",
       "           0.79279,     0.79379,     0.79479,      0.7958,      0.7968,      0.7978,      0.7988,      0.7998,      0.8008,      0.8018,      0.8028,      0.8038,      0.8048,     0.80581,     0.80681,     0.80781,     0.80881,     0.80981,     0.81081,     0.81181,     0.81281,     0.81381,     0.81481,     0.81582,\n",
       "           0.81682,     0.81782,     0.81882,     0.81982,     0.82082,     0.82182,     0.82282,     0.82382,     0.82482,     0.82583,     0.82683,     0.82783,     0.82883,     0.82983,     0.83083,     0.83183,     0.83283,     0.83383,     0.83483,     0.83584,     0.83684,     0.83784,     0.83884,     0.83984,\n",
       "           0.84084,     0.84184,     0.84284,     0.84384,     0.84484,     0.84585,     0.84685,     0.84785,     0.84885,     0.84985,     0.85085,     0.85185,     0.85285,     0.85385,     0.85485,     0.85586,     0.85686,     0.85786,     0.85886,     0.85986,     0.86086,     0.86186,     0.86286,     0.86386,\n",
       "           0.86486,     0.86587,     0.86687,     0.86787,     0.86887,     0.86987,     0.87087,     0.87187,     0.87287,     0.87387,     0.87487,     0.87588,     0.87688,     0.87788,     0.87888,     0.87988,     0.88088,     0.88188,     0.88288,     0.88388,     0.88488,     0.88589,     0.88689,     0.88789,\n",
       "           0.88889,     0.88989,     0.89089,     0.89189,     0.89289,     0.89389,     0.89489,      0.8959,      0.8969,      0.8979,      0.8989,      0.8999,      0.9009,      0.9019,      0.9029,      0.9039,      0.9049,     0.90591,     0.90691,     0.90791,     0.90891,     0.90991,     0.91091,     0.91191,\n",
       "           0.91291,     0.91391,     0.91491,     0.91592,     0.91692,     0.91792,     0.91892,     0.91992,     0.92092,     0.92192,     0.92292,     0.92392,     0.92492,     0.92593,     0.92693,     0.92793,     0.92893,     0.92993,     0.93093,     0.93193,     0.93293,     0.93393,     0.93493,     0.93594,\n",
       "           0.93694,     0.93794,     0.93894,     0.93994,     0.94094,     0.94194,     0.94294,     0.94394,     0.94494,     0.94595,     0.94695,     0.94795,     0.94895,     0.94995,     0.95095,     0.95195,     0.95295,     0.95395,     0.95495,     0.95596,     0.95696,     0.95796,     0.95896,     0.95996,\n",
       "           0.96096,     0.96196,     0.96296,     0.96396,     0.96496,     0.96597,     0.96697,     0.96797,     0.96897,     0.96997,     0.97097,     0.97197,     0.97297,     0.97397,     0.97497,     0.97598,     0.97698,     0.97798,     0.97898,     0.97998,     0.98098,     0.98198,     0.98298,     0.98398,\n",
       "           0.98498,     0.98599,     0.98699,     0.98799,     0.98899,     0.98999,     0.99099,     0.99199,     0.99299,     0.99399,     0.99499,       0.996,       0.997,       0.998,       0.999,           1]), array([[     0.4231,     0.42328,     0.53912,     0.59857,     0.63432,     0.65949,     0.67789,     0.69268,     0.70501,     0.71531,     0.72405,     0.73148,     0.73819,     0.74393,     0.74955,     0.75491,     0.75914,     0.76325,     0.76702,     0.77066,       0.774,     0.77719,     0.78004,\n",
       "            0.78285,     0.78589,     0.78844,     0.79085,     0.79322,     0.79537,     0.79752,     0.79943,     0.80136,     0.80324,      0.8051,     0.80708,     0.80869,     0.81052,      0.8121,     0.81375,     0.81539,     0.81694,     0.81841,     0.81992,     0.82121,     0.82249,     0.82365,\n",
       "            0.82482,     0.82597,     0.82713,     0.82819,     0.82942,     0.83051,     0.83152,     0.83226,     0.83334,     0.83442,     0.83516,     0.83608,      0.8369,     0.83793,     0.83896,     0.83973,     0.84061,     0.84156,     0.84238,     0.84322,     0.84393,     0.84468,     0.84559,\n",
       "            0.84626,       0.847,      0.8478,     0.84852,     0.84923,     0.84997,     0.85047,     0.85093,     0.85177,     0.85239,     0.85304,     0.85344,     0.85431,      0.8548,     0.85542,     0.85607,     0.85665,     0.85726,     0.85778,     0.85836,     0.85894,     0.85966,     0.86017,\n",
       "            0.86079,     0.86132,     0.86187,     0.86224,     0.86262,     0.86306,     0.86362,     0.86412,     0.86476,     0.86531,     0.86582,     0.86642,     0.86685,     0.86725,     0.86773,     0.86837,     0.86892,     0.86928,     0.86977,     0.87021,     0.87054,       0.871,     0.87145,\n",
       "            0.87183,     0.87221,     0.87255,     0.87298,     0.87335,      0.8737,     0.87405,     0.87445,     0.87475,       0.875,     0.87538,     0.87572,     0.87603,     0.87654,     0.87679,     0.87697,     0.87728,      0.8778,     0.87804,     0.87833,     0.87882,     0.87912,     0.87949,\n",
       "            0.87972,        0.88,     0.88034,     0.88057,     0.88084,     0.88123,     0.88152,     0.88188,     0.88224,     0.88246,     0.88289,     0.88318,     0.88346,     0.88383,      0.8843,     0.88448,     0.88497,     0.88535,     0.88576,     0.88609,      0.8864,     0.88663,     0.88686,\n",
       "            0.88716,     0.88742,     0.88781,     0.88812,     0.88839,     0.88874,     0.88913,     0.88942,     0.88964,     0.88995,     0.89005,     0.89037,     0.89069,     0.89092,     0.89111,     0.89125,     0.89145,     0.89169,     0.89186,     0.89214,     0.89244,     0.89264,     0.89282,\n",
       "            0.89318,     0.89346,     0.89377,     0.89399,      0.8942,     0.89448,     0.89465,       0.895,     0.89527,     0.89557,     0.89577,     0.89614,     0.89625,     0.89645,     0.89669,     0.89668,     0.89683,     0.89704,     0.89734,     0.89759,     0.89778,     0.89801,     0.89825,\n",
       "            0.89855,     0.89874,     0.89902,     0.89927,     0.89944,     0.89966,     0.89981,     0.89993,     0.90004,      0.9003,     0.90036,     0.90039,     0.90045,     0.90069,     0.90081,     0.90087,     0.90111,     0.90124,     0.90137,     0.90139,     0.90163,     0.90177,     0.90191,\n",
       "            0.90208,     0.90221,     0.90252,     0.90274,     0.90291,     0.90301,     0.90315,     0.90332,     0.90358,     0.90373,     0.90389,     0.90415,     0.90425,     0.90438,     0.90444,     0.90451,     0.90467,     0.90484,       0.905,     0.90524,     0.90542,     0.90551,     0.90561,\n",
       "            0.90573,     0.90591,     0.90611,     0.90629,     0.90642,     0.90657,     0.90662,     0.90681,     0.90703,     0.90701,     0.90724,     0.90733,     0.90748,     0.90767,     0.90773,     0.90787,     0.90796,     0.90805,     0.90816,     0.90834,     0.90843,     0.90858,     0.90894,\n",
       "            0.90903,     0.90916,     0.90916,     0.90928,     0.90933,     0.90933,     0.90956,     0.90979,     0.90979,     0.90994,     0.90991,     0.90997,     0.91007,     0.91029,     0.91027,     0.91034,     0.91049,     0.91056,     0.91055,      0.9107,     0.91078,     0.91076,     0.91087,\n",
       "            0.91114,     0.91118,     0.91116,     0.91118,     0.91132,     0.91141,     0.91139,     0.91149,     0.91169,     0.91184,     0.91195,     0.91215,     0.91219,     0.91229,     0.91243,     0.91255,     0.91257,     0.91275,     0.91291,     0.91302,     0.91303,     0.91311,     0.91314,\n",
       "            0.91316,     0.91329,     0.91324,     0.91344,     0.91365,      0.9137,     0.91377,     0.91376,     0.91397,     0.91398,     0.91404,     0.91406,     0.91406,     0.91411,     0.91413,     0.91422,     0.91435,     0.91426,     0.91438,     0.91454,     0.91457,     0.91469,     0.91457,\n",
       "            0.91468,     0.91474,     0.91471,     0.91477,     0.91475,      0.9149,       0.915,     0.91498,     0.91497,     0.91504,     0.91505,      0.9152,     0.91535,      0.9153,     0.91535,     0.91541,     0.91557,     0.91566,     0.91571,     0.91574,     0.91568,     0.91567,     0.91561,\n",
       "            0.91568,     0.91579,     0.91573,     0.91584,     0.91585,     0.91588,     0.91599,     0.91606,     0.91614,     0.91604,      0.9161,     0.91614,     0.91632,     0.91641,     0.91634,     0.91644,     0.91641,     0.91644,     0.91648,     0.91646,     0.91643,     0.91636,     0.91644,\n",
       "            0.91637,     0.91642,     0.91648,     0.91647,      0.9165,     0.91647,     0.91662,     0.91645,     0.91651,     0.91659,     0.91653,     0.91646,     0.91639,     0.91641,     0.91655,     0.91648,     0.91655,     0.91644,      0.9163,     0.91633,     0.91642,     0.91637,     0.91643,\n",
       "            0.91654,     0.91641,      0.9164,     0.91649,     0.91639,     0.91647,     0.91649,     0.91652,     0.91653,     0.91663,     0.91666,     0.91673,     0.91667,     0.91664,     0.91648,     0.91648,     0.91657,     0.91653,     0.91651,     0.91641,     0.91633,     0.91626,     0.91626,\n",
       "            0.91623,     0.91608,     0.91606,     0.91605,       0.916,     0.91586,      0.9158,     0.91574,     0.91578,     0.91563,     0.91547,     0.91545,     0.91537,     0.91517,     0.91516,     0.91502,     0.91498,     0.91503,     0.91498,     0.91487,     0.91478,     0.91467,     0.91455,\n",
       "            0.91444,     0.91458,     0.91452,     0.91445,     0.91449,     0.91442,     0.91433,     0.91422,      0.9142,     0.91417,      0.9141,     0.91395,     0.91392,     0.91389,       0.914,     0.91394,     0.91372,     0.91362,     0.91363,     0.91361,     0.91358,     0.91358,      0.9134,\n",
       "            0.91346,     0.91331,     0.91325,     0.91317,     0.91312,     0.91306,     0.91295,     0.91288,     0.91286,     0.91273,     0.91258,     0.91258,     0.91237,     0.91225,     0.91214,     0.91209,     0.91186,     0.91168,     0.91157,      0.9114,     0.91127,     0.91121,     0.91099,\n",
       "            0.91087,     0.91069,     0.91066,     0.91062,     0.91056,     0.91038,     0.91035,     0.91027,     0.91009,     0.90994,     0.90983,     0.90964,      0.9094,     0.90928,     0.90917,     0.90893,     0.90885,     0.90868,     0.90844,     0.90835,     0.90819,     0.90802,     0.90793,\n",
       "            0.90781,     0.90762,     0.90758,     0.90743,     0.90724,     0.90721,     0.90716,     0.90705,     0.90674,     0.90661,     0.90636,     0.90624,     0.90605,     0.90596,     0.90574,     0.90564,     0.90552,     0.90545,     0.90534,     0.90519,     0.90493,     0.90475,     0.90441,\n",
       "            0.90437,     0.90422,     0.90389,     0.90369,     0.90355,     0.90333,     0.90321,     0.90301,      0.9028,     0.90263,     0.90245,     0.90236,     0.90207,     0.90186,     0.90174,     0.90143,     0.90126,     0.90112,     0.90089,     0.90056,     0.90039,     0.90014,     0.89974,\n",
       "            0.89955,     0.89927,     0.89915,     0.89905,      0.8989,     0.89876,     0.89863,     0.89829,     0.89808,     0.89779,     0.89749,     0.89721,      0.8968,     0.89665,     0.89634,      0.8962,     0.89586,     0.89557,     0.89542,     0.89522,     0.89509,     0.89459,     0.89445,\n",
       "            0.89408,     0.89362,     0.89309,     0.89272,     0.89254,     0.89233,     0.89202,     0.89191,     0.89157,     0.89147,      0.8912,     0.89086,     0.89054,     0.89013,     0.89011,     0.88981,     0.88964,      0.8893,     0.88885,     0.88839,     0.88809,     0.88776,     0.88738,\n",
       "            0.88706,     0.88684,     0.88639,     0.88605,     0.88565,     0.88529,      0.8849,     0.88458,     0.88441,     0.88418,     0.88393,     0.88343,     0.88315,     0.88275,     0.88237,     0.88192,     0.88142,     0.88092,     0.88065,     0.88026,     0.87991,      0.8795,     0.87918,\n",
       "            0.87862,     0.87821,     0.87765,      0.8772,     0.87649,     0.87618,     0.87575,     0.87535,     0.87478,     0.87416,     0.87366,     0.87303,     0.87272,     0.87238,     0.87204,     0.87141,     0.87095,     0.87039,      0.8698,     0.86941,     0.86903,     0.86859,     0.86833,\n",
       "            0.86751,      0.8669,      0.8665,     0.86596,     0.86535,     0.86484,     0.86433,     0.86368,     0.86308,     0.86278,     0.86227,     0.86166,     0.86084,     0.86004,     0.85947,     0.85888,     0.85829,     0.85782,     0.85706,     0.85664,     0.85611,     0.85589,     0.85509,\n",
       "            0.85443,     0.85353,     0.85281,     0.85227,     0.85162,     0.85089,     0.85035,     0.84973,     0.84906,     0.84831,     0.84751,     0.84651,     0.84564,     0.84492,     0.84432,     0.84384,     0.84303,     0.84234,      0.8418,     0.84104,     0.84029,     0.83964,     0.83895,\n",
       "            0.83818,     0.83749,     0.83671,     0.83577,     0.83497,     0.83392,     0.83298,     0.83227,      0.8313,     0.83037,      0.8297,     0.82897,     0.82792,     0.82711,     0.82637,     0.82523,     0.82415,     0.82325,     0.82219,      0.8211,     0.82015,     0.81903,     0.81825,\n",
       "            0.81721,     0.81584,     0.81472,     0.81352,     0.81255,     0.81142,     0.81045,     0.80951,     0.80837,     0.80716,     0.80609,     0.80493,     0.80411,     0.80294,     0.80169,     0.80063,     0.79946,     0.79801,     0.79706,     0.79588,     0.79449,     0.79292,     0.79178,\n",
       "            0.79063,     0.78928,     0.78837,     0.78746,     0.78635,     0.78527,     0.78424,     0.78263,     0.78102,      0.7798,     0.77835,     0.77679,     0.77558,     0.77416,     0.77281,     0.77134,     0.76977,     0.76849,     0.76673,     0.76504,      0.7636,     0.76187,     0.76024,\n",
       "            0.75827,     0.75659,     0.75458,       0.753,     0.75107,     0.74927,     0.74716,      0.7453,     0.74326,     0.74135,     0.73934,     0.73725,     0.73511,     0.73325,     0.73091,     0.72878,     0.72678,     0.72472,     0.72297,     0.72081,     0.71853,      0.7162,     0.71365,\n",
       "            0.71091,     0.70834,     0.70584,     0.70316,     0.69998,     0.69747,     0.69458,     0.69182,     0.68879,     0.68605,     0.68361,     0.68088,     0.67836,     0.67474,     0.67157,     0.66892,     0.66565,     0.66229,     0.65898,     0.65556,     0.65209,     0.64889,     0.64567,\n",
       "             0.6424,     0.63903,     0.63526,     0.63151,     0.62786,     0.62413,     0.62075,     0.61692,     0.61259,      0.6081,     0.60394,     0.59931,     0.59553,     0.59117,     0.58698,     0.58228,     0.57741,     0.57297,     0.56836,     0.56379,     0.55779,     0.55275,     0.54796,\n",
       "            0.54301,     0.53645,     0.53163,     0.52654,     0.52126,     0.51561,     0.50967,     0.50335,     0.49745,     0.49034,     0.48432,     0.47858,     0.47012,     0.46221,     0.45526,     0.44819,     0.44136,      0.4347,     0.42677,      0.4182,      0.4106,     0.40266,     0.39401,\n",
       "            0.38621,     0.37741,     0.36834,     0.35949,     0.35127,     0.34245,     0.33191,     0.32221,     0.31265,     0.30483,     0.29542,     0.28644,     0.27622,     0.26783,      0.2585,     0.24834,     0.23881,     0.22893,     0.21965,     0.20862,      0.1993,     0.19009,     0.17985,\n",
       "            0.16981,     0.15899,     0.14961,     0.14048,     0.13137,     0.12319,     0.11393,     0.10627,    0.098695,     0.09218,    0.085225,    0.078861,    0.072058,     0.06474,    0.059596,    0.054561,    0.048632,    0.043064,     0.03791,    0.032502,    0.029222,    0.025597,    0.022763,\n",
       "           0.020315,    0.017749,     0.01462,    0.012781,     0.01097,   0.0089782,   0.0078049,   0.0065855,   0.0053163,    0.004685,    0.003756,    0.002754,   0.0024437,     0.00181,   0.0014906,   0.0013683,   0.0012166,   0.0010778,  0.00070904,  0.00050684,  0.00035098,  0.00027734,  0.00022283,\n",
       "         0.00021491,    0.000207,  0.00019909,  0.00019118,  0.00018327,  0.00017536,  0.00016744,  0.00015953,  0.00015162,  0.00013713,  0.00012173,  0.00010634,  9.0939e-05,  7.5543e-05,           0,           0,           0,           0,           0,           0,           0,           0,           0,\n",
       "                  0,           0,           0,           0,           0,           0,           0,           0,           0,           0,           0,           0,           0,           0,           0,           0,           0,           0,           0,           0,           0,           0,           0,\n",
       "                  0,           0,           0,           0,           0,           0,           0,           0,           0,           0,           0]]), 'Confidence', 'F1'], [array([          0,    0.001001,    0.002002,    0.003003,    0.004004,    0.005005,    0.006006,    0.007007,    0.008008,    0.009009,     0.01001,    0.011011,    0.012012,    0.013013,    0.014014,    0.015015,    0.016016,    0.017017,    0.018018,    0.019019,     0.02002,    0.021021,    0.022022,    0.023023,\n",
       "          0.024024,    0.025025,    0.026026,    0.027027,    0.028028,    0.029029,     0.03003,    0.031031,    0.032032,    0.033033,    0.034034,    0.035035,    0.036036,    0.037037,    0.038038,    0.039039,     0.04004,    0.041041,    0.042042,    0.043043,    0.044044,    0.045045,    0.046046,    0.047047,\n",
       "          0.048048,    0.049049,     0.05005,    0.051051,    0.052052,    0.053053,    0.054054,    0.055055,    0.056056,    0.057057,    0.058058,    0.059059,     0.06006,    0.061061,    0.062062,    0.063063,    0.064064,    0.065065,    0.066066,    0.067067,    0.068068,    0.069069,     0.07007,    0.071071,\n",
       "          0.072072,    0.073073,    0.074074,    0.075075,    0.076076,    0.077077,    0.078078,    0.079079,     0.08008,    0.081081,    0.082082,    0.083083,    0.084084,    0.085085,    0.086086,    0.087087,    0.088088,    0.089089,     0.09009,    0.091091,    0.092092,    0.093093,    0.094094,    0.095095,\n",
       "          0.096096,    0.097097,    0.098098,    0.099099,      0.1001,      0.1011,      0.1021,      0.1031,      0.1041,     0.10511,     0.10611,     0.10711,     0.10811,     0.10911,     0.11011,     0.11111,     0.11211,     0.11311,     0.11411,     0.11512,     0.11612,     0.11712,     0.11812,     0.11912,\n",
       "           0.12012,     0.12112,     0.12212,     0.12312,     0.12412,     0.12513,     0.12613,     0.12713,     0.12813,     0.12913,     0.13013,     0.13113,     0.13213,     0.13313,     0.13413,     0.13514,     0.13614,     0.13714,     0.13814,     0.13914,     0.14014,     0.14114,     0.14214,     0.14314,\n",
       "           0.14414,     0.14515,     0.14615,     0.14715,     0.14815,     0.14915,     0.15015,     0.15115,     0.15215,     0.15315,     0.15415,     0.15516,     0.15616,     0.15716,     0.15816,     0.15916,     0.16016,     0.16116,     0.16216,     0.16316,     0.16416,     0.16517,     0.16617,     0.16717,\n",
       "           0.16817,     0.16917,     0.17017,     0.17117,     0.17217,     0.17317,     0.17417,     0.17518,     0.17618,     0.17718,     0.17818,     0.17918,     0.18018,     0.18118,     0.18218,     0.18318,     0.18418,     0.18519,     0.18619,     0.18719,     0.18819,     0.18919,     0.19019,     0.19119,\n",
       "           0.19219,     0.19319,     0.19419,      0.1952,      0.1962,      0.1972,      0.1982,      0.1992,      0.2002,      0.2012,      0.2022,      0.2032,      0.2042,     0.20521,     0.20621,     0.20721,     0.20821,     0.20921,     0.21021,     0.21121,     0.21221,     0.21321,     0.21421,     0.21522,\n",
       "           0.21622,     0.21722,     0.21822,     0.21922,     0.22022,     0.22122,     0.22222,     0.22322,     0.22422,     0.22523,     0.22623,     0.22723,     0.22823,     0.22923,     0.23023,     0.23123,     0.23223,     0.23323,     0.23423,     0.23524,     0.23624,     0.23724,     0.23824,     0.23924,\n",
       "           0.24024,     0.24124,     0.24224,     0.24324,     0.24424,     0.24525,     0.24625,     0.24725,     0.24825,     0.24925,     0.25025,     0.25125,     0.25225,     0.25325,     0.25425,     0.25526,     0.25626,     0.25726,     0.25826,     0.25926,     0.26026,     0.26126,     0.26226,     0.26326,\n",
       "           0.26426,     0.26527,     0.26627,     0.26727,     0.26827,     0.26927,     0.27027,     0.27127,     0.27227,     0.27327,     0.27427,     0.27528,     0.27628,     0.27728,     0.27828,     0.27928,     0.28028,     0.28128,     0.28228,     0.28328,     0.28428,     0.28529,     0.28629,     0.28729,\n",
       "           0.28829,     0.28929,     0.29029,     0.29129,     0.29229,     0.29329,     0.29429,      0.2953,      0.2963,      0.2973,      0.2983,      0.2993,      0.3003,      0.3013,      0.3023,      0.3033,      0.3043,     0.30531,     0.30631,     0.30731,     0.30831,     0.30931,     0.31031,     0.31131,\n",
       "           0.31231,     0.31331,     0.31431,     0.31532,     0.31632,     0.31732,     0.31832,     0.31932,     0.32032,     0.32132,     0.32232,     0.32332,     0.32432,     0.32533,     0.32633,     0.32733,     0.32833,     0.32933,     0.33033,     0.33133,     0.33233,     0.33333,     0.33433,     0.33534,\n",
       "           0.33634,     0.33734,     0.33834,     0.33934,     0.34034,     0.34134,     0.34234,     0.34334,     0.34434,     0.34535,     0.34635,     0.34735,     0.34835,     0.34935,     0.35035,     0.35135,     0.35235,     0.35335,     0.35435,     0.35536,     0.35636,     0.35736,     0.35836,     0.35936,\n",
       "           0.36036,     0.36136,     0.36236,     0.36336,     0.36436,     0.36537,     0.36637,     0.36737,     0.36837,     0.36937,     0.37037,     0.37137,     0.37237,     0.37337,     0.37437,     0.37538,     0.37638,     0.37738,     0.37838,     0.37938,     0.38038,     0.38138,     0.38238,     0.38338,\n",
       "           0.38438,     0.38539,     0.38639,     0.38739,     0.38839,     0.38939,     0.39039,     0.39139,     0.39239,     0.39339,     0.39439,      0.3954,      0.3964,      0.3974,      0.3984,      0.3994,      0.4004,      0.4014,      0.4024,      0.4034,      0.4044,     0.40541,     0.40641,     0.40741,\n",
       "           0.40841,     0.40941,     0.41041,     0.41141,     0.41241,     0.41341,     0.41441,     0.41542,     0.41642,     0.41742,     0.41842,     0.41942,     0.42042,     0.42142,     0.42242,     0.42342,     0.42442,     0.42543,     0.42643,     0.42743,     0.42843,     0.42943,     0.43043,     0.43143,\n",
       "           0.43243,     0.43343,     0.43443,     0.43544,     0.43644,     0.43744,     0.43844,     0.43944,     0.44044,     0.44144,     0.44244,     0.44344,     0.44444,     0.44545,     0.44645,     0.44745,     0.44845,     0.44945,     0.45045,     0.45145,     0.45245,     0.45345,     0.45445,     0.45546,\n",
       "           0.45646,     0.45746,     0.45846,     0.45946,     0.46046,     0.46146,     0.46246,     0.46346,     0.46446,     0.46547,     0.46647,     0.46747,     0.46847,     0.46947,     0.47047,     0.47147,     0.47247,     0.47347,     0.47447,     0.47548,     0.47648,     0.47748,     0.47848,     0.47948,\n",
       "           0.48048,     0.48148,     0.48248,     0.48348,     0.48448,     0.48549,     0.48649,     0.48749,     0.48849,     0.48949,     0.49049,     0.49149,     0.49249,     0.49349,     0.49449,      0.4955,      0.4965,      0.4975,      0.4985,      0.4995,      0.5005,      0.5015,      0.5025,      0.5035,\n",
       "            0.5045,     0.50551,     0.50651,     0.50751,     0.50851,     0.50951,     0.51051,     0.51151,     0.51251,     0.51351,     0.51451,     0.51552,     0.51652,     0.51752,     0.51852,     0.51952,     0.52052,     0.52152,     0.52252,     0.52352,     0.52452,     0.52553,     0.52653,     0.52753,\n",
       "           0.52853,     0.52953,     0.53053,     0.53153,     0.53253,     0.53353,     0.53453,     0.53554,     0.53654,     0.53754,     0.53854,     0.53954,     0.54054,     0.54154,     0.54254,     0.54354,     0.54454,     0.54555,     0.54655,     0.54755,     0.54855,     0.54955,     0.55055,     0.55155,\n",
       "           0.55255,     0.55355,     0.55455,     0.55556,     0.55656,     0.55756,     0.55856,     0.55956,     0.56056,     0.56156,     0.56256,     0.56356,     0.56456,     0.56557,     0.56657,     0.56757,     0.56857,     0.56957,     0.57057,     0.57157,     0.57257,     0.57357,     0.57457,     0.57558,\n",
       "           0.57658,     0.57758,     0.57858,     0.57958,     0.58058,     0.58158,     0.58258,     0.58358,     0.58458,     0.58559,     0.58659,     0.58759,     0.58859,     0.58959,     0.59059,     0.59159,     0.59259,     0.59359,     0.59459,      0.5956,      0.5966,      0.5976,      0.5986,      0.5996,\n",
       "            0.6006,      0.6016,      0.6026,      0.6036,      0.6046,     0.60561,     0.60661,     0.60761,     0.60861,     0.60961,     0.61061,     0.61161,     0.61261,     0.61361,     0.61461,     0.61562,     0.61662,     0.61762,     0.61862,     0.61962,     0.62062,     0.62162,     0.62262,     0.62362,\n",
       "           0.62462,     0.62563,     0.62663,     0.62763,     0.62863,     0.62963,     0.63063,     0.63163,     0.63263,     0.63363,     0.63463,     0.63564,     0.63664,     0.63764,     0.63864,     0.63964,     0.64064,     0.64164,     0.64264,     0.64364,     0.64464,     0.64565,     0.64665,     0.64765,\n",
       "           0.64865,     0.64965,     0.65065,     0.65165,     0.65265,     0.65365,     0.65465,     0.65566,     0.65666,     0.65766,     0.65866,     0.65966,     0.66066,     0.66166,     0.66266,     0.66366,     0.66466,     0.66567,     0.66667,     0.66767,     0.66867,     0.66967,     0.67067,     0.67167,\n",
       "           0.67267,     0.67367,     0.67467,     0.67568,     0.67668,     0.67768,     0.67868,     0.67968,     0.68068,     0.68168,     0.68268,     0.68368,     0.68468,     0.68569,     0.68669,     0.68769,     0.68869,     0.68969,     0.69069,     0.69169,     0.69269,     0.69369,     0.69469,      0.6957,\n",
       "            0.6967,      0.6977,      0.6987,      0.6997,      0.7007,      0.7017,      0.7027,      0.7037,      0.7047,     0.70571,     0.70671,     0.70771,     0.70871,     0.70971,     0.71071,     0.71171,     0.71271,     0.71371,     0.71471,     0.71572,     0.71672,     0.71772,     0.71872,     0.71972,\n",
       "           0.72072,     0.72172,     0.72272,     0.72372,     0.72472,     0.72573,     0.72673,     0.72773,     0.72873,     0.72973,     0.73073,     0.73173,     0.73273,     0.73373,     0.73473,     0.73574,     0.73674,     0.73774,     0.73874,     0.73974,     0.74074,     0.74174,     0.74274,     0.74374,\n",
       "           0.74474,     0.74575,     0.74675,     0.74775,     0.74875,     0.74975,     0.75075,     0.75175,     0.75275,     0.75375,     0.75475,     0.75576,     0.75676,     0.75776,     0.75876,     0.75976,     0.76076,     0.76176,     0.76276,     0.76376,     0.76476,     0.76577,     0.76677,     0.76777,\n",
       "           0.76877,     0.76977,     0.77077,     0.77177,     0.77277,     0.77377,     0.77477,     0.77578,     0.77678,     0.77778,     0.77878,     0.77978,     0.78078,     0.78178,     0.78278,     0.78378,     0.78478,     0.78579,     0.78679,     0.78779,     0.78879,     0.78979,     0.79079,     0.79179,\n",
       "           0.79279,     0.79379,     0.79479,      0.7958,      0.7968,      0.7978,      0.7988,      0.7998,      0.8008,      0.8018,      0.8028,      0.8038,      0.8048,     0.80581,     0.80681,     0.80781,     0.80881,     0.80981,     0.81081,     0.81181,     0.81281,     0.81381,     0.81481,     0.81582,\n",
       "           0.81682,     0.81782,     0.81882,     0.81982,     0.82082,     0.82182,     0.82282,     0.82382,     0.82482,     0.82583,     0.82683,     0.82783,     0.82883,     0.82983,     0.83083,     0.83183,     0.83283,     0.83383,     0.83483,     0.83584,     0.83684,     0.83784,     0.83884,     0.83984,\n",
       "           0.84084,     0.84184,     0.84284,     0.84384,     0.84484,     0.84585,     0.84685,     0.84785,     0.84885,     0.84985,     0.85085,     0.85185,     0.85285,     0.85385,     0.85485,     0.85586,     0.85686,     0.85786,     0.85886,     0.85986,     0.86086,     0.86186,     0.86286,     0.86386,\n",
       "           0.86486,     0.86587,     0.86687,     0.86787,     0.86887,     0.86987,     0.87087,     0.87187,     0.87287,     0.87387,     0.87487,     0.87588,     0.87688,     0.87788,     0.87888,     0.87988,     0.88088,     0.88188,     0.88288,     0.88388,     0.88488,     0.88589,     0.88689,     0.88789,\n",
       "           0.88889,     0.88989,     0.89089,     0.89189,     0.89289,     0.89389,     0.89489,      0.8959,      0.8969,      0.8979,      0.8989,      0.8999,      0.9009,      0.9019,      0.9029,      0.9039,      0.9049,     0.90591,     0.90691,     0.90791,     0.90891,     0.90991,     0.91091,     0.91191,\n",
       "           0.91291,     0.91391,     0.91491,     0.91592,     0.91692,     0.91792,     0.91892,     0.91992,     0.92092,     0.92192,     0.92292,     0.92392,     0.92492,     0.92593,     0.92693,     0.92793,     0.92893,     0.92993,     0.93093,     0.93193,     0.93293,     0.93393,     0.93493,     0.93594,\n",
       "           0.93694,     0.93794,     0.93894,     0.93994,     0.94094,     0.94194,     0.94294,     0.94394,     0.94494,     0.94595,     0.94695,     0.94795,     0.94895,     0.94995,     0.95095,     0.95195,     0.95295,     0.95395,     0.95495,     0.95596,     0.95696,     0.95796,     0.95896,     0.95996,\n",
       "           0.96096,     0.96196,     0.96296,     0.96396,     0.96496,     0.96597,     0.96697,     0.96797,     0.96897,     0.96997,     0.97097,     0.97197,     0.97297,     0.97397,     0.97497,     0.97598,     0.97698,     0.97798,     0.97898,     0.97998,     0.98098,     0.98198,     0.98298,     0.98398,\n",
       "           0.98498,     0.98599,     0.98699,     0.98799,     0.98899,     0.98999,     0.99099,     0.99199,     0.99299,     0.99399,     0.99499,       0.996,       0.997,       0.998,       0.999,           1]), array([[    0.26841,     0.26856,     0.36928,     0.42747,     0.46494,     0.49261,     0.51346,     0.53067,     0.54532,     0.55779,     0.56854,      0.5778,     0.58623,     0.59354,     0.60076,     0.60774,     0.61327,     0.61871,     0.62376,     0.62863,     0.63315,     0.63748,     0.64137,\n",
       "            0.64519,     0.64933,     0.65288,     0.65621,     0.65951,     0.66252,     0.66556,     0.66833,     0.67103,     0.67378,     0.67649,     0.67934,     0.68169,     0.68431,     0.68663,     0.68899,     0.69138,     0.69368,     0.69579,     0.69804,     0.69993,     0.70184,     0.70362,\n",
       "            0.70532,     0.70712,     0.70882,     0.71046,     0.71231,     0.71396,     0.71553,      0.7167,      0.7184,     0.72007,     0.72118,      0.7226,     0.72389,     0.72551,     0.72706,     0.72825,     0.72958,     0.73114,     0.73244,     0.73375,     0.73487,      0.7361,     0.73752,\n",
       "             0.7386,     0.73973,     0.74104,      0.7422,     0.74333,     0.74449,     0.74529,     0.74605,     0.74734,     0.74836,     0.74945,     0.75013,     0.75147,     0.75227,     0.75328,     0.75433,     0.75523,     0.75623,     0.75715,     0.75812,     0.75907,     0.76022,     0.76112,\n",
       "            0.76214,     0.76301,     0.76393,     0.76453,     0.76518,     0.76593,     0.76683,     0.76768,      0.7687,     0.76967,     0.77055,     0.77149,     0.77224,     0.77302,      0.7738,     0.77484,     0.77579,      0.7764,     0.77724,     0.77806,     0.77868,     0.77948,     0.78023,\n",
       "            0.78088,     0.78156,     0.78211,     0.78281,     0.78345,     0.78403,     0.78477,     0.78552,     0.78599,     0.78642,     0.78712,      0.7877,     0.78835,     0.78923,     0.78966,     0.79005,     0.79059,     0.79146,     0.79197,     0.79248,     0.79331,     0.79384,     0.79449,\n",
       "            0.79492,      0.7954,     0.79601,     0.79643,     0.79688,      0.7976,      0.7982,     0.79884,     0.79952,     0.79993,     0.80066,     0.80128,     0.80186,     0.80254,     0.80337,      0.8038,     0.80464,     0.80529,     0.80601,     0.80659,     0.80717,     0.80764,     0.80817,\n",
       "             0.8088,     0.80941,      0.8101,      0.8107,      0.8112,     0.81183,      0.8126,     0.81315,     0.81363,     0.81429,      0.8145,     0.81507,     0.81565,     0.81609,     0.81648,     0.81682,     0.81727,     0.81782,      0.8182,      0.8189,     0.81944,     0.81988,     0.82026,\n",
       "            0.82097,     0.82149,     0.82205,     0.82245,     0.82294,     0.82346,     0.82386,     0.82448,     0.82507,      0.8256,     0.82601,     0.82665,     0.82698,     0.82751,     0.82799,     0.82825,     0.82866,     0.82908,     0.82965,     0.83013,     0.83057,     0.83112,     0.83161,\n",
       "            0.83224,     0.83264,     0.83321,     0.83373,     0.83412,     0.83456,     0.83491,     0.83524,     0.83557,      0.8361,     0.83632,     0.83657,     0.83681,      0.8373,     0.83757,     0.83783,     0.83828,     0.83864,     0.83897,     0.83918,     0.83963,     0.84003,     0.84042,\n",
       "            0.84091,     0.84116,     0.84174,     0.84215,     0.84253,     0.84281,     0.84321,     0.84355,     0.84415,     0.84449,     0.84486,     0.84535,     0.84569,      0.8461,      0.8464,      0.8467,     0.84711,     0.84765,     0.84801,     0.84851,     0.84901,     0.84927,     0.84965,\n",
       "            0.85001,     0.85047,     0.85094,     0.85141,     0.85172,     0.85216,     0.85251,     0.85297,     0.85344,     0.85371,      0.8541,     0.85437,     0.85481,     0.85529,     0.85552,     0.85581,     0.85618,     0.85646,     0.85683,     0.85737,     0.85767,       0.858,     0.85873,\n",
       "            0.85905,     0.85937,     0.85963,     0.85999,     0.86024,      0.8605,     0.86103,     0.86158,     0.86178,     0.86211,     0.86229,      0.8626,     0.86286,     0.86337,     0.86349,     0.86379,     0.86416,     0.86446,      0.8647,     0.86512,     0.86542,     0.86557,     0.86587,\n",
       "            0.86637,      0.8666,     0.86676,     0.86697,     0.86733,     0.86767,     0.86788,      0.8681,     0.86859,     0.86901,     0.86926,     0.86969,     0.87003,     0.87038,     0.87078,      0.8711,     0.87134,     0.87175,      0.8721,     0.87251,     0.87278,     0.87304,      0.8733,\n",
       "            0.87348,     0.87378,     0.87404,      0.8745,     0.87508,     0.87539,     0.87559,     0.87591,     0.87643,     0.87667,     0.87694,     0.87723,     0.87744,     0.87783,     0.87805,     0.87839,     0.87891,      0.8791,     0.87948,     0.87988,     0.88009,     0.88044,     0.88055,\n",
       "            0.88087,     0.88121,     0.88137,     0.88162,     0.88176,      0.8822,     0.88257,     0.88273,     0.88296,     0.88334,     0.88361,     0.88405,     0.88441,     0.88454,     0.88479,     0.88504,     0.88554,     0.88581,     0.88619,     0.88655,     0.88673,     0.88695,     0.88702,\n",
       "            0.88738,     0.88781,     0.88802,     0.88849,     0.88874,     0.88897,     0.88937,     0.88983,     0.89028,     0.89035,     0.89067,     0.89103,     0.89168,     0.89193,     0.89208,      0.8924,     0.89258,     0.89293,     0.89323,     0.89348,     0.89377,      0.8939,     0.89431,\n",
       "            0.89453,     0.89486,     0.89523,     0.89556,      0.8958,     0.89603,     0.89646,      0.8966,     0.89699,      0.8973,      0.8975,     0.89766,     0.89776,     0.89803,     0.89853,     0.89869,       0.899,     0.89922,     0.89932,     0.89964,     0.90001,     0.90019,     0.90052,\n",
       "            0.90077,     0.90101,      0.9012,     0.90148,     0.90173,     0.90207,     0.90235,     0.90271,     0.90295,     0.90324,     0.90355,     0.90378,     0.90405,     0.90427,     0.90433,     0.90459,     0.90492,     0.90514,     0.90539,     0.90562,     0.90579,     0.90599,     0.90635,\n",
       "            0.90659,     0.90675,     0.90692,     0.90713,     0.90744,      0.9076,      0.9079,     0.90818,     0.90851,     0.90879,     0.90896,     0.90938,     0.90971,     0.90983,     0.91001,     0.91007,     0.91021,     0.91052,     0.91073,     0.91091,     0.91104,     0.91118,     0.91139,\n",
       "            0.91171,     0.91213,     0.91222,     0.91242,     0.91285,     0.91317,     0.91342,     0.91357,     0.91391,     0.91418,     0.91446,     0.91466,     0.91504,     0.91529,     0.91566,     0.91584,     0.91587,     0.91612,     0.91633,     0.91671,     0.91694,     0.91722,      0.9173,\n",
       "            0.91766,      0.9178,     0.91801,     0.91832,     0.91858,     0.91883,     0.91911,     0.91926,     0.91953,     0.91995,     0.92013,     0.92048,     0.92058,     0.92076,     0.92087,     0.92113,     0.92139,     0.92167,     0.92204,     0.92215,     0.92233,     0.92249,     0.92252,\n",
       "            0.92272,     0.92287,     0.92324,     0.92345,     0.92369,     0.92396,     0.92423,     0.92442,     0.92453,     0.92461,     0.92496,     0.92513,      0.9253,     0.92552,     0.92578,     0.92587,     0.92606,     0.92628,     0.92638,     0.92661,     0.92679,     0.92707,      0.9274,\n",
       "            0.92776,     0.92784,     0.92807,     0.92836,      0.9284,     0.92878,     0.92904,     0.92934,     0.92945,     0.92973,     0.92976,     0.92992,     0.93014,     0.93023,     0.93055,     0.93078,     0.93111,     0.93155,     0.93175,     0.93197,     0.93205,      0.9323,     0.93231,\n",
       "            0.93267,     0.93304,     0.93328,     0.93341,      0.9337,     0.93392,     0.93423,     0.93437,     0.93473,       0.935,      0.9353,     0.93553,     0.93565,     0.93584,     0.93604,     0.93621,     0.93652,     0.93675,     0.93719,     0.93726,     0.93742,      0.9375,     0.93767,\n",
       "            0.93797,     0.93812,      0.9383,     0.93851,     0.93889,     0.93931,     0.93958,     0.93961,     0.93981,        0.94,      0.9403,     0.94074,     0.94092,     0.94112,     0.94133,     0.94166,     0.94192,     0.94211,     0.94232,      0.9426,     0.94292,     0.94317,     0.94357,\n",
       "            0.94372,     0.94392,     0.94409,     0.94428,     0.94464,     0.94496,      0.9451,     0.94541,     0.94553,     0.94586,     0.94598,     0.94622,     0.94637,     0.94664,     0.94704,      0.9473,     0.94751,     0.94767,      0.9479,     0.94804,     0.94817,     0.94849,     0.94884,\n",
       "              0.949,     0.94933,     0.94952,     0.94976,     0.94992,     0.95008,     0.95034,     0.95066,      0.9509,     0.95136,     0.95168,     0.95176,     0.95198,     0.95214,      0.9525,     0.95274,     0.95293,     0.95301,     0.95331,     0.95351,      0.9536,     0.95399,     0.95418,\n",
       "            0.95434,     0.95454,      0.9547,     0.95486,     0.95505,     0.95534,     0.95548,     0.95593,     0.95596,     0.95603,     0.95624,     0.95648,     0.95678,     0.95692,      0.9571,     0.95713,     0.95738,     0.95784,     0.95804,      0.9583,     0.95861,     0.95883,     0.95927,\n",
       "            0.95935,     0.95945,     0.95989,      0.9601,     0.96018,      0.9604,     0.96079,     0.96091,     0.96099,      0.9614,     0.96154,     0.96171,     0.96195,      0.9622,     0.96241,      0.9625,     0.96272,      0.9629,     0.96311,     0.96343,      0.9637,       0.964,     0.96425,\n",
       "            0.96434,     0.96432,     0.96455,     0.96478,     0.96499,     0.96503,     0.96526,     0.96535,     0.96562,     0.96598,     0.96629,     0.96648,     0.96667,     0.96694,     0.96723,     0.96751,     0.96774,     0.96808,      0.9684,      0.9684,     0.96858,     0.96877,     0.96906,\n",
       "             0.9696,      0.9699,        0.97,     0.97018,     0.97065,     0.97078,     0.97093,     0.97135,     0.97149,     0.97177,     0.97193,     0.97208,     0.97207,     0.97212,     0.97222,     0.97235,     0.97244,     0.97273,     0.97277,     0.97302,      0.9732,     0.97359,     0.97365,\n",
       "            0.97384,     0.97398,     0.97426,     0.97442,      0.9747,       0.975,     0.97517,     0.97528,     0.97546,     0.97575,     0.97586,     0.97616,     0.97633,     0.97664,     0.97683,     0.97694,     0.97694,     0.97713,     0.97714,      0.9773,     0.97771,     0.97777,     0.97793,\n",
       "            0.97817,     0.97827,     0.97872,     0.97916,     0.97928,     0.97972,     0.97995,     0.98005,     0.98048,     0.98093,     0.98109,      0.9812,     0.98149,     0.98166,     0.98194,     0.98206,     0.98222,     0.98235,     0.98252,     0.98274,     0.98298,     0.98303,     0.98338,\n",
       "            0.98366,     0.98384,     0.98395,     0.98437,      0.9846,     0.98479,     0.98484,      0.9849,      0.9852,     0.98538,     0.98538,     0.98538,     0.98568,     0.98594,     0.98593,     0.98605,     0.98618,     0.98638,     0.98639,     0.98646,     0.98678,      0.9871,     0.98729,\n",
       "            0.98721,     0.98727,     0.98727,      0.9874,     0.98738,     0.98751,     0.98777,     0.98784,     0.98796,     0.98824,     0.98853,     0.98853,     0.98846,     0.98837,     0.98843,     0.98873,     0.98901,     0.98929,     0.98929,     0.98936,     0.98953,     0.98957,     0.98958,\n",
       "            0.98988,     0.98981,      0.9898,     0.98987,     0.98994,     0.98985,      0.9901,      0.9905,     0.99074,     0.99081,     0.99106,     0.99122,     0.99123,     0.99122,     0.99122,     0.99121,     0.99129,     0.99138,     0.99156,     0.99175,     0.99182,     0.99171,       0.992,\n",
       "             0.9921,     0.99227,     0.99228,     0.99228,     0.99228,     0.99238,     0.99237,     0.99268,     0.99279,      0.9931,     0.99346,     0.99347,     0.99344,     0.99391,     0.99404,     0.99417,     0.99432,     0.99434,     0.99448,      0.9949,     0.99522,     0.99569,     0.99572,\n",
       "            0.99577,     0.99581,     0.99585,     0.99624,     0.99665,     0.99673,     0.99661,     0.99648,     0.99676,     0.99666,     0.99654,     0.99663,     0.99672,     0.99684,     0.99722,     0.99709,     0.99751,     0.99739,     0.99756,     0.99742,     0.99729,     0.99714,     0.99734,\n",
       "            0.99797,     0.99782,     0.99814,     0.99851,     0.99893,     0.99885,     0.99938,     0.99933,     0.99927,     0.99922,     0.99915,     0.99908,     0.99899,     0.99888,     0.99878,     0.99866,     0.99849,     0.99829,     0.99805,     0.99772,     0.99747,      0.9971,     0.99674,\n",
       "            0.99634,           1,           1,           1,           1,           1,           1,           1,           1,           1,           1,           1,           1,           1,           1,           1,           1,           1,           1,           1,           1,           1,           1,\n",
       "                  1,           1,           1,           1,           1,           1,           1,           1,           1,           1,           1,           1,           1,           1,           1,           1,           1,           1,           1,           1,           1,           1,           1,\n",
       "                  1,           1,           1,           1,           1,           1,           1,           1,           1,           1,           1,           1,           1,           1,           1,           1,           1,           1,           1,           1,           1,           1,           1,\n",
       "                  1,           1,           1,           1,           1,           1,           1,           1,           1,           1,           1]]), 'Confidence', 'Precision'], [array([          0,    0.001001,    0.002002,    0.003003,    0.004004,    0.005005,    0.006006,    0.007007,    0.008008,    0.009009,     0.01001,    0.011011,    0.012012,    0.013013,    0.014014,    0.015015,    0.016016,    0.017017,    0.018018,    0.019019,     0.02002,    0.021021,    0.022022,    0.023023,\n",
       "          0.024024,    0.025025,    0.026026,    0.027027,    0.028028,    0.029029,     0.03003,    0.031031,    0.032032,    0.033033,    0.034034,    0.035035,    0.036036,    0.037037,    0.038038,    0.039039,     0.04004,    0.041041,    0.042042,    0.043043,    0.044044,    0.045045,    0.046046,    0.047047,\n",
       "          0.048048,    0.049049,     0.05005,    0.051051,    0.052052,    0.053053,    0.054054,    0.055055,    0.056056,    0.057057,    0.058058,    0.059059,     0.06006,    0.061061,    0.062062,    0.063063,    0.064064,    0.065065,    0.066066,    0.067067,    0.068068,    0.069069,     0.07007,    0.071071,\n",
       "          0.072072,    0.073073,    0.074074,    0.075075,    0.076076,    0.077077,    0.078078,    0.079079,     0.08008,    0.081081,    0.082082,    0.083083,    0.084084,    0.085085,    0.086086,    0.087087,    0.088088,    0.089089,     0.09009,    0.091091,    0.092092,    0.093093,    0.094094,    0.095095,\n",
       "          0.096096,    0.097097,    0.098098,    0.099099,      0.1001,      0.1011,      0.1021,      0.1031,      0.1041,     0.10511,     0.10611,     0.10711,     0.10811,     0.10911,     0.11011,     0.11111,     0.11211,     0.11311,     0.11411,     0.11512,     0.11612,     0.11712,     0.11812,     0.11912,\n",
       "           0.12012,     0.12112,     0.12212,     0.12312,     0.12412,     0.12513,     0.12613,     0.12713,     0.12813,     0.12913,     0.13013,     0.13113,     0.13213,     0.13313,     0.13413,     0.13514,     0.13614,     0.13714,     0.13814,     0.13914,     0.14014,     0.14114,     0.14214,     0.14314,\n",
       "           0.14414,     0.14515,     0.14615,     0.14715,     0.14815,     0.14915,     0.15015,     0.15115,     0.15215,     0.15315,     0.15415,     0.15516,     0.15616,     0.15716,     0.15816,     0.15916,     0.16016,     0.16116,     0.16216,     0.16316,     0.16416,     0.16517,     0.16617,     0.16717,\n",
       "           0.16817,     0.16917,     0.17017,     0.17117,     0.17217,     0.17317,     0.17417,     0.17518,     0.17618,     0.17718,     0.17818,     0.17918,     0.18018,     0.18118,     0.18218,     0.18318,     0.18418,     0.18519,     0.18619,     0.18719,     0.18819,     0.18919,     0.19019,     0.19119,\n",
       "           0.19219,     0.19319,     0.19419,      0.1952,      0.1962,      0.1972,      0.1982,      0.1992,      0.2002,      0.2012,      0.2022,      0.2032,      0.2042,     0.20521,     0.20621,     0.20721,     0.20821,     0.20921,     0.21021,     0.21121,     0.21221,     0.21321,     0.21421,     0.21522,\n",
       "           0.21622,     0.21722,     0.21822,     0.21922,     0.22022,     0.22122,     0.22222,     0.22322,     0.22422,     0.22523,     0.22623,     0.22723,     0.22823,     0.22923,     0.23023,     0.23123,     0.23223,     0.23323,     0.23423,     0.23524,     0.23624,     0.23724,     0.23824,     0.23924,\n",
       "           0.24024,     0.24124,     0.24224,     0.24324,     0.24424,     0.24525,     0.24625,     0.24725,     0.24825,     0.24925,     0.25025,     0.25125,     0.25225,     0.25325,     0.25425,     0.25526,     0.25626,     0.25726,     0.25826,     0.25926,     0.26026,     0.26126,     0.26226,     0.26326,\n",
       "           0.26426,     0.26527,     0.26627,     0.26727,     0.26827,     0.26927,     0.27027,     0.27127,     0.27227,     0.27327,     0.27427,     0.27528,     0.27628,     0.27728,     0.27828,     0.27928,     0.28028,     0.28128,     0.28228,     0.28328,     0.28428,     0.28529,     0.28629,     0.28729,\n",
       "           0.28829,     0.28929,     0.29029,     0.29129,     0.29229,     0.29329,     0.29429,      0.2953,      0.2963,      0.2973,      0.2983,      0.2993,      0.3003,      0.3013,      0.3023,      0.3033,      0.3043,     0.30531,     0.30631,     0.30731,     0.30831,     0.30931,     0.31031,     0.31131,\n",
       "           0.31231,     0.31331,     0.31431,     0.31532,     0.31632,     0.31732,     0.31832,     0.31932,     0.32032,     0.32132,     0.32232,     0.32332,     0.32432,     0.32533,     0.32633,     0.32733,     0.32833,     0.32933,     0.33033,     0.33133,     0.33233,     0.33333,     0.33433,     0.33534,\n",
       "           0.33634,     0.33734,     0.33834,     0.33934,     0.34034,     0.34134,     0.34234,     0.34334,     0.34434,     0.34535,     0.34635,     0.34735,     0.34835,     0.34935,     0.35035,     0.35135,     0.35235,     0.35335,     0.35435,     0.35536,     0.35636,     0.35736,     0.35836,     0.35936,\n",
       "           0.36036,     0.36136,     0.36236,     0.36336,     0.36436,     0.36537,     0.36637,     0.36737,     0.36837,     0.36937,     0.37037,     0.37137,     0.37237,     0.37337,     0.37437,     0.37538,     0.37638,     0.37738,     0.37838,     0.37938,     0.38038,     0.38138,     0.38238,     0.38338,\n",
       "           0.38438,     0.38539,     0.38639,     0.38739,     0.38839,     0.38939,     0.39039,     0.39139,     0.39239,     0.39339,     0.39439,      0.3954,      0.3964,      0.3974,      0.3984,      0.3994,      0.4004,      0.4014,      0.4024,      0.4034,      0.4044,     0.40541,     0.40641,     0.40741,\n",
       "           0.40841,     0.40941,     0.41041,     0.41141,     0.41241,     0.41341,     0.41441,     0.41542,     0.41642,     0.41742,     0.41842,     0.41942,     0.42042,     0.42142,     0.42242,     0.42342,     0.42442,     0.42543,     0.42643,     0.42743,     0.42843,     0.42943,     0.43043,     0.43143,\n",
       "           0.43243,     0.43343,     0.43443,     0.43544,     0.43644,     0.43744,     0.43844,     0.43944,     0.44044,     0.44144,     0.44244,     0.44344,     0.44444,     0.44545,     0.44645,     0.44745,     0.44845,     0.44945,     0.45045,     0.45145,     0.45245,     0.45345,     0.45445,     0.45546,\n",
       "           0.45646,     0.45746,     0.45846,     0.45946,     0.46046,     0.46146,     0.46246,     0.46346,     0.46446,     0.46547,     0.46647,     0.46747,     0.46847,     0.46947,     0.47047,     0.47147,     0.47247,     0.47347,     0.47447,     0.47548,     0.47648,     0.47748,     0.47848,     0.47948,\n",
       "           0.48048,     0.48148,     0.48248,     0.48348,     0.48448,     0.48549,     0.48649,     0.48749,     0.48849,     0.48949,     0.49049,     0.49149,     0.49249,     0.49349,     0.49449,      0.4955,      0.4965,      0.4975,      0.4985,      0.4995,      0.5005,      0.5015,      0.5025,      0.5035,\n",
       "            0.5045,     0.50551,     0.50651,     0.50751,     0.50851,     0.50951,     0.51051,     0.51151,     0.51251,     0.51351,     0.51451,     0.51552,     0.51652,     0.51752,     0.51852,     0.51952,     0.52052,     0.52152,     0.52252,     0.52352,     0.52452,     0.52553,     0.52653,     0.52753,\n",
       "           0.52853,     0.52953,     0.53053,     0.53153,     0.53253,     0.53353,     0.53453,     0.53554,     0.53654,     0.53754,     0.53854,     0.53954,     0.54054,     0.54154,     0.54254,     0.54354,     0.54454,     0.54555,     0.54655,     0.54755,     0.54855,     0.54955,     0.55055,     0.55155,\n",
       "           0.55255,     0.55355,     0.55455,     0.55556,     0.55656,     0.55756,     0.55856,     0.55956,     0.56056,     0.56156,     0.56256,     0.56356,     0.56456,     0.56557,     0.56657,     0.56757,     0.56857,     0.56957,     0.57057,     0.57157,     0.57257,     0.57357,     0.57457,     0.57558,\n",
       "           0.57658,     0.57758,     0.57858,     0.57958,     0.58058,     0.58158,     0.58258,     0.58358,     0.58458,     0.58559,     0.58659,     0.58759,     0.58859,     0.58959,     0.59059,     0.59159,     0.59259,     0.59359,     0.59459,      0.5956,      0.5966,      0.5976,      0.5986,      0.5996,\n",
       "            0.6006,      0.6016,      0.6026,      0.6036,      0.6046,     0.60561,     0.60661,     0.60761,     0.60861,     0.60961,     0.61061,     0.61161,     0.61261,     0.61361,     0.61461,     0.61562,     0.61662,     0.61762,     0.61862,     0.61962,     0.62062,     0.62162,     0.62262,     0.62362,\n",
       "           0.62462,     0.62563,     0.62663,     0.62763,     0.62863,     0.62963,     0.63063,     0.63163,     0.63263,     0.63363,     0.63463,     0.63564,     0.63664,     0.63764,     0.63864,     0.63964,     0.64064,     0.64164,     0.64264,     0.64364,     0.64464,     0.64565,     0.64665,     0.64765,\n",
       "           0.64865,     0.64965,     0.65065,     0.65165,     0.65265,     0.65365,     0.65465,     0.65566,     0.65666,     0.65766,     0.65866,     0.65966,     0.66066,     0.66166,     0.66266,     0.66366,     0.66466,     0.66567,     0.66667,     0.66767,     0.66867,     0.66967,     0.67067,     0.67167,\n",
       "           0.67267,     0.67367,     0.67467,     0.67568,     0.67668,     0.67768,     0.67868,     0.67968,     0.68068,     0.68168,     0.68268,     0.68368,     0.68468,     0.68569,     0.68669,     0.68769,     0.68869,     0.68969,     0.69069,     0.69169,     0.69269,     0.69369,     0.69469,      0.6957,\n",
       "            0.6967,      0.6977,      0.6987,      0.6997,      0.7007,      0.7017,      0.7027,      0.7037,      0.7047,     0.70571,     0.70671,     0.70771,     0.70871,     0.70971,     0.71071,     0.71171,     0.71271,     0.71371,     0.71471,     0.71572,     0.71672,     0.71772,     0.71872,     0.71972,\n",
       "           0.72072,     0.72172,     0.72272,     0.72372,     0.72472,     0.72573,     0.72673,     0.72773,     0.72873,     0.72973,     0.73073,     0.73173,     0.73273,     0.73373,     0.73473,     0.73574,     0.73674,     0.73774,     0.73874,     0.73974,     0.74074,     0.74174,     0.74274,     0.74374,\n",
       "           0.74474,     0.74575,     0.74675,     0.74775,     0.74875,     0.74975,     0.75075,     0.75175,     0.75275,     0.75375,     0.75475,     0.75576,     0.75676,     0.75776,     0.75876,     0.75976,     0.76076,     0.76176,     0.76276,     0.76376,     0.76476,     0.76577,     0.76677,     0.76777,\n",
       "           0.76877,     0.76977,     0.77077,     0.77177,     0.77277,     0.77377,     0.77477,     0.77578,     0.77678,     0.77778,     0.77878,     0.77978,     0.78078,     0.78178,     0.78278,     0.78378,     0.78478,     0.78579,     0.78679,     0.78779,     0.78879,     0.78979,     0.79079,     0.79179,\n",
       "           0.79279,     0.79379,     0.79479,      0.7958,      0.7968,      0.7978,      0.7988,      0.7998,      0.8008,      0.8018,      0.8028,      0.8038,      0.8048,     0.80581,     0.80681,     0.80781,     0.80881,     0.80981,     0.81081,     0.81181,     0.81281,     0.81381,     0.81481,     0.81582,\n",
       "           0.81682,     0.81782,     0.81882,     0.81982,     0.82082,     0.82182,     0.82282,     0.82382,     0.82482,     0.82583,     0.82683,     0.82783,     0.82883,     0.82983,     0.83083,     0.83183,     0.83283,     0.83383,     0.83483,     0.83584,     0.83684,     0.83784,     0.83884,     0.83984,\n",
       "           0.84084,     0.84184,     0.84284,     0.84384,     0.84484,     0.84585,     0.84685,     0.84785,     0.84885,     0.84985,     0.85085,     0.85185,     0.85285,     0.85385,     0.85485,     0.85586,     0.85686,     0.85786,     0.85886,     0.85986,     0.86086,     0.86186,     0.86286,     0.86386,\n",
       "           0.86486,     0.86587,     0.86687,     0.86787,     0.86887,     0.86987,     0.87087,     0.87187,     0.87287,     0.87387,     0.87487,     0.87588,     0.87688,     0.87788,     0.87888,     0.87988,     0.88088,     0.88188,     0.88288,     0.88388,     0.88488,     0.88589,     0.88689,     0.88789,\n",
       "           0.88889,     0.88989,     0.89089,     0.89189,     0.89289,     0.89389,     0.89489,      0.8959,      0.8969,      0.8979,      0.8989,      0.8999,      0.9009,      0.9019,      0.9029,      0.9039,      0.9049,     0.90591,     0.90691,     0.90791,     0.90891,     0.90991,     0.91091,     0.91191,\n",
       "           0.91291,     0.91391,     0.91491,     0.91592,     0.91692,     0.91792,     0.91892,     0.91992,     0.92092,     0.92192,     0.92292,     0.92392,     0.92492,     0.92593,     0.92693,     0.92793,     0.92893,     0.92993,     0.93093,     0.93193,     0.93293,     0.93393,     0.93493,     0.93594,\n",
       "           0.93694,     0.93794,     0.93894,     0.93994,     0.94094,     0.94194,     0.94294,     0.94394,     0.94494,     0.94595,     0.94695,     0.94795,     0.94895,     0.94995,     0.95095,     0.95195,     0.95295,     0.95395,     0.95495,     0.95596,     0.95696,     0.95796,     0.95896,     0.95996,\n",
       "           0.96096,     0.96196,     0.96296,     0.96396,     0.96496,     0.96597,     0.96697,     0.96797,     0.96897,     0.96997,     0.97097,     0.97197,     0.97297,     0.97397,     0.97497,     0.97598,     0.97698,     0.97798,     0.97898,     0.97998,     0.98098,     0.98198,     0.98298,     0.98398,\n",
       "           0.98498,     0.98599,     0.98699,     0.98799,     0.98899,     0.98999,     0.99099,     0.99199,     0.99299,     0.99399,     0.99499,       0.996,       0.997,       0.998,       0.999,           1]), array([[    0.99864,     0.99864,     0.99823,     0.99804,     0.99782,      0.9974,     0.99725,     0.99706,     0.99695,      0.9968,     0.99669,     0.99653,      0.9965,     0.99638,     0.99631,     0.99612,     0.99604,     0.99589,     0.99571,     0.99559,     0.99544,     0.99533,     0.99522,\n",
       "            0.99518,     0.99518,     0.99507,     0.99499,     0.99491,     0.99484,     0.99473,     0.99454,     0.99454,     0.99427,     0.99409,     0.99397,     0.99386,     0.99382,     0.99367,     0.99367,      0.9936,     0.99348,     0.99348,     0.99337,     0.99333,     0.99322,     0.99307,\n",
       "            0.99307,     0.99284,     0.99284,     0.99269,     0.99262,     0.99254,     0.99239,     0.99224,     0.99205,     0.99194,     0.99194,     0.99186,     0.99171,      0.9916,     0.99156,     0.99152,     0.99149,     0.99126,     0.99115,     0.99107,       0.991,     0.99085,     0.99077,\n",
       "            0.99066,     0.99066,     0.99051,     0.99039,     0.99032,     0.99028,     0.99021,     0.99013,     0.99013,     0.99002,     0.98987,     0.98975,     0.98975,     0.98968,      0.9896,     0.98953,     0.98953,     0.98945,     0.98926,     0.98915,     0.98908,     0.98904,     0.98885,\n",
       "            0.98877,      0.9887,     0.98862,     0.98859,     0.98851,      0.9884,     0.98836,     0.98828,     0.98825,      0.9881,     0.98798,     0.98798,     0.98787,     0.98764,     0.98761,     0.98757,     0.98746,     0.98739,     0.98731,     0.98712,     0.98697,     0.98685,     0.98682,\n",
       "            0.98674,     0.98667,     0.98663,     0.98663,     0.98655,     0.98651,     0.98625,      0.9861,      0.9861,     0.98606,     0.98594,     0.98587,     0.98565,     0.98557,     0.98554,     0.98538,     0.98531,     0.98527,     0.98508,     0.98505,       0.985,     0.98493,     0.98486,\n",
       "            0.98478,     0.98474,     0.98467,     0.98459,     0.98459,     0.98444,     0.98425,     0.98418,     0.98407,     0.98399,     0.98395,     0.98373,     0.98354,     0.98346,     0.98335,     0.98318,     0.98312,     0.98309,     0.98301,     0.98297,     0.98286,     0.98275,     0.98252,\n",
       "            0.98233,     0.98207,     0.98201,     0.98188,     0.98181,     0.98176,     0.98158,     0.98147,     0.98131,     0.98111,     0.98105,     0.98101,     0.98094,     0.98086,     0.98075,      0.9806,     0.98045,     0.98024,     0.98011,     0.97977,     0.97973,     0.97958,     0.97947,\n",
       "            0.97932,     0.97924,     0.97921,     0.97917,     0.97898,     0.97891,     0.97875,     0.97872,     0.97853,     0.97849,     0.97842,     0.97838,     0.97819,     0.97793,     0.97781,     0.97744,     0.97723,     0.97713,     0.97707,     0.97698,     0.97683,     0.97661,      0.9765,\n",
       "            0.97634,     0.97623,     0.97612,       0.976,     0.97585,     0.97578,     0.97567,     0.97548,      0.9753,     0.97518,     0.97503,     0.97476,     0.97457,     0.97446,     0.97439,     0.97416,     0.97412,     0.97393,     0.97378,     0.97356,     0.97352,     0.97329,      0.9731,\n",
       "            0.97284,      0.9728,     0.97277,     0.97273,     0.97261,     0.97246,     0.97228,      0.9722,     0.97201,     0.97189,     0.97179,     0.97175,     0.97152,     0.97127,     0.97102,     0.97081,     0.97062,     0.97032,      0.9702,     0.97009,     0.96986,     0.96972,     0.96945,\n",
       "            0.96926,     0.96907,     0.96892,     0.96873,     0.96862,     0.96839,     0.96806,     0.96789,     0.96779,     0.96742,     0.96742,      0.9673,     0.96708,     0.96689,     0.96674,     0.96666,      0.9664,     0.96625,     0.96604,     0.96576,     0.96557,      0.9655,     0.96538,\n",
       "            0.96519,     0.96508,     0.96474,     0.96457,     0.96437,     0.96403,     0.96388,     0.96372,     0.96346,     0.96339,     0.96308,     0.96286,     0.96275,     0.96259,     0.96241,      0.9622,     0.96207,     0.96184,     0.96154,     0.96135,     0.96116,     0.96094,     0.96079,\n",
       "            0.96079,      0.9606,     0.96035,     0.96015,        0.96,      0.9598,     0.95951,     0.95945,     0.95928,     0.95911,     0.95905,     0.95898,     0.95864,     0.95843,     0.95826,     0.95815,     0.95791,     0.95781,     0.95774,     0.95746,     0.95717,     0.95702,     0.95679,\n",
       "            0.95661,     0.95653,     0.95613,       0.956,     0.95577,     0.95551,     0.95543,     0.95502,     0.95486,     0.95461,     0.95442,     0.95412,     0.95387,     0.95353,     0.95331,      0.9531,     0.95276,     0.95235,     0.95216,     0.95205,     0.95186,     0.95171,     0.95133,\n",
       "            0.95118,     0.95093,     0.95067,      0.9505,     0.95031,     0.95011,      0.9499,     0.94967,      0.9494,     0.94911,     0.94881,     0.94863,     0.94853,     0.94827,     0.94809,     0.94794,     0.94772,     0.94759,     0.94726,     0.94692,     0.94659,     0.94631,     0.94611,\n",
       "            0.94583,     0.94558,     0.94523,     0.94493,     0.94466,     0.94448,     0.94425,     0.94387,     0.94355,     0.94326,     0.94302,     0.94271,     0.94236,     0.94227,     0.94194,      0.9418,     0.94154,     0.94124,     0.94097,     0.94064,     0.94026,     0.93999,     0.93969,\n",
       "            0.93931,     0.93904,     0.93875,     0.93838,     0.93818,     0.93787,      0.9377,     0.93721,      0.9369,     0.93672,     0.93638,     0.93606,     0.93581,     0.93555,      0.9353,     0.93499,     0.93479,     0.93433,     0.93393,     0.93366,     0.93343,     0.93314,     0.93292,\n",
       "            0.93287,     0.93235,     0.93213,     0.93201,     0.93153,     0.93134,     0.93109,     0.93076,     0.93052,     0.93043,     0.93016,     0.93005,     0.92963,     0.92936,     0.92895,     0.92869,     0.92853,      0.9282,      0.9279,     0.92746,     0.92711,     0.92677,     0.92639,\n",
       "            0.92607,      0.9256,     0.92538,     0.92515,     0.92473,     0.92427,     0.92384,     0.92342,     0.92317,     0.92256,     0.92206,     0.92159,     0.92111,     0.92058,     0.92037,     0.92003,      0.9198,     0.91958,     0.91926,     0.91886,     0.91855,     0.91818,     0.91773,\n",
       "            0.91719,     0.91705,     0.91683,     0.91649,     0.91613,     0.91566,     0.91525,     0.91487,     0.91449,     0.91415,     0.91374,     0.91325,     0.91281,     0.91249,     0.91235,     0.91204,     0.91158,     0.91114,     0.91094,     0.91054,     0.91023,     0.90997,     0.90954,\n",
       "             0.9093,     0.90886,     0.90854,     0.90809,     0.90773,     0.90736,     0.90688,     0.90658,     0.90628,     0.90562,     0.90515,     0.90481,      0.9043,     0.90389,     0.90357,     0.90322,     0.90252,     0.90192,     0.90133,      0.9009,     0.90048,      0.9002,     0.89974,\n",
       "            0.89931,     0.89882,     0.89843,     0.89814,      0.8978,      0.8972,     0.89688,     0.89656,      0.8961,     0.89573,     0.89519,     0.89465,     0.89404,      0.8936,     0.89316,     0.89261,     0.89227,     0.89173,     0.89118,      0.8908,     0.89032,     0.88974,     0.88926,\n",
       "             0.8887,     0.88827,     0.88798,     0.88742,     0.88702,     0.88662,     0.88629,      0.8858,     0.88511,     0.88462,      0.8841,     0.88373,     0.88318,     0.88292,     0.88223,     0.88183,      0.8813,     0.88078,     0.88039,      0.8799,     0.87935,     0.87878,     0.87814,\n",
       "            0.87773,     0.87712,     0.87629,     0.87581,     0.87529,     0.87468,     0.87419,     0.87368,     0.87298,     0.87242,     0.87183,     0.87147,     0.87082,     0.87027,     0.86986,     0.86913,     0.86856,     0.86809,     0.86729,     0.86663,     0.86617,     0.86565,     0.86475,\n",
       "            0.86415,     0.86351,     0.86315,     0.86277,     0.86217,     0.86157,     0.86109,     0.86045,      0.8599,     0.85921,      0.8584,     0.85754,     0.85664,     0.85619,     0.85546,     0.85492,     0.85409,     0.85341,     0.85297,     0.85237,     0.85188,     0.85078,     0.85019,\n",
       "             0.8494,     0.84841,     0.84731,     0.84649,     0.84589,     0.84526,     0.84458,     0.84413,     0.84344,     0.84299,     0.84242,     0.84163,     0.84092,     0.83999,     0.83964,     0.83889,     0.83843,     0.83771,     0.83673,      0.8358,     0.83516,     0.83435,     0.83339,\n",
       "            0.83271,     0.83207,     0.83113,     0.83036,     0.82953,     0.82877,     0.82789,      0.8271,      0.8266,     0.82586,     0.82518,     0.82426,     0.82361,     0.82278,     0.82186,     0.82089,     0.81989,     0.81898,     0.81828,     0.81747,     0.81678,      0.8158,     0.81511,\n",
       "            0.81403,     0.81318,     0.81211,     0.81122,     0.80987,     0.80913,      0.8083,      0.8073,      0.8063,      0.8052,     0.80422,     0.80298,     0.80224,     0.80157,     0.80087,     0.79979,     0.79883,     0.79757,     0.79645,     0.79561,     0.79477,     0.79388,     0.79314,\n",
       "            0.79173,     0.79063,     0.78968,     0.78864,     0.78756,     0.78657,     0.78547,     0.78431,     0.78327,      0.7825,     0.78159,     0.78047,     0.77896,     0.77749,     0.77642,      0.7754,      0.7743,     0.77342,     0.77204,     0.77116,     0.77013,     0.76959,     0.76814,\n",
       "            0.76702,     0.76557,     0.76427,     0.76325,     0.76209,     0.76089,      0.7599,     0.75884,      0.7576,      0.7562,     0.75473,     0.75304,     0.75154,     0.75024,     0.74912,     0.74821,     0.74679,     0.74551,     0.74448,     0.74329,       0.742,     0.74089,     0.73965,\n",
       "            0.73812,     0.73689,     0.73562,     0.73407,     0.73258,     0.73088,     0.72935,     0.72802,     0.72647,      0.7249,     0.72378,     0.72259,       0.721,     0.71975,     0.71856,     0.71678,      0.7151,      0.7136,     0.71198,     0.71021,     0.70869,     0.70681,     0.70563,\n",
       "            0.70398,     0.70189,     0.70008,     0.69823,     0.69665,     0.69485,     0.69334,      0.6919,     0.69015,     0.68824,     0.68664,     0.68481,     0.68354,      0.6817,     0.67981,     0.67823,     0.67655,     0.67439,     0.67303,     0.67128,     0.66911,     0.66686,     0.66516,\n",
       "            0.66343,     0.66148,     0.66001,     0.65853,     0.65693,     0.65522,     0.65369,     0.65141,     0.64899,     0.64712,     0.64505,     0.64287,     0.64108,     0.63908,     0.63712,     0.63507,     0.63288,      0.6311,     0.62866,      0.6263,     0.62428,     0.62195,     0.61964,\n",
       "            0.61692,     0.61462,     0.61194,      0.6097,     0.60708,     0.60466,      0.6019,     0.59947,     0.59672,     0.59419,     0.59162,     0.58895,     0.58611,     0.58367,      0.5807,     0.57798,     0.57542,     0.57278,     0.57059,     0.56788,     0.56495,     0.56198,     0.55878,\n",
       "            0.55545,      0.5523,     0.54927,     0.54599,     0.54216,     0.53912,     0.53561,      0.5323,     0.52869,     0.52539,     0.52246,     0.51927,     0.51637,     0.51221,     0.50855,     0.50544,     0.50164,     0.49776,     0.49403,     0.49018,     0.48627,     0.48271,     0.47916,\n",
       "            0.47549,     0.47182,     0.46772,     0.46365,     0.45972,     0.45575,      0.4521,     0.44796,     0.44336,     0.43867,      0.4343,     0.42949,     0.42562,     0.42118,     0.41694,     0.41222,     0.40734,     0.40291,     0.39835,     0.39385,     0.38799,     0.38315,     0.37852,\n",
       "             0.3738,     0.36759,     0.36308,     0.35834,     0.35347,     0.34828,     0.34289,     0.33715,     0.33187,     0.32553,     0.32022,     0.31521,     0.30791,     0.30112,     0.29524,     0.28931,     0.28363,     0.27815,     0.27167,     0.26474,     0.25866,     0.25236,      0.2456,\n",
       "            0.23956,     0.23283,     0.22596,     0.21931,     0.21321,     0.20674,     0.19911,     0.19217,      0.1854,     0.17993,     0.17341,     0.16726,     0.16032,      0.1547,      0.1485,     0.14184,     0.13564,     0.12931,     0.12341,     0.11649,     0.11071,     0.10506,    0.098838,\n",
       "             0.0928,    0.086375,    0.080867,    0.075554,     0.07031,     0.06564,    0.060408,    0.056119,    0.051911,    0.048319,    0.044511,    0.041051,    0.037377,    0.033454,    0.030715,    0.028047,    0.024923,    0.022006,    0.019322,     0.01652,    0.014828,    0.012965,    0.011513,\n",
       "           0.010262,   0.0089541,   0.0073636,   0.0064314,    0.005515,   0.0045093,   0.0039177,   0.0033036,   0.0026652,    0.002348,   0.0018816,   0.0013789,   0.0012233,  0.00090584,  0.00074584,  0.00068462,  0.00060865,  0.00053918,  0.00035464,  0.00025348,  0.00017552,  0.00013869,  0.00011143,\n",
       "         0.00010747,  0.00010351,  9.9555e-05,  9.5599e-05,  9.1642e-05,  8.7685e-05,  8.3729e-05,  7.9772e-05,  7.5816e-05,  6.8568e-05,  6.0869e-05,  5.3171e-05,  4.5472e-05,  3.7773e-05,           0,           0,           0,           0,           0,           0,           0,           0,           0,\n",
       "                  0,           0,           0,           0,           0,           0,           0,           0,           0,           0,           0,           0,           0,           0,           0,           0,           0,           0,           0,           0,           0,           0,           0,\n",
       "                  0,           0,           0,           0,           0,           0,           0,           0,           0,           0,           0]]), 'Confidence', 'Recall']]\n",
       "fitness: 0.7766343139528061\n",
       "keys: ['metrics/precision(B)', 'metrics/recall(B)', 'metrics/mAP50(B)', 'metrics/mAP50-95(B)']\n",
       "maps: array([    0.75541])\n",
       "names: {0: 'chicken'}\n",
       "nt_per_class: array([26547], dtype=int64)\n",
       "nt_per_image: array([996], dtype=int64)\n",
       "results_dict: {'metrics/precision(B)': 0.8980330100259307, 'metrics/recall(B)': 0.9355486147062314, 'metrics/mAP50(B)': 0.9676099853621648, 'metrics/mAP50-95(B)': 0.7554147949073219, 'fitness': 0.7766343139528061}\n",
       "save_dir: WindowsPath('runs/detect/yolov8n-2506306')\n",
       "speed: {'preprocess': 1.1453392998082563, 'inference': 46.549033399671316, 'loss': 2.2900057956576347e-05, 'postprocess': 0.5852731999475509}\n",
       "stats: {'tp': [], 'conf': [], 'pred_cls': [], 'target_cls': [], 'target_img': []}\n",
       "task: 'detect'"
      ]
     },
     "execution_count": 1,
     "metadata": {},
     "output_type": "execute_result"
    }
   ],
   "source": [
    "from ultralytics import YOLO\n",
    "\n",
    "model = YOLO(\"yolov8n.pt\")\n",
    "\n",
    "model.train(\n",
    "    data=\"./data.yaml\",  # data.yaml 경로\n",
    "    epochs=100,\n",
    "    imgsz=640,\n",
    "    batch=16,\n",
    "    name=\"yolov8n-250630\",\n",
    "    # workers=0,\n",
    "    # device=0  # GPU: 0번, CPU: 'cpu'\n",
    ")\n",
    "\n",
    "#model.train(data=\"./data.yaml\", epochs=10, imgsz=180, batch=4)"
   ]
  },
  {
   "cell_type": "code",
   "execution_count": 10,
   "id": "95527677",
   "metadata": {},
   "outputs": [
    {
     "name": "stdout",
     "output_type": "stream",
     "text": [
      "2.7.1+cpu\n",
      "False\n"
     ]
    }
   ],
   "source": [
    "import torch\n",
    "\n",
    "print(torch.__version__)\n",
    "print(torch.cuda.is_available())\n",
    "#print(torch.cuda.get_device_name(0))"
   ]
  }
 ],
 "metadata": {
  "kernelspec": {
   "display_name": "base",
   "language": "python",
   "name": "python3"
  },
  "language_info": {
   "codemirror_mode": {
    "name": "ipython",
    "version": 3
   },
   "file_extension": ".py",
   "mimetype": "text/x-python",
   "name": "python",
   "nbconvert_exporter": "python",
   "pygments_lexer": "ipython3",
   "version": "3.11.7"
  }
 },
 "nbformat": 4,
 "nbformat_minor": 5
}
