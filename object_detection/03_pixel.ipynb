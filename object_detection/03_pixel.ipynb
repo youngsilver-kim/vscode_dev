{
 "cells": [
  {
   "cell_type": "code",
   "execution_count": 8,
   "id": "da01f447",
   "metadata": {},
   "outputs": [
    {
     "name": "stdout",
     "output_type": "stream",
     "text": [
      "(300, 400)\n"
     ]
    }
   ],
   "source": [
    "import numpy as np\n",
    "import cv2\n",
    "\n",
    "im = np.zeros((300, 400), np.uint8)\n",
    "im[: ,:] = 200\n",
    "\n",
    "print(im.shape)\n",
    "cv2.imshow('title', im)\n",
    "cv2.waitKey(0)\n",
    "cv2.destroyAllWindows()"
   ]
  },
  {
   "cell_type": "code",
   "execution_count": null,
   "id": "832b237f",
   "metadata": {},
   "outputs": [],
   "source": [
    "import numpy as np\n",
    "import cv2\n",
    "\n",
    "im = np.zeros((300, 400, 3), np.uint8)\n",
    "im[:100 ,:200] = 200\n",
    "\n",
    "print(im.shape)\n",
    "cv2.imshow('title', im)\n",
    "cv2.waitKey(0)\n",
    "cv2.destroyAllWindows()"
   ]
  },
  {
   "cell_type": "code",
   "execution_count": null,
   "id": "b928d1fa",
   "metadata": {},
   "outputs": [],
   "source": [
    "import numpy as np\n",
    "import cv2\n",
    "\n",
    "im = np.zeros((300, 400, 3), np.uint8)\n",
    "im[:100 ,:200, 0] = 200\n",
    "im[100:200 ,:200, 1] = 200\n",
    "im[200:300 ,:200, 2] = 200\n",
    "\n",
    "print(im.shape)\n",
    "cv2.imshow('title', im)\n",
    "cv2.waitKey(0)\n",
    "cv2.destroyAllWindows()"
   ]
  },
  {
   "cell_type": "code",
   "execution_count": 10,
   "id": "93468505",
   "metadata": {},
   "outputs": [
    {
     "name": "stdout",
     "output_type": "stream",
     "text": [
      "(760, 512)\n"
     ]
    }
   ],
   "source": [
    "import numpy as np\n",
    "import cv2\n",
    "\n",
    "#im = cv2.imread(r'C:\\Users\\ai\\Desktop\\object_detection\\vscode_dev\\object_detection\\imgs\\apple1.png')\n",
    "im = cv2.imread(r'C:\\Users\\ai\\Desktop\\object_detection\\vscode_dev\\object_detection\\imgs\\apple1.png', cv2.IMREAD_GRAYSCALE)\n",
    "\n",
    "print(im.shape)\n",
    "cv2.imshow('Apple', im)\n",
    "cv2.waitKey(0)\n",
    "cv2.destroyAllWindows()"
   ]
  },
  {
   "cell_type": "code",
   "execution_count": null,
   "id": "c524bae9",
   "metadata": {},
   "outputs": [
    {
     "ename": "OverflowError",
     "evalue": "Python integer 300 out of bounds for uint8",
     "output_type": "error",
     "traceback": [
      "\u001b[31m---------------------------------------------------------------------------\u001b[39m",
      "\u001b[31mOverflowError\u001b[39m                             Traceback (most recent call last)",
      "\u001b[36mCell\u001b[39m\u001b[36m \u001b[39m\u001b[32mIn[11]\u001b[39m\u001b[32m, line 5\u001b[39m\n\u001b[32m      2\u001b[39m \u001b[38;5;28;01mimport\u001b[39;00m\u001b[38;5;250m \u001b[39m\u001b[34;01mcv2\u001b[39;00m\n\u001b[32m      4\u001b[39m im = np.zeros((\u001b[32m300\u001b[39m, \u001b[32m400\u001b[39m), np.uint8)\n\u001b[32m----> \u001b[39m\u001b[32m5\u001b[39m \u001b[43mim\u001b[49m\u001b[43m[\u001b[49m\u001b[43m:\u001b[49m\u001b[43m \u001b[49m\u001b[43m,\u001b[49m\u001b[43m:\u001b[49m\u001b[43m]\u001b[49m = \u001b[32m300\u001b[39m\n\u001b[32m      7\u001b[39m \u001b[38;5;28mprint\u001b[39m(im.shape)\n\u001b[32m      8\u001b[39m cv2.imshow(\u001b[33m'\u001b[39m\u001b[33mtitle\u001b[39m\u001b[33m'\u001b[39m, im)\n",
      "\u001b[31mOverflowError\u001b[39m: Python integer 300 out of bounds for uint8"
     ]
    }
   ],
   "source": [
    "# import numpy as np\n",
    "# import cv2\n",
    "\n",
    "# im = np.zeros((300, 400), np.uint8)\n",
    "# im[: ,:] = 300\n",
    "\n",
    "# print(im.shape)\n",
    "# cv2.imshow('title', im)\n",
    "# cv2.waitKey(0)\n",
    "# cv2.destroyAllWindows()"
   ]
  },
  {
   "cell_type": "code",
   "execution_count": 12,
   "id": "1b0d215a",
   "metadata": {},
   "outputs": [
    {
     "name": "stdout",
     "output_type": "stream",
     "text": [
      "(300, 400) uint8\n"
     ]
    }
   ],
   "source": [
    "import numpy as np\n",
    "import cv2\n",
    "\n",
    "im = np.zeros((300, 400), np.uint8)\n",
    "im[:,:] = 200\n",
    "\n",
    "print(im.shape, im.dtype)\n",
    "\n",
    "cv2.imshow('title', im)\n",
    "cv2.waitKey(0)\n",
    "cv2.destroyAllWindows()"
   ]
  },
  {
   "cell_type": "code",
   "execution_count": null,
   "id": "c70a8b9d",
   "metadata": {},
   "outputs": [],
   "source": [
    "import numpy as np\n",
    "import cv2\n",
    "\n",
    "im = np.zeros((300, 400), np.uint8)\n",
    "im[:,:] = 200\n",
    "\n",
    "print(im.shape, im.dtype)\n",
    "\n",
    "cv2.imshow('title', im)\n",
    "cv2.waitKey(0)\n",
    "cv2.destroyAllWindows()"
   ]
  },
  {
   "cell_type": "code",
   "execution_count": 14,
   "id": "886320d8",
   "metadata": {},
   "outputs": [
    {
     "name": "stdout",
     "output_type": "stream",
     "text": [
      "(300, 400) uint8\n"
     ]
    }
   ],
   "source": [
    "import numpy as np\n",
    "import cv2\n",
    "\n",
    "im = np.zeros((300, 400), np.uint8)\n",
    "# im[100:200 ,100] = 255\n",
    "# im[200:300 ,300] = 255\n",
    "# im[100, 100:300] = 255\n",
    "# im[200, 100:300] = 255\n",
    "\n",
    "\n",
    "cv2.rectangle(im, (100, 100), (300, 200), 255, 1)\n",
    "\n",
    "print(im.shape, im.dtype)\n",
    "\n",
    "cv2.imshow('title', im)\n",
    "cv2.waitKey(0)\n",
    "cv2.destroyAllWindows()"
   ]
  },
  {
   "cell_type": "code",
   "execution_count": 18,
   "id": "69c22d41",
   "metadata": {},
   "outputs": [
    {
     "name": "stdout",
     "output_type": "stream",
     "text": [
      "(300, 400, 3) uint8\n"
     ]
    }
   ],
   "source": [
    "import numpy as np\n",
    "import cv2\n",
    "\n",
    "im = np.zeros((300, 400, 3), np.uint8)\n",
    "\n",
    "# im[100:200 ,100] = 255\n",
    "# im[200:300 ,300] = 255\n",
    "# im[100, 100:300] = 255\n",
    "# im[200, 100:300] = 255\n",
    "\n",
    "\n",
    "im[100:200 ,100, 0] = 255\n",
    "im[200:300 ,300, 0] = 255\n",
    "im[100, 100:300, 0] = 255\n",
    "im[200, 100:300, 0] = 255\n",
    "\n",
    "\n",
    "# cv2.rectangle(im, (100, 100), (300, 200), (255, 255, 255) , 1)\n",
    "\n",
    "print(im.shape, im.dtype)\n",
    "\n",
    "cv2.imshow('title', im)\n",
    "cv2.waitKey(0)\n",
    "cv2.destroyAllWindows()"
   ]
  },
  {
   "cell_type": "code",
   "execution_count": 22,
   "id": "18c9ac2c",
   "metadata": {},
   "outputs": [
    {
     "data": {
      "image/png": "[encoded data removed]",
      "text/plain": [
       "<Figure size 640x480 with 1 Axes>"
      ]
     },
     "metadata": {},
     "output_type": "display_data"
    }
   ],
   "source": [
    "import numpy as np\n",
    "import matplotlib.pyplot as plt\n",
    "\n",
    "img = np.zeros((300, 400), dtype=np.uint8)\n",
    "\n",
    "center_x, center_y = 200, 150\n",
    "radius = 50\n",
    "Y, X = np.ogrid[:img.shape[0], :img.shape[1]]\n",
    "\n",
    "dist_from_center = (X - center_x) ** 2 + (Y - center_y) ** 2\n",
    "mask = dist_from_center <= radius ** 2\n",
    "\n",
    "img[mask] = 255\n",
    "\n",
    "plt.imshow(img, cmap='gray')\n",
    "plt.axis('off')\n",
    "plt.show()\n"
   ]
  },
  {
   "cell_type": "code",
   "execution_count": 27,
   "id": "75bd7483",
   "metadata": {},
   "outputs": [
    {
     "name": "stdout",
     "output_type": "stream",
     "text": [
      "(300, 400, 3) uint8\n"
     ]
    }
   ],
   "source": [
    "import numpy as np\n",
    "import cv2\n",
    "\n",
    "img = np.zeros((300, 400, 3), dtype=np.uint8)\n",
    "\n",
    "cv2.rectangle(im, (100, 100), (300, 200), (255, 255, 255) , 1)\n",
    "cv2.circle(img, (200, 150), 50, (255, 255, 255), 1)\n",
    "cv2.putText(img, 'Circle with OpenCV', (10, 20), cv2.FONT_HERSHEY_SIMPLEX, 0.5, (255, 255, 255), 1)\n",
    "\n",
    "print(im.shape, im.dtype)\n",
    "\n",
    "cv2.imshow('hehe', im)\n",
    "cv2.waitKey(0)\n",
    "cv2.destroyAllWindows()"
   ]
  },
  {
   "cell_type": "code",
   "execution_count": null,
   "id": "f78042ee",
   "metadata": {},
   "outputs": [
    {
     "name": "stdout",
     "output_type": "stream",
     "text": [
      "[1, 3, 5, 7, 9] [1 3 5 7 9]\n",
      "[2, 6, 10, 14, 18] [ 2  6 10 14 18]\n"
     ]
    }
   ],
   "source": [
    "import numpy as np\n",
    "\n",
    "ms = [1, 3, 5, 7, 9]\n",
    "ns = np.array(ms)\n",
    "print(ms, ns)\n",
    "\n",
    "for i in range(5):\n",
    "    ms[i] = ms[i] * 2\n",
    "    \n",
    "print(ms, ns*2)"
   ]
  },
  {
   "cell_type": "code",
   "execution_count": 32,
   "id": "8a79df50",
   "metadata": {},
   "outputs": [
    {
     "name": "stdout",
     "output_type": "stream",
     "text": [
      "(300, 400, 3) uint8\n"
     ]
    }
   ],
   "source": [
    "import numpy as np\n",
    "import cv2\n",
    "\n",
    "im = np.zeros((300, 400, 3), np.uint8)\n",
    "im[:100, :200, 0] = 200\n",
    "im[100:200, :200, 1] = 200\n",
    "im[200:300, :200, 2] = 200\n",
    "\n",
    "cv2.rectangle(im, (100,100), (300,200), (255,255,255), 1)\n",
    "cv2.circle(im, (200,150), 100, (255,255,255), 1)\n",
    "cv2.putText(im, \"AI\", (100,100), \n",
    "            cv2.FONT_HERSHEY_PLAIN, 3, \n",
    "            (255,255,255), 2)\n",
    "\n",
    "print(im.shape, im.dtype)\n",
    "\n",
    "cv2.imshow('title', im)\n",
    "cv2.waitKey(0)\n",
    "cv2.destroyAllWindows()"
   ]
  },
  {
   "cell_type": "code",
   "execution_count": null,
   "id": "5a6b4b75",
   "metadata": {},
   "outputs": [],
   "source": []
  }
 ],
 "metadata": {
  "kernelspec": {
   "display_name": "jupyter311",
   "language": "python",
   "name": "python3"
  },
  "language_info": {
   "codemirror_mode": {
    "name": "ipython",
    "version": 3
   },
   "file_extension": ".py",
   "mimetype": "text/x-python",
   "name": "python",
   "nbconvert_exporter": "python",
   "pygments_lexer": "ipython3",
   "version": "3.11.13"
  }
 },
 "nbformat": 4,
 "nbformat_minor": 5
}
