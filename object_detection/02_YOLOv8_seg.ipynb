{
 "cells": [
  {
   "cell_type": "code",
   "execution_count": 5,
   "id": "999df29f",
   "metadata": {},
   "outputs": [
    {
     "name": "stdout",
     "output_type": "stream",
     "text": [
      "\n",
      "image 1/1 C:\\Users\\ai\\Desktop\\object_detection\\vscode_dev\\object_detection\\imgs\\image3.jpg: 384x640 1 banana, 1 apple, 55.6ms\n",
      "Speed: 1.5ms preprocess, 55.6ms inference, 0.8ms postprocess per image at shape (1, 3, 384, 640)\n"
     ]
    }
   ],
   "source": [
    "from ultralytics import YOLO\n",
    "import cv2\n",
    "\n",
    "model = YOLO(\"yolov8n.pt\")  \n",
    "\n",
    "results = model.predict(r'C:\\Users\\ai\\Desktop\\object_detection\\vscode_dev\\object_detection\\imgs\\image3.jpg')\n",
    "\n",
    "for result in results:\n",
    "    cv2.imshow(\"Image\", result.plot())\n",
    "    cv2.waitKey(0)\n",
    "    cv2.destroyAllWindows()"
   ]
  },
  {
   "cell_type": "code",
   "execution_count": 6,
   "id": "3d6723ae",
   "metadata": {},
   "outputs": [
    {
     "name": "stderr",
     "output_type": "stream",
     "text": [
      "Downloading https://github.com/ultralytics/assets/releases/download/v8.3.0/yolov8n-seg.pt to 'yolov8n-seg.pt': 100%|██████████| 6.74M/6.74M [00:01<00:00, 5.12MB/s]\n"
     ]
    },
    {
     "name": "stdout",
     "output_type": "stream",
     "text": [
      "\n",
      "image 1/1 C:\\Users\\ai\\Desktop\\object_detection\\vscode_dev\\object_detection\\imgs\\image3.jpg: 384x640 1 banana, 1 apple, 243.8ms\n",
      "Speed: 2.0ms preprocess, 243.8ms inference, 12.5ms postprocess per image at shape (1, 3, 384, 640)\n"
     ]
    }
   ],
   "source": [
    "from ultralytics import YOLO\n",
    "import cv2\n",
    "\n",
    "model = YOLO(\"yolov8n-seg.pt\")  \n",
    "\n",
    "results = model.predict(r'C:\\Users\\ai\\Desktop\\object_detection\\vscode_dev\\object_detection\\imgs\\image3.jpg')\n",
    "\n",
    "for result in results:\n",
    "    cv2.imshow(\"Image\", result.plot())\n",
    "    cv2.waitKey(0)\n",
    "    cv2.destroyAllWindows()"
   ]
  },
  {
   "cell_type": "code",
   "execution_count": null,
   "id": "a6fa43de",
   "metadata": {},
   "outputs": [],
   "source": []
  }
 ],
 "metadata": {
  "kernelspec": {
   "display_name": "jupyter311",
   "language": "python",
   "name": "python3"
  },
  "language_info": {
   "codemirror_mode": {
    "name": "ipython",
    "version": 3
   },
   "file_extension": ".py",
   "mimetype": "text/x-python",
   "name": "python",
   "nbconvert_exporter": "python",
   "pygments_lexer": "ipython3",
   "version": "3.11.13"
  }
 },
 "nbformat": 4,
 "nbformat_minor": 5
}
